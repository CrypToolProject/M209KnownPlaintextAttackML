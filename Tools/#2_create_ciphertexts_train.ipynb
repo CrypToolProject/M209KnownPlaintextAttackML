{
 "cells": [
  {
   "cell_type": "code",
   "execution_count": 1,
   "metadata": {},
   "outputs": [],
   "source": [
    "import os\n",
    "import random\n",
    "import multiprocessing\n",
    "\n",
    "from _3_encrypt import Encrypt"
   ]
  },
  {
   "cell_type": "code",
   "execution_count": 2,
   "metadata": {},
   "outputs": [],
   "source": [
    "# Configuration parameters\n",
    "\n",
    "NUMBER_OF_FILES = 20\n",
    "NUMBER_OF_OVERLAPS = \"1-12\" # Specifies the range of overlaps to be used in encryption\n",
    "\n",
    "\n",
    "current_directory = os.getcwd()\n",
    "WORKING_DIR = os.path.join(current_directory, \"..\")\n",
    "PATH_DATA = os.path.join(WORKING_DIR, \"Data\") \n",
    "PATH_KEYS = os.path.join(PATH_DATA, \"1_keys_train\")\n",
    "PATH_CIPHERTEXTS = os.path.join(PATH_DATA, \"2_ciphertexts_train\")  # Ensure  directory with ciphertexts used for training exists\n",
    "\n",
    "os.makedirs(PATH_CIPHERTEXTS, exist_ok=True)\n",
    "\n",
    "# Create or ensure the existence of a specific directory for ciphertexts based on the number of overlaps\n",
    "PATH_CIPHERTEXTS = os.path.join(PATH_CIPHERTEXTS, NUMBER_OF_OVERLAPS)\n",
    "\n",
    "os.makedirs(PATH_CIPHERTEXTS, exist_ok=True)\n",
    "\n",
    "# Set the number of CPU cores for multiprocessing\n",
    "#NUMBER_CORS = multiprocessing.cpu_count()\n",
    "NUMBER_CORS = 16\n",
    "INPUT_SIZE = 500 # Set the sequence lenghtes"
   ]
  },
  {
   "cell_type": "code",
   "execution_count": 3,
   "metadata": {},
   "outputs": [
    {
     "name": "stdout",
     "output_type": "stream",
     "text": [
      "['overlaps_1-12.tar.gz']\n",
      "['pins7.tar.gz', 'pins0.tar.gz', 'pins4.tar.gz', 'pins2.tar.gz', 'pins3.tar.gz', 'pins6.tar.gz', 'pins5.tar.gz', 'pins1.tar.gz', 'pins8.tar.gz', 'pins9.tar.gz']\n"
     ]
    }
   ],
   "source": [
    "# Filter and list lug and pin files from the keys directory based on specified criteria\n",
    "\n",
    "lug_files = [f for f in os.listdir(PATH_KEYS) if (NUMBER_OF_OVERLAPS +\".\") in f] \n",
    "lug_files = [f for f in lug_files if \".tar.gz\" in f]\n",
    "pin_files = [f for f in os.listdir(PATH_KEYS) if \"pins\" in f]\n",
    "pin_files = [f for f in pin_files if \".tar.gz\" in f]\n",
    "print (lug_files)\n",
    "print (pin_files)\n"
   ]
  },
  {
   "cell_type": "code",
   "execution_count": 4,
   "metadata": {
    "scrolled": false
   },
   "outputs": [
    {
     "name": "stdout",
     "output_type": "stream",
     "text": [
      "overlaps_1-12.tar.gz\n",
      "pins7.tar.gz\n",
      "pins0.tar.gz\n",
      "pins4.tar.gz\n",
      "pins2.tar.gz\n",
      "pins3.tar.gz\n",
      "pins6.tar.gz\n",
      "pins5.tar.gz\n",
      "pins1.tar.gz\n",
      "pins8.tar.gz\n",
      "pins9.tar.gz\n"
     ]
    }
   ],
   "source": [
    "# Copy lug and pin files to the ciphertexts directory\n",
    "os.chdir(PATH_CIPHERTEXTS)\n",
    "for file in lug_files:\n",
    "    print (file)\n",
    "    os.system(f\"cp {PATH_KEYS +'/' +file} {PATH_CIPHERTEXTS+'/'}\")\n",
    "\n",
    "for file in pin_files:\n",
    "    print (file)\n",
    "    os.system(f\"cp {PATH_KEYS+'/'+file} {PATH_CIPHERTEXTS+'/'}\")"
   ]
  },
  {
   "cell_type": "code",
   "execution_count": 5,
   "metadata": {
    "scrolled": false
   },
   "outputs": [
    {
     "name": "stdout",
     "output_type": "stream",
     "text": [
      "pins7.tar.gz\n",
      "pins0.tar.gz\n",
      "pins4.tar.gz\n",
      "pins2.tar.gz\n",
      "pins3.tar.gz\n",
      "overlaps_1-12.tar.gz\n",
      "pins6.tar.gz\n",
      "pins5.tar.gz\n",
      "pins1.tar.gz\n",
      "pins8.tar.gz\n",
      "pins9.tar.gz\n"
     ]
    }
   ],
   "source": [
    "# Extract the contents of the copied .tar.gz files and then remove the archives\n",
    "\n",
    "os.chdir(PATH_CIPHERTEXTS+'/')\n",
    "\n",
    "for file in os.listdir():\n",
    "    print(file)\n",
    "    os.system(f\"tar -xvzf {file}\")\n",
    "    os.system(f\"rm {file}\")\n"
   ]
  },
  {
   "cell_type": "code",
   "execution_count": 6,
   "metadata": {},
   "outputs": [],
   "source": [
    "# Prepare file paths for lug settings and pin settings by listing them and replicating based on NUMBER_OF_FILES\n",
    "\n",
    "os.chdir(PATH_CIPHERTEXTS)\n",
    "\n",
    "lug_setting_files = [f\"overlaps_{NUMBER_OF_OVERLAPS}/\" + s for s in os.listdir(f\"overlaps_{NUMBER_OF_OVERLAPS}/\")]\n",
    "lug_setting_files = lug_setting_files * NUMBER_OF_FILES\n",
    "\n",
    "pin_folders = [folder for folder in os.listdir() if \"pin\" in folder]\n",
    "\n",
    "pin_setting_files = []\n",
    "for folder in pin_folders:\n",
    "    pin_setting_files += [folder +'/'+ files for files in os.listdir(folder)]"
   ]
  },
  {
   "cell_type": "code",
   "execution_count": 7,
   "metadata": {},
   "outputs": [
    {
     "name": "stdout",
     "output_type": "stream",
     "text": [
      "['pins7/18_pins.json', 'pins7/14_pins.json', 'pins7/08_pins.json', 'pins7/10_pins.json', 'pins7/16_pins.json', 'pins7/01_pins.json', 'pins7/04_pins.json', 'pins7/00_pins.json', 'pins7/06_pins.json', 'pins7/17_pins.json', 'pins7/05_pins.json', 'pins7/09_pins.json', 'pins7/15_pins.json', 'pins7/07_pins.json', 'pins7/03_pins.json', 'pins7/11_pins.json', 'pins7/13_pins.json', 'pins7/02_pins.json', 'pins7/12_pins.json', 'pins7/19_pins.json', 'pins9/18_pins.json', 'pins9/14_pins.json', 'pins9/08_pins.json', 'pins9/10_pins.json', 'pins9/16_pins.json', 'pins9/01_pins.json', 'pins9/04_pins.json', 'pins9/00_pins.json', 'pins9/06_pins.json', 'pins9/17_pins.json', 'pins9/05_pins.json', 'pins9/09_pins.json', 'pins9/15_pins.json', 'pins9/07_pins.json', 'pins9/03_pins.json', 'pins9/11_pins.json', 'pins9/13_pins.json', 'pins9/02_pins.json', 'pins9/12_pins.json', 'pins9/19_pins.json', 'pins3/18_pins.json', 'pins3/14_pins.json', 'pins3/08_pins.json', 'pins3/10_pins.json', 'pins3/16_pins.json', 'pins3/01_pins.json', 'pins3/04_pins.json', 'pins3/00_pins.json', 'pins3/06_pins.json', 'pins3/17_pins.json', 'pins3/05_pins.json', 'pins3/09_pins.json', 'pins3/15_pins.json', 'pins3/07_pins.json', 'pins3/03_pins.json', 'pins3/11_pins.json', 'pins3/13_pins.json', 'pins3/02_pins.json', 'pins3/12_pins.json', 'pins3/19_pins.json', 'pins5/18_pins.json', 'pins5/14_pins.json', 'pins5/08_pins.json', 'pins5/10_pins.json', 'pins5/16_pins.json', 'pins5/01_pins.json', 'pins5/04_pins.json', 'pins5/00_pins.json', 'pins5/06_pins.json', 'pins5/17_pins.json', 'pins5/05_pins.json', 'pins5/09_pins.json', 'pins5/15_pins.json', 'pins5/07_pins.json', 'pins5/03_pins.json', 'pins5/11_pins.json', 'pins5/13_pins.json', 'pins5/02_pins.json', 'pins5/12_pins.json', 'pins5/19_pins.json', 'pins4/18_pins.json', 'pins4/14_pins.json', 'pins4/08_pins.json', 'pins4/10_pins.json', 'pins4/16_pins.json', 'pins4/01_pins.json', 'pins4/04_pins.json', 'pins4/00_pins.json', 'pins4/06_pins.json', 'pins4/17_pins.json', 'pins4/05_pins.json', 'pins4/09_pins.json', 'pins4/15_pins.json', 'pins4/07_pins.json', 'pins4/03_pins.json', 'pins4/11_pins.json', 'pins4/13_pins.json', 'pins4/02_pins.json', 'pins4/12_pins.json', 'pins4/19_pins.json', 'pins1/18_pins.json', 'pins1/14_pins.json', 'pins1/08_pins.json', 'pins1/10_pins.json', 'pins1/16_pins.json', 'pins1/01_pins.json', 'pins1/04_pins.json', 'pins1/00_pins.json', 'pins1/06_pins.json', 'pins1/17_pins.json', 'pins1/05_pins.json', 'pins1/09_pins.json', 'pins1/15_pins.json', 'pins1/07_pins.json', 'pins1/03_pins.json', 'pins1/11_pins.json', 'pins1/13_pins.json', 'pins1/02_pins.json', 'pins1/12_pins.json', 'pins1/19_pins.json', 'pins6/18_pins.json', 'pins6/14_pins.json', 'pins6/08_pins.json', 'pins6/10_pins.json', 'pins6/16_pins.json', 'pins6/01_pins.json', 'pins6/04_pins.json', 'pins6/00_pins.json', 'pins6/06_pins.json', 'pins6/17_pins.json', 'pins6/05_pins.json', 'pins6/09_pins.json', 'pins6/15_pins.json', 'pins6/07_pins.json', 'pins6/03_pins.json', 'pins6/11_pins.json', 'pins6/13_pins.json', 'pins6/02_pins.json', 'pins6/12_pins.json', 'pins6/19_pins.json', 'pins8/18_pins.json', 'pins8/14_pins.json', 'pins8/08_pins.json', 'pins8/10_pins.json', 'pins8/16_pins.json', 'pins8/01_pins.json', 'pins8/04_pins.json', 'pins8/00_pins.json', 'pins8/06_pins.json', 'pins8/17_pins.json', 'pins8/05_pins.json', 'pins8/09_pins.json', 'pins8/15_pins.json', 'pins8/07_pins.json', 'pins8/03_pins.json', 'pins8/11_pins.json', 'pins8/13_pins.json', 'pins8/02_pins.json', 'pins8/12_pins.json', 'pins8/19_pins.json', 'pins0/18_pins.json', 'pins0/14_pins.json', 'pins0/08_pins.json', 'pins0/10_pins.json', 'pins0/16_pins.json', 'pins0/01_pins.json', 'pins0/04_pins.json', 'pins0/00_pins.json', 'pins0/06_pins.json', 'pins0/17_pins.json', 'pins0/05_pins.json', 'pins0/09_pins.json', 'pins0/15_pins.json', 'pins0/07_pins.json', 'pins0/03_pins.json', 'pins0/11_pins.json', 'pins0/13_pins.json', 'pins0/02_pins.json', 'pins0/12_pins.json', 'pins0/19_pins.json', 'pins2/18_pins.json', 'pins2/14_pins.json', 'pins2/08_pins.json', 'pins2/10_pins.json', 'pins2/16_pins.json', 'pins2/01_pins.json', 'pins2/04_pins.json', 'pins2/00_pins.json', 'pins2/06_pins.json', 'pins2/17_pins.json', 'pins2/05_pins.json', 'pins2/09_pins.json', 'pins2/15_pins.json', 'pins2/07_pins.json', 'pins2/03_pins.json', 'pins2/11_pins.json', 'pins2/13_pins.json', 'pins2/02_pins.json', 'pins2/12_pins.json', 'pins2/19_pins.json']\n"
     ]
    }
   ],
   "source": [
    "print (pin_setting_files)"
   ]
  },
  {
   "cell_type": "code",
   "execution_count": 8,
   "metadata": {},
   "outputs": [
    {
     "name": "stdout",
     "output_type": "stream",
     "text": [
      "['overlaps_1-12/00_lugs_1-12.json', 'overlaps_1-12/07_lugs_1-12.json', 'overlaps_1-12/15_lugs_1-12.json', 'overlaps_1-12/08_lugs_1-12.json', 'overlaps_1-12/19_lugs_1-12.json', 'overlaps_1-12/13_lugs_1-12.json', 'overlaps_1-12/05_lugs_1-12.json', 'overlaps_1-12/04_lugs_1-12.json', 'overlaps_1-12/09_lugs_1-12.json', 'overlaps_1-12/01_lugs_1-12.json', 'overlaps_1-12/11_lugs_1-12.json', 'overlaps_1-12/06_lugs_1-12.json', 'overlaps_1-12/10_lugs_1-12.json', 'overlaps_1-12/14_lugs_1-12.json', 'overlaps_1-12/03_lugs_1-12.json', 'overlaps_1-12/16_lugs_1-12.json', 'overlaps_1-12/02_lugs_1-12.json', 'overlaps_1-12/17_lugs_1-12.json', 'overlaps_1-12/18_lugs_1-12.json', 'overlaps_1-12/12_lugs_1-12.json', 'overlaps_1-12/00_lugs_1-12.json', 'overlaps_1-12/07_lugs_1-12.json', 'overlaps_1-12/15_lugs_1-12.json', 'overlaps_1-12/08_lugs_1-12.json', 'overlaps_1-12/19_lugs_1-12.json', 'overlaps_1-12/13_lugs_1-12.json', 'overlaps_1-12/05_lugs_1-12.json', 'overlaps_1-12/04_lugs_1-12.json', 'overlaps_1-12/09_lugs_1-12.json', 'overlaps_1-12/01_lugs_1-12.json', 'overlaps_1-12/11_lugs_1-12.json', 'overlaps_1-12/06_lugs_1-12.json', 'overlaps_1-12/10_lugs_1-12.json', 'overlaps_1-12/14_lugs_1-12.json', 'overlaps_1-12/03_lugs_1-12.json', 'overlaps_1-12/16_lugs_1-12.json', 'overlaps_1-12/02_lugs_1-12.json', 'overlaps_1-12/17_lugs_1-12.json', 'overlaps_1-12/18_lugs_1-12.json', 'overlaps_1-12/12_lugs_1-12.json', 'overlaps_1-12/00_lugs_1-12.json', 'overlaps_1-12/07_lugs_1-12.json', 'overlaps_1-12/15_lugs_1-12.json', 'overlaps_1-12/08_lugs_1-12.json', 'overlaps_1-12/19_lugs_1-12.json', 'overlaps_1-12/13_lugs_1-12.json', 'overlaps_1-12/05_lugs_1-12.json', 'overlaps_1-12/04_lugs_1-12.json', 'overlaps_1-12/09_lugs_1-12.json', 'overlaps_1-12/01_lugs_1-12.json', 'overlaps_1-12/11_lugs_1-12.json', 'overlaps_1-12/06_lugs_1-12.json', 'overlaps_1-12/10_lugs_1-12.json', 'overlaps_1-12/14_lugs_1-12.json', 'overlaps_1-12/03_lugs_1-12.json', 'overlaps_1-12/16_lugs_1-12.json', 'overlaps_1-12/02_lugs_1-12.json', 'overlaps_1-12/17_lugs_1-12.json', 'overlaps_1-12/18_lugs_1-12.json', 'overlaps_1-12/12_lugs_1-12.json', 'overlaps_1-12/00_lugs_1-12.json', 'overlaps_1-12/07_lugs_1-12.json', 'overlaps_1-12/15_lugs_1-12.json', 'overlaps_1-12/08_lugs_1-12.json', 'overlaps_1-12/19_lugs_1-12.json', 'overlaps_1-12/13_lugs_1-12.json', 'overlaps_1-12/05_lugs_1-12.json', 'overlaps_1-12/04_lugs_1-12.json', 'overlaps_1-12/09_lugs_1-12.json', 'overlaps_1-12/01_lugs_1-12.json', 'overlaps_1-12/11_lugs_1-12.json', 'overlaps_1-12/06_lugs_1-12.json', 'overlaps_1-12/10_lugs_1-12.json', 'overlaps_1-12/14_lugs_1-12.json', 'overlaps_1-12/03_lugs_1-12.json', 'overlaps_1-12/16_lugs_1-12.json', 'overlaps_1-12/02_lugs_1-12.json', 'overlaps_1-12/17_lugs_1-12.json', 'overlaps_1-12/18_lugs_1-12.json', 'overlaps_1-12/12_lugs_1-12.json', 'overlaps_1-12/00_lugs_1-12.json', 'overlaps_1-12/07_lugs_1-12.json', 'overlaps_1-12/15_lugs_1-12.json', 'overlaps_1-12/08_lugs_1-12.json', 'overlaps_1-12/19_lugs_1-12.json', 'overlaps_1-12/13_lugs_1-12.json', 'overlaps_1-12/05_lugs_1-12.json', 'overlaps_1-12/04_lugs_1-12.json', 'overlaps_1-12/09_lugs_1-12.json', 'overlaps_1-12/01_lugs_1-12.json', 'overlaps_1-12/11_lugs_1-12.json', 'overlaps_1-12/06_lugs_1-12.json', 'overlaps_1-12/10_lugs_1-12.json', 'overlaps_1-12/14_lugs_1-12.json', 'overlaps_1-12/03_lugs_1-12.json', 'overlaps_1-12/16_lugs_1-12.json', 'overlaps_1-12/02_lugs_1-12.json', 'overlaps_1-12/17_lugs_1-12.json', 'overlaps_1-12/18_lugs_1-12.json', 'overlaps_1-12/12_lugs_1-12.json', 'overlaps_1-12/00_lugs_1-12.json', 'overlaps_1-12/07_lugs_1-12.json', 'overlaps_1-12/15_lugs_1-12.json', 'overlaps_1-12/08_lugs_1-12.json', 'overlaps_1-12/19_lugs_1-12.json', 'overlaps_1-12/13_lugs_1-12.json', 'overlaps_1-12/05_lugs_1-12.json', 'overlaps_1-12/04_lugs_1-12.json', 'overlaps_1-12/09_lugs_1-12.json', 'overlaps_1-12/01_lugs_1-12.json', 'overlaps_1-12/11_lugs_1-12.json', 'overlaps_1-12/06_lugs_1-12.json', 'overlaps_1-12/10_lugs_1-12.json', 'overlaps_1-12/14_lugs_1-12.json', 'overlaps_1-12/03_lugs_1-12.json', 'overlaps_1-12/16_lugs_1-12.json', 'overlaps_1-12/02_lugs_1-12.json', 'overlaps_1-12/17_lugs_1-12.json', 'overlaps_1-12/18_lugs_1-12.json', 'overlaps_1-12/12_lugs_1-12.json', 'overlaps_1-12/00_lugs_1-12.json', 'overlaps_1-12/07_lugs_1-12.json', 'overlaps_1-12/15_lugs_1-12.json', 'overlaps_1-12/08_lugs_1-12.json', 'overlaps_1-12/19_lugs_1-12.json', 'overlaps_1-12/13_lugs_1-12.json', 'overlaps_1-12/05_lugs_1-12.json', 'overlaps_1-12/04_lugs_1-12.json', 'overlaps_1-12/09_lugs_1-12.json', 'overlaps_1-12/01_lugs_1-12.json', 'overlaps_1-12/11_lugs_1-12.json', 'overlaps_1-12/06_lugs_1-12.json', 'overlaps_1-12/10_lugs_1-12.json', 'overlaps_1-12/14_lugs_1-12.json', 'overlaps_1-12/03_lugs_1-12.json', 'overlaps_1-12/16_lugs_1-12.json', 'overlaps_1-12/02_lugs_1-12.json', 'overlaps_1-12/17_lugs_1-12.json', 'overlaps_1-12/18_lugs_1-12.json', 'overlaps_1-12/12_lugs_1-12.json', 'overlaps_1-12/00_lugs_1-12.json', 'overlaps_1-12/07_lugs_1-12.json', 'overlaps_1-12/15_lugs_1-12.json', 'overlaps_1-12/08_lugs_1-12.json', 'overlaps_1-12/19_lugs_1-12.json', 'overlaps_1-12/13_lugs_1-12.json', 'overlaps_1-12/05_lugs_1-12.json', 'overlaps_1-12/04_lugs_1-12.json', 'overlaps_1-12/09_lugs_1-12.json', 'overlaps_1-12/01_lugs_1-12.json', 'overlaps_1-12/11_lugs_1-12.json', 'overlaps_1-12/06_lugs_1-12.json', 'overlaps_1-12/10_lugs_1-12.json', 'overlaps_1-12/14_lugs_1-12.json', 'overlaps_1-12/03_lugs_1-12.json', 'overlaps_1-12/16_lugs_1-12.json', 'overlaps_1-12/02_lugs_1-12.json', 'overlaps_1-12/17_lugs_1-12.json', 'overlaps_1-12/18_lugs_1-12.json', 'overlaps_1-12/12_lugs_1-12.json', 'overlaps_1-12/00_lugs_1-12.json', 'overlaps_1-12/07_lugs_1-12.json', 'overlaps_1-12/15_lugs_1-12.json', 'overlaps_1-12/08_lugs_1-12.json', 'overlaps_1-12/19_lugs_1-12.json', 'overlaps_1-12/13_lugs_1-12.json', 'overlaps_1-12/05_lugs_1-12.json', 'overlaps_1-12/04_lugs_1-12.json', 'overlaps_1-12/09_lugs_1-12.json', 'overlaps_1-12/01_lugs_1-12.json', 'overlaps_1-12/11_lugs_1-12.json', 'overlaps_1-12/06_lugs_1-12.json', 'overlaps_1-12/10_lugs_1-12.json', 'overlaps_1-12/14_lugs_1-12.json', 'overlaps_1-12/03_lugs_1-12.json', 'overlaps_1-12/16_lugs_1-12.json', 'overlaps_1-12/02_lugs_1-12.json', 'overlaps_1-12/17_lugs_1-12.json', 'overlaps_1-12/18_lugs_1-12.json', 'overlaps_1-12/12_lugs_1-12.json', 'overlaps_1-12/00_lugs_1-12.json', 'overlaps_1-12/07_lugs_1-12.json', 'overlaps_1-12/15_lugs_1-12.json', 'overlaps_1-12/08_lugs_1-12.json', 'overlaps_1-12/19_lugs_1-12.json', 'overlaps_1-12/13_lugs_1-12.json', 'overlaps_1-12/05_lugs_1-12.json', 'overlaps_1-12/04_lugs_1-12.json', 'overlaps_1-12/09_lugs_1-12.json', 'overlaps_1-12/01_lugs_1-12.json', 'overlaps_1-12/11_lugs_1-12.json', 'overlaps_1-12/06_lugs_1-12.json', 'overlaps_1-12/10_lugs_1-12.json', 'overlaps_1-12/14_lugs_1-12.json', 'overlaps_1-12/03_lugs_1-12.json', 'overlaps_1-12/16_lugs_1-12.json', 'overlaps_1-12/02_lugs_1-12.json', 'overlaps_1-12/17_lugs_1-12.json', 'overlaps_1-12/18_lugs_1-12.json', 'overlaps_1-12/12_lugs_1-12.json', 'overlaps_1-12/00_lugs_1-12.json', 'overlaps_1-12/07_lugs_1-12.json', 'overlaps_1-12/15_lugs_1-12.json', 'overlaps_1-12/08_lugs_1-12.json', 'overlaps_1-12/19_lugs_1-12.json', 'overlaps_1-12/13_lugs_1-12.json', 'overlaps_1-12/05_lugs_1-12.json', 'overlaps_1-12/04_lugs_1-12.json', 'overlaps_1-12/09_lugs_1-12.json', 'overlaps_1-12/01_lugs_1-12.json', 'overlaps_1-12/11_lugs_1-12.json', 'overlaps_1-12/06_lugs_1-12.json', 'overlaps_1-12/10_lugs_1-12.json', 'overlaps_1-12/14_lugs_1-12.json', 'overlaps_1-12/03_lugs_1-12.json', 'overlaps_1-12/16_lugs_1-12.json', 'overlaps_1-12/02_lugs_1-12.json', 'overlaps_1-12/17_lugs_1-12.json', 'overlaps_1-12/18_lugs_1-12.json', 'overlaps_1-12/12_lugs_1-12.json', 'overlaps_1-12/00_lugs_1-12.json', 'overlaps_1-12/07_lugs_1-12.json', 'overlaps_1-12/15_lugs_1-12.json', 'overlaps_1-12/08_lugs_1-12.json', 'overlaps_1-12/19_lugs_1-12.json', 'overlaps_1-12/13_lugs_1-12.json', 'overlaps_1-12/05_lugs_1-12.json', 'overlaps_1-12/04_lugs_1-12.json', 'overlaps_1-12/09_lugs_1-12.json', 'overlaps_1-12/01_lugs_1-12.json', 'overlaps_1-12/11_lugs_1-12.json', 'overlaps_1-12/06_lugs_1-12.json', 'overlaps_1-12/10_lugs_1-12.json', 'overlaps_1-12/14_lugs_1-12.json', 'overlaps_1-12/03_lugs_1-12.json', 'overlaps_1-12/16_lugs_1-12.json', 'overlaps_1-12/02_lugs_1-12.json', 'overlaps_1-12/17_lugs_1-12.json', 'overlaps_1-12/18_lugs_1-12.json', 'overlaps_1-12/12_lugs_1-12.json', 'overlaps_1-12/00_lugs_1-12.json', 'overlaps_1-12/07_lugs_1-12.json', 'overlaps_1-12/15_lugs_1-12.json', 'overlaps_1-12/08_lugs_1-12.json', 'overlaps_1-12/19_lugs_1-12.json', 'overlaps_1-12/13_lugs_1-12.json', 'overlaps_1-12/05_lugs_1-12.json', 'overlaps_1-12/04_lugs_1-12.json', 'overlaps_1-12/09_lugs_1-12.json', 'overlaps_1-12/01_lugs_1-12.json', 'overlaps_1-12/11_lugs_1-12.json', 'overlaps_1-12/06_lugs_1-12.json', 'overlaps_1-12/10_lugs_1-12.json', 'overlaps_1-12/14_lugs_1-12.json', 'overlaps_1-12/03_lugs_1-12.json', 'overlaps_1-12/16_lugs_1-12.json', 'overlaps_1-12/02_lugs_1-12.json', 'overlaps_1-12/17_lugs_1-12.json', 'overlaps_1-12/18_lugs_1-12.json', 'overlaps_1-12/12_lugs_1-12.json', 'overlaps_1-12/00_lugs_1-12.json', 'overlaps_1-12/07_lugs_1-12.json', 'overlaps_1-12/15_lugs_1-12.json', 'overlaps_1-12/08_lugs_1-12.json', 'overlaps_1-12/19_lugs_1-12.json', 'overlaps_1-12/13_lugs_1-12.json', 'overlaps_1-12/05_lugs_1-12.json', 'overlaps_1-12/04_lugs_1-12.json', 'overlaps_1-12/09_lugs_1-12.json', 'overlaps_1-12/01_lugs_1-12.json', 'overlaps_1-12/11_lugs_1-12.json', 'overlaps_1-12/06_lugs_1-12.json', 'overlaps_1-12/10_lugs_1-12.json', 'overlaps_1-12/14_lugs_1-12.json', 'overlaps_1-12/03_lugs_1-12.json', 'overlaps_1-12/16_lugs_1-12.json', 'overlaps_1-12/02_lugs_1-12.json', 'overlaps_1-12/17_lugs_1-12.json', 'overlaps_1-12/18_lugs_1-12.json', 'overlaps_1-12/12_lugs_1-12.json', 'overlaps_1-12/00_lugs_1-12.json', 'overlaps_1-12/07_lugs_1-12.json', 'overlaps_1-12/15_lugs_1-12.json', 'overlaps_1-12/08_lugs_1-12.json', 'overlaps_1-12/19_lugs_1-12.json', 'overlaps_1-12/13_lugs_1-12.json', 'overlaps_1-12/05_lugs_1-12.json', 'overlaps_1-12/04_lugs_1-12.json', 'overlaps_1-12/09_lugs_1-12.json', 'overlaps_1-12/01_lugs_1-12.json', 'overlaps_1-12/11_lugs_1-12.json', 'overlaps_1-12/06_lugs_1-12.json', 'overlaps_1-12/10_lugs_1-12.json', 'overlaps_1-12/14_lugs_1-12.json', 'overlaps_1-12/03_lugs_1-12.json', 'overlaps_1-12/16_lugs_1-12.json', 'overlaps_1-12/02_lugs_1-12.json', 'overlaps_1-12/17_lugs_1-12.json', 'overlaps_1-12/18_lugs_1-12.json', 'overlaps_1-12/12_lugs_1-12.json', 'overlaps_1-12/00_lugs_1-12.json', 'overlaps_1-12/07_lugs_1-12.json', 'overlaps_1-12/15_lugs_1-12.json', 'overlaps_1-12/08_lugs_1-12.json', 'overlaps_1-12/19_lugs_1-12.json', 'overlaps_1-12/13_lugs_1-12.json', 'overlaps_1-12/05_lugs_1-12.json', 'overlaps_1-12/04_lugs_1-12.json', 'overlaps_1-12/09_lugs_1-12.json', 'overlaps_1-12/01_lugs_1-12.json', 'overlaps_1-12/11_lugs_1-12.json', 'overlaps_1-12/06_lugs_1-12.json', 'overlaps_1-12/10_lugs_1-12.json', 'overlaps_1-12/14_lugs_1-12.json', 'overlaps_1-12/03_lugs_1-12.json', 'overlaps_1-12/16_lugs_1-12.json', 'overlaps_1-12/02_lugs_1-12.json', 'overlaps_1-12/17_lugs_1-12.json', 'overlaps_1-12/18_lugs_1-12.json', 'overlaps_1-12/12_lugs_1-12.json', 'overlaps_1-12/00_lugs_1-12.json', 'overlaps_1-12/07_lugs_1-12.json', 'overlaps_1-12/15_lugs_1-12.json', 'overlaps_1-12/08_lugs_1-12.json', 'overlaps_1-12/19_lugs_1-12.json', 'overlaps_1-12/13_lugs_1-12.json', 'overlaps_1-12/05_lugs_1-12.json', 'overlaps_1-12/04_lugs_1-12.json', 'overlaps_1-12/09_lugs_1-12.json', 'overlaps_1-12/01_lugs_1-12.json', 'overlaps_1-12/11_lugs_1-12.json', 'overlaps_1-12/06_lugs_1-12.json', 'overlaps_1-12/10_lugs_1-12.json', 'overlaps_1-12/14_lugs_1-12.json', 'overlaps_1-12/03_lugs_1-12.json', 'overlaps_1-12/16_lugs_1-12.json', 'overlaps_1-12/02_lugs_1-12.json', 'overlaps_1-12/17_lugs_1-12.json', 'overlaps_1-12/18_lugs_1-12.json', 'overlaps_1-12/12_lugs_1-12.json', 'overlaps_1-12/00_lugs_1-12.json', 'overlaps_1-12/07_lugs_1-12.json', 'overlaps_1-12/15_lugs_1-12.json', 'overlaps_1-12/08_lugs_1-12.json', 'overlaps_1-12/19_lugs_1-12.json', 'overlaps_1-12/13_lugs_1-12.json', 'overlaps_1-12/05_lugs_1-12.json', 'overlaps_1-12/04_lugs_1-12.json', 'overlaps_1-12/09_lugs_1-12.json', 'overlaps_1-12/01_lugs_1-12.json', 'overlaps_1-12/11_lugs_1-12.json', 'overlaps_1-12/06_lugs_1-12.json', 'overlaps_1-12/10_lugs_1-12.json', 'overlaps_1-12/14_lugs_1-12.json', 'overlaps_1-12/03_lugs_1-12.json', 'overlaps_1-12/16_lugs_1-12.json', 'overlaps_1-12/02_lugs_1-12.json', 'overlaps_1-12/17_lugs_1-12.json', 'overlaps_1-12/18_lugs_1-12.json', 'overlaps_1-12/12_lugs_1-12.json', 'overlaps_1-12/00_lugs_1-12.json', 'overlaps_1-12/07_lugs_1-12.json', 'overlaps_1-12/15_lugs_1-12.json', 'overlaps_1-12/08_lugs_1-12.json', 'overlaps_1-12/19_lugs_1-12.json', 'overlaps_1-12/13_lugs_1-12.json', 'overlaps_1-12/05_lugs_1-12.json', 'overlaps_1-12/04_lugs_1-12.json', 'overlaps_1-12/09_lugs_1-12.json', 'overlaps_1-12/01_lugs_1-12.json', 'overlaps_1-12/11_lugs_1-12.json', 'overlaps_1-12/06_lugs_1-12.json', 'overlaps_1-12/10_lugs_1-12.json', 'overlaps_1-12/14_lugs_1-12.json', 'overlaps_1-12/03_lugs_1-12.json', 'overlaps_1-12/16_lugs_1-12.json', 'overlaps_1-12/02_lugs_1-12.json', 'overlaps_1-12/17_lugs_1-12.json', 'overlaps_1-12/18_lugs_1-12.json', 'overlaps_1-12/12_lugs_1-12.json', 'overlaps_1-12/00_lugs_1-12.json', 'overlaps_1-12/07_lugs_1-12.json', 'overlaps_1-12/15_lugs_1-12.json', 'overlaps_1-12/08_lugs_1-12.json', 'overlaps_1-12/19_lugs_1-12.json', 'overlaps_1-12/13_lugs_1-12.json', 'overlaps_1-12/05_lugs_1-12.json', 'overlaps_1-12/04_lugs_1-12.json', 'overlaps_1-12/09_lugs_1-12.json', 'overlaps_1-12/01_lugs_1-12.json', 'overlaps_1-12/11_lugs_1-12.json', 'overlaps_1-12/06_lugs_1-12.json', 'overlaps_1-12/10_lugs_1-12.json', 'overlaps_1-12/14_lugs_1-12.json', 'overlaps_1-12/03_lugs_1-12.json', 'overlaps_1-12/16_lugs_1-12.json', 'overlaps_1-12/02_lugs_1-12.json', 'overlaps_1-12/17_lugs_1-12.json', 'overlaps_1-12/18_lugs_1-12.json', 'overlaps_1-12/12_lugs_1-12.json']\n"
     ]
    }
   ],
   "source": [
    "print (lug_setting_files)"
   ]
  },
  {
   "cell_type": "code",
   "execution_count": null,
   "metadata": {},
   "outputs": [],
   "source": [
    "os.chdir(PATH_CIPHERTEXTS+\"/\")\n",
    "# Shuffle the lists of lug and pin setting files to randomize the encryption process\n",
    "random.shuffle(lug_setting_files)\n",
    "random.shuffle(pin_setting_files)\n",
    "\n",
    "# Pair each lug setting file with a pin setting file\n",
    "files = list(zip(lug_setting_files, pin_setting_files))\n",
    "print (files)\n",
    "\n",
    "# Initialize the Encrypt class with specified parameters\n",
    "m209 = Encrypt(destin_path=\"\", count_a=500,\n",
    "               append_ciphertext=False,\n",
    "               append_plaintext=False,\n",
    "               append_keystream=True,\n",
    "               append_lugs=True,\n",
    "               append_pins=True)\n",
    "\n",
    "# Define a function to load keys and perform encryption using multiprocessing\n",
    "def generate_data(x):\n",
    "    print(f\"working with {x}\")\n",
    "    filename, i = x\n",
    "    m209.load_keys(filename, filetype=\"pins_n_lugs\")\n",
    "    m209.set_int_msg_ind(\"AAAAAA\")\n",
    "    m209.encrypt(f\"{str(i).zfill(len(str(len(files)-1)))}\")\n",
    "\n",
    "# Use multiprocessing to encrypt data using the paired lug and pin setting files\n",
    "with multiprocessing.Pool(NUMBER_CORS) as pool:\n",
    "    for _ in pool.imap(generate_data, [(files[i], i) for i in range(len(files))]):\n",
    "        pass"
   ]
  },
  {
   "cell_type": "code",
   "execution_count": 10,
   "metadata": {},
   "outputs": [],
   "source": [
    "# Clean up the directory by removing extracted lug and pin folders\n",
    "os.chdir(PATH_CIPHERTEXTS)\n",
    "for x in [f\"rm -r -f {i}\" for i in os.listdir() if \"pins\" in i]:\n",
    "    os.system(x)\n",
    "\n",
    "for x in [f\"rm -r -f {i}\" for i in os.listdir() if \"overlaps\" in i]:\n",
    "    os.system(x)"
   ]
  },
  {
   "cell_type": "code",
   "execution_count": 12,
   "metadata": {},
   "outputs": [],
   "source": [
    "# Rename the generated files to include the number of overlaps in their name\n",
    "os.chdir(PATH_CIPHERTEXTS)\n",
    "for x in [f\"mv {i} {i.split('.')[0]+'_'+NUMBER_OF_OVERLAPS}.json\" for i in os.listdir()]:\n",
    "    os.system(x)"
   ]
  },
  {
   "cell_type": "code",
   "execution_count": null,
   "metadata": {},
   "outputs": [],
   "source": []
  }
 ],
 "metadata": {
  "kernelspec": {
   "display_name": "Python 3",
   "language": "python",
   "name": "python3"
  },
  "language_info": {
   "codemirror_mode": {
    "name": "ipython",
    "version": 3
   },
   "file_extension": ".py",
   "mimetype": "text/x-python",
   "name": "python",
   "nbconvert_exporter": "python",
   "pygments_lexer": "ipython3",
   "version": "3.6.13"
  }
 },
 "nbformat": 4,
 "nbformat_minor": 1
}
