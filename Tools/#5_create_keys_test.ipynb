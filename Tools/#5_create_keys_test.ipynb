{
 "cells": [
  {
   "cell_type": "code",
   "execution_count": 1,
   "metadata": {},
   "outputs": [],
   "source": [
    "# Import necessary libraries\n",
    "import multiprocessing\n",
    "import os\n",
    "import tqdm\n",
    "\n",
    "from _1_keygen_json import KeyGen #  module for key generation"
   ]
  },
  {
   "cell_type": "code",
   "execution_count": 2,
   "metadata": {},
   "outputs": [],
   "source": [
    "# Configuration parameters\n",
    "\n",
    "keys_per_file = 1000\n",
    "num_key_files = 20\n",
    "\n",
    "NUMBER_CORS = 16 # Number of CPU cores to use for multiprocessing\n",
    "\n",
    "# Define directory paths for storing generated data\n",
    "current_directory = os.getcwd()\n",
    "WORKING_DIR = os.path.join(current_directory, \"..\")\n",
    "PATH_DATA = os.path.join(WORKING_DIR, \"Data\") \n",
    "PATH_KEYS = os.path.join(PATH_DATA, \"1_keys_test\")\n",
    "PATH_LUGS= os.path.join(PATH_KEYS, \"lugs\")\n",
    "PATH_SORTED_LUGS= os.path.join(PATH_KEYS, \"lugs_sorted\")\n",
    "\n",
    "# Ensure the existence of the directories\n",
    "os.makedirs(PATH_KEYS, exist_ok=True)\n",
    "os.makedirs(PATH_LUGS, exist_ok=True)\n",
    "os.makedirs(PATH_SORTED_LUGS, exist_ok=True)\n"
   ]
  },
  {
   "cell_type": "code",
   "execution_count": 3,
   "metadata": {},
   "outputs": [
    {
     "name": "stdout",
     "output_type": "stream",
     "text": [
      "\n",
      "\n",
      "Generating random keys\n"
     ]
    }
   ],
   "source": [
    "# Begin generation of random keys\n",
    "print(\"\\n\\nGenerating random keys\")\n",
    "key_generator = KeyGen(count=int(keys_per_file))"
   ]
  },
  {
   "cell_type": "code",
   "execution_count": null,
   "metadata": {},
   "outputs": [],
   "source": [
    "# Change the working directory to where lugs will be stored\n",
    "os.chdir(PATH_LUGS)\n",
    "# Generate lug settings with varying overlaps\n",
    "for i in range(1, 13):\n",
    "    print(f\"Generating lug settings with {i} overlap\")\n",
    "    if (i == 5): # Increase the number of key files significantly for keys with more overlaps\n",
    "        num_key_files=num_key_files*20\n",
    "        \n",
    "    key_generator.path = f\"overlaps_{str(i)}/\" \n",
    "    try:\n",
    "        os.mkdir(key_generator.path)\n",
    "    except FileExistsError as err:\n",
    "        pass # Ignore if the directory already exists\n",
    "    key_generator.min_overlaps = i\n",
    "    key_generator.max_overlaps = i\n",
    "    filenames = list(str(j).zfill(len(str(num_key_files - 1))) + f'_lugs_{str(i)}.json'\n",
    "                     for j in range(num_key_files))\n",
    "\n",
    "\n",
    "# Use multiprocessing to generate keys for the specified filenames\n",
    "    with multiprocessing.Pool(NUMBER_CORS) as pool:\n",
    "        for _ in tqdm.tqdm(pool.imap(key_generator.keygen_json_lugs, filenames),total=num_key_files):\n",
    "           pass"
   ]
  },
  {
   "cell_type": "code",
   "execution_count": null,
   "metadata": {},
   "outputs": [
    {
     "name": "stdout",
     "output_type": "stream",
     "text": [
      "Generating lug settings with 1 to 12 overlap\n"
     ]
    },
    {
     "name": "stderr",
     "output_type": "stream",
     "text": [
      "  8%|▊         | 17/200 [06:27<5:15:15, 103.36s/it]"
     ]
    }
   ],
   "source": [
    "# Generate lug settings with 1 to max overlap\n",
    "os.chdir(PATH_LUGS)\n",
    "num_key_files=200\n",
    "key_generator = KeyGen(count=int(40000))\n",
    "for i in range(12, 13):\n",
    "    print(f\"Generating lug settings with 1 to {i} overlap\")\n",
    "    key_generator.path = f\"overlaps_1-{str(i)}/\"\n",
    "    try:\n",
    "        os.mkdir(key_generator.path)\n",
    "    except FileExistsError as err:\n",
    "        pass\n",
    "    key_generator.min_overlaps = 1\n",
    "    key_generator.max_overlaps = i\n",
    "    filenames = list(str(j).zfill(len(str(num_key_files - 1))) + f'_lugs_1-{str(i)}.json'\n",
    "                     for j in range(num_key_files))\n",
    "\n",
    "    with multiprocessing.Pool(NUMBER_CORS) as pool:\n",
    "        for _ in tqdm.tqdm(pool.imap(key_generator.keygen_json_lugs, filenames), total=num_key_files):\n",
    "            pass\n",
    "        \n",
    "# Reset configuration parameters for pins generation        \n",
    "keys_per_file = 1000\n",
    "num_key_files = 20\n"
   ]
  },
  {
   "cell_type": "code",
   "execution_count": 64,
   "metadata": {},
   "outputs": [
    {
     "name": "stdout",
     "output_type": "stream",
     "text": [
      "Saved 10000 sequences to /home/cryptool/vasily/M209/m-209-cryptanalysis-main_updated/dataset_500/1_keys_test/Non-shared=4_Overlaps=1.json\n",
      "Saved 10000 sequences to /home/cryptool/vasily/M209/m-209-cryptanalysis-main_updated/dataset_500/1_keys_test/Non-shared=0_Overlaps=2.json\n",
      "Saved 10000 sequences to /home/cryptool/vasily/M209/m-209-cryptanalysis-main_updated/dataset_500/1_keys_test/Non-shared=1_Overlaps=2.json\n",
      "Saved 10000 sequences to /home/cryptool/vasily/M209/m-209-cryptanalysis-main_updated/dataset_500/1_keys_test/Non-shared=1_Overlaps=1.json\n",
      "Saved 10000 sequences to /home/cryptool/vasily/M209/m-209-cryptanalysis-main_updated/dataset_500/1_keys_test/Non-shared=2_Overlaps=0.json\n",
      "Saved 10000 sequences to /home/cryptool/vasily/M209/m-209-cryptanalysis-main_updated/dataset_500/1_keys_test/Non-shared=1_Overlaps=0.json\n",
      "Saved 10000 sequences to /home/cryptool/vasily/M209/m-209-cryptanalysis-main_updated/dataset_500/1_keys_test/Non-shared=0_Overlaps=1.json\n",
      "Saved 7498 sequences to /home/cryptool/vasily/M209/m-209-cryptanalysis-main_updated/dataset_500/1_keys_test/Non-shared=5_Overlaps=1.json\n",
      "Saved 10000 sequences to /home/cryptool/vasily/M209/m-209-cryptanalysis-main_updated/dataset_500/1_keys_test/Non-shared=2_Overlaps=3.json\n",
      "Saved 10000 sequences to /home/cryptool/vasily/M209/m-209-cryptanalysis-main_updated/dataset_500/1_keys_test/Non-shared=10_Overlaps=3.json\n",
      "Saved 10000 sequences to /home/cryptool/vasily/M209/m-209-cryptanalysis-main_updated/dataset_500/1_keys_test/Non-shared=1_Overlaps=3.json\n",
      "Saved 10000 sequences to /home/cryptool/vasily/M209/m-209-cryptanalysis-main_updated/dataset_500/1_keys_test/Non-shared=0_Overlaps=3.json\n",
      "Saved 10000 sequences to /home/cryptool/vasily/M209/m-209-cryptanalysis-main_updated/dataset_500/1_keys_test/Non-shared=9_Overlaps=2.json\n",
      "Saved 7369 sequences to /home/cryptool/vasily/M209/m-209-cryptanalysis-main_updated/dataset_500/1_keys_test/Non-shared=8_Overlaps=0.json\n",
      "Saved 10000 sequences to /home/cryptool/vasily/M209/m-209-cryptanalysis-main_updated/dataset_500/1_keys_test/Non-shared=11_Overlaps=2.json\n",
      "Saved 10000 sequences to /home/cryptool/vasily/M209/m-209-cryptanalysis-main_updated/dataset_500/1_keys_test/Non-shared=5_Overlaps=2.json\n",
      "Saved 10000 sequences to /home/cryptool/vasily/M209/m-209-cryptanalysis-main_updated/dataset_500/1_keys_test/Non-shared=3_Overlaps=3.json\n",
      "Saved 10000 sequences to /home/cryptool/vasily/M209/m-209-cryptanalysis-main_updated/dataset_500/1_keys_test/Non-shared=7_Overlaps=3.json\n",
      "Saved 10000 sequences to /home/cryptool/vasily/M209/m-209-cryptanalysis-main_updated/dataset_500/1_keys_test/Non-shared=2_Overlaps=2.json\n",
      "Saved 10000 sequences to /home/cryptool/vasily/M209/m-209-cryptanalysis-main_updated/dataset_500/1_keys_test/Non-shared=11_Overlaps=1.json\n",
      "Saved 10000 sequences to /home/cryptool/vasily/M209/m-209-cryptanalysis-main_updated/dataset_500/1_keys_test/Non-shared=10_Overlaps=1.json\n",
      "Saved 7372 sequences to /home/cryptool/vasily/M209/m-209-cryptanalysis-main_updated/dataset_500/1_keys_test/Non-shared=10_Overlaps=0.json\n",
      "Saved 10000 sequences to /home/cryptool/vasily/M209/m-209-cryptanalysis-main_updated/dataset_500/1_keys_test/Non-shared=4_Overlaps=4.json\n",
      "Saved 10000 sequences to /home/cryptool/vasily/M209/m-209-cryptanalysis-main_updated/dataset_500/1_keys_test/Non-shared=7_Overlaps=2.json\n",
      "Saved 10000 sequences to /home/cryptool/vasily/M209/m-209-cryptanalysis-main_updated/dataset_500/1_keys_test/Non-shared=5_Overlaps=3.json\n",
      "Saved 10000 sequences to /home/cryptool/vasily/M209/m-209-cryptanalysis-main_updated/dataset_500/1_keys_test/Non-shared=2_Overlaps=1.json\n",
      "Saved 10000 sequences to /home/cryptool/vasily/M209/m-209-cryptanalysis-main_updated/dataset_500/1_keys_test/Non-shared=3_Overlaps=5.json\n",
      "Saved 10000 sequences to /home/cryptool/vasily/M209/m-209-cryptanalysis-main_updated/dataset_500/1_keys_test/Non-shared=8_Overlaps=5.json\n",
      "Saved 10000 sequences to /home/cryptool/vasily/M209/m-209-cryptanalysis-main_updated/dataset_500/1_keys_test/Non-shared=6_Overlaps=2.json\n",
      "Saved 10000 sequences to /home/cryptool/vasily/M209/m-209-cryptanalysis-main_updated/dataset_500/1_keys_test/Non-shared=4_Overlaps=5.json\n",
      "Saved 10000 sequences to /home/cryptool/vasily/M209/m-209-cryptanalysis-main_updated/dataset_500/1_keys_test/Non-shared=1_Overlaps=4.json\n",
      "Saved 10000 sequences to /home/cryptool/vasily/M209/m-209-cryptanalysis-main_updated/dataset_500/1_keys_test/Non-shared=4_Overlaps=2.json\n",
      "Saved 10000 sequences to /home/cryptool/vasily/M209/m-209-cryptanalysis-main_updated/dataset_500/1_keys_test/Non-shared=6_Overlaps=3.json\n",
      "Saved 10000 sequences to /home/cryptool/vasily/M209/m-209-cryptanalysis-main_updated/dataset_500/1_keys_test/Non-shared=3_Overlaps=2.json\n",
      "Saved 10000 sequences to /home/cryptool/vasily/M209/m-209-cryptanalysis-main_updated/dataset_500/1_keys_test/Non-shared=6_Overlaps=5.json\n",
      "Saved 8778 sequences to /home/cryptool/vasily/M209/m-209-cryptanalysis-main_updated/dataset_500/1_keys_test/Non-shared=7_Overlaps=0.json\n",
      "Saved 10000 sequences to /home/cryptool/vasily/M209/m-209-cryptanalysis-main_updated/dataset_500/1_keys_test/Non-shared=2_Overlaps=4.json\n",
      "Saved 10000 sequences to /home/cryptool/vasily/M209/m-209-cryptanalysis-main_updated/dataset_500/1_keys_test/Non-shared=5_Overlaps=5.json\n",
      "Saved 10000 sequences to /home/cryptool/vasily/M209/m-209-cryptanalysis-main_updated/dataset_500/1_keys_test/Non-shared=6_Overlaps=1.json\n",
      "Saved 10000 sequences to /home/cryptool/vasily/M209/m-209-cryptanalysis-main_updated/dataset_500/1_keys_test/Non-shared=7_Overlaps=1.json\n",
      "Saved 10000 sequences to /home/cryptool/vasily/M209/m-209-cryptanalysis-main_updated/dataset_500/1_keys_test/Non-shared=3_Overlaps=1.json\n",
      "Saved 10000 sequences to /home/cryptool/vasily/M209/m-209-cryptanalysis-main_updated/dataset_500/1_keys_test/Non-shared=3_Overlaps=0.json\n",
      "Saved 10000 sequences to /home/cryptool/vasily/M209/m-209-cryptanalysis-main_updated/dataset_500/1_keys_test/Non-shared=3_Overlaps=4.json\n",
      "Saved 10000 sequences to /home/cryptool/vasily/M209/m-209-cryptanalysis-main_updated/dataset_500/1_keys_test/Non-shared=11_Overlaps=0.json\n",
      "Saved 10000 sequences to /home/cryptool/vasily/M209/m-209-cryptanalysis-main_updated/dataset_500/1_keys_test/Non-shared=0_Overlaps=4.json\n",
      "Saved 10000 sequences to /home/cryptool/vasily/M209/m-209-cryptanalysis-main_updated/dataset_500/1_keys_test/Non-shared=12_Overlaps=0.json\n",
      "Saved 10000 sequences to /home/cryptool/vasily/M209/m-209-cryptanalysis-main_updated/dataset_500/1_keys_test/Non-shared=12_Overlaps=1.json\n",
      "Saved 10000 sequences to /home/cryptool/vasily/M209/m-209-cryptanalysis-main_updated/dataset_500/1_keys_test/Non-shared=8_Overlaps=3.json\n",
      "Saved 10000 sequences to /home/cryptool/vasily/M209/m-209-cryptanalysis-main_updated/dataset_500/1_keys_test/Non-shared=4_Overlaps=0.json\n",
      "Saved 5215 sequences to /home/cryptool/vasily/M209/m-209-cryptanalysis-main_updated/dataset_500/1_keys_test/Non-shared=5_Overlaps=0.json\n",
      "Saved 10000 sequences to /home/cryptool/vasily/M209/m-209-cryptanalysis-main_updated/dataset_500/1_keys_test/Non-shared=5_Overlaps=4.json\n",
      "Saved 10000 sequences to /home/cryptool/vasily/M209/m-209-cryptanalysis-main_updated/dataset_500/1_keys_test/Non-shared=10_Overlaps=2.json\n",
      "Saved 10000 sequences to /home/cryptool/vasily/M209/m-209-cryptanalysis-main_updated/dataset_500/1_keys_test/Non-shared=8_Overlaps=2.json\n",
      "Saved 5743 sequences to /home/cryptool/vasily/M209/m-209-cryptanalysis-main_updated/dataset_500/1_keys_test/Non-shared=6_Overlaps=0.json\n",
      "Saved 9320 sequences to /home/cryptool/vasily/M209/m-209-cryptanalysis-main_updated/dataset_500/1_keys_test/Non-shared=9_Overlaps=1.json\n",
      "Saved 10000 sequences to /home/cryptool/vasily/M209/m-209-cryptanalysis-main_updated/dataset_500/1_keys_test/Non-shared=1_Overlaps=5.json\n",
      "Saved 10000 sequences to /home/cryptool/vasily/M209/m-209-cryptanalysis-main_updated/dataset_500/1_keys_test/Non-shared=13_Overlaps=0.json\n",
      "Saved 10000 sequences to /home/cryptool/vasily/M209/m-209-cryptanalysis-main_updated/dataset_500/1_keys_test/Non-shared=4_Overlaps=3.json\n",
      "Saved 10000 sequences to /home/cryptool/vasily/M209/m-209-cryptanalysis-main_updated/dataset_500/1_keys_test/Non-shared=9_Overlaps=4.json\n",
      "Saved 6288 sequences to /home/cryptool/vasily/M209/m-209-cryptanalysis-main_updated/dataset_500/1_keys_test/Non-shared=9_Overlaps=0.json\n",
      "Saved 10000 sequences to /home/cryptool/vasily/M209/m-209-cryptanalysis-main_updated/dataset_500/1_keys_test/Non-shared=9_Overlaps=3.json\n",
      "Saved 10000 sequences to /home/cryptool/vasily/M209/m-209-cryptanalysis-main_updated/dataset_500/1_keys_test/Non-shared=7_Overlaps=5.json\n",
      "Saved 10000 sequences to /home/cryptool/vasily/M209/m-209-cryptanalysis-main_updated/dataset_500/1_keys_test/Non-shared=6_Overlaps=4.json\n",
      "Saved 10000 sequences to /home/cryptool/vasily/M209/m-209-cryptanalysis-main_updated/dataset_500/1_keys_test/Non-shared=8_Overlaps=1.json\n",
      "Saved 10000 sequences to /home/cryptool/vasily/M209/m-209-cryptanalysis-main_updated/dataset_500/1_keys_test/Non-shared=2_Overlaps=5.json\n",
      "Saved 10000 sequences to /home/cryptool/vasily/M209/m-209-cryptanalysis-main_updated/dataset_500/1_keys_test/Non-shared=7_Overlaps=4.json\n",
      "Saved 10000 sequences to /home/cryptool/vasily/M209/m-209-cryptanalysis-main_updated/dataset_500/1_keys_test/Non-shared=8_Overlaps=4.json\n",
      "Saved 5452 sequences to /home/cryptool/vasily/M209/m-209-cryptanalysis-main_updated/dataset_500/1_keys_test/Non-shared=0_Overlaps=5.json\n",
      "Saved 10000 sequences to /home/cryptool/vasily/M209/m-209-cryptanalysis-main_updated/dataset_500/1_keys_test/Non-shared=5_Overlaps=7.json\n",
      "Saved 4369 sequences to /home/cryptool/vasily/M209/m-209-cryptanalysis-main_updated/dataset_500/1_keys_test/Non-shared=3_Overlaps=10.json\n",
      "Saved 10000 sequences to /home/cryptool/vasily/M209/m-209-cryptanalysis-main_updated/dataset_500/1_keys_test/Non-shared=5_Overlaps=6.json\n",
      "Saved 9148 sequences to /home/cryptool/vasily/M209/m-209-cryptanalysis-main_updated/dataset_500/1_keys_test/Non-shared=3_Overlaps=7.json\n",
      "Saved 10000 sequences to /home/cryptool/vasily/M209/m-209-cryptanalysis-main_updated/dataset_500/1_keys_test/Non-shared=7_Overlaps=6.json\n",
      "Saved 7639 sequences to /home/cryptool/vasily/M209/m-209-cryptanalysis-main_updated/dataset_500/1_keys_test/Non-shared=2_Overlaps=8.json\n",
      "Saved 10000 sequences to /home/cryptool/vasily/M209/m-209-cryptanalysis-main_updated/dataset_500/1_keys_test/Non-shared=0_Overlaps=8.json\n",
      "Saved 10000 sequences to /home/cryptool/vasily/M209/m-209-cryptanalysis-main_updated/dataset_500/1_keys_test/Non-shared=2_Overlaps=6.json\n",
      "Saved 10000 sequences to /home/cryptool/vasily/M209/m-209-cryptanalysis-main_updated/dataset_500/1_keys_test/Non-shared=6_Overlaps=7.json\n",
      "Saved 10000 sequences to /home/cryptool/vasily/M209/m-209-cryptanalysis-main_updated/dataset_500/1_keys_test/Non-shared=4_Overlaps=7.json\n",
      "Saved 8879 sequences to /home/cryptool/vasily/M209/m-209-cryptanalysis-main_updated/dataset_500/1_keys_test/Non-shared=2_Overlaps=9.json\n",
      "Saved 10000 sequences to /home/cryptool/vasily/M209/m-209-cryptanalysis-main_updated/dataset_500/1_keys_test/Non-shared=6_Overlaps=6.json\n",
      "Saved 10000 sequences to /home/cryptool/vasily/M209/m-209-cryptanalysis-main_updated/dataset_500/1_keys_test/Non-shared=4_Overlaps=6.json\n",
      "Saved 10000 sequences to /home/cryptool/vasily/M209/m-209-cryptanalysis-main_updated/dataset_500/1_keys_test/Non-shared=0_Overlaps=7.json\n",
      "Saved 10000 sequences to /home/cryptool/vasily/M209/m-209-cryptanalysis-main_updated/dataset_500/1_keys_test/Non-shared=1_Overlaps=7.json\n",
      "Saved 10000 sequences to /home/cryptool/vasily/M209/m-209-cryptanalysis-main_updated/dataset_500/1_keys_test/Non-shared=5_Overlaps=8.json\n",
      "Saved 4285 sequences to /home/cryptool/vasily/M209/m-209-cryptanalysis-main_updated/dataset_500/1_keys_test/Non-shared=1_Overlaps=8.json\n"
     ]
    },
    {
     "name": "stdout",
     "output_type": "stream",
     "text": [
      "Saved 9737 sequences to /home/cryptool/vasily/M209/m-209-cryptanalysis-main_updated/dataset_500/1_keys_test/Non-shared=3_Overlaps=9.json\n",
      "Saved 812 sequences to /home/cryptool/vasily/M209/m-209-cryptanalysis-main_updated/dataset_500/1_keys_test/Non-shared=0_Overlaps=9.json\n",
      "Saved 6130 sequences to /home/cryptool/vasily/M209/m-209-cryptanalysis-main_updated/dataset_500/1_keys_test/Non-shared=2_Overlaps=7.json\n",
      "Saved 10000 sequences to /home/cryptool/vasily/M209/m-209-cryptanalysis-main_updated/dataset_500/1_keys_test/Non-shared=4_Overlaps=8.json\n",
      "Saved 10000 sequences to /home/cryptool/vasily/M209/m-209-cryptanalysis-main_updated/dataset_500/1_keys_test/Non-shared=1_Overlaps=6.json\n",
      "Saved 10000 sequences to /home/cryptool/vasily/M209/m-209-cryptanalysis-main_updated/dataset_500/1_keys_test/Non-shared=3_Overlaps=8.json\n",
      "Saved 10000 sequences to /home/cryptool/vasily/M209/m-209-cryptanalysis-main_updated/dataset_500/1_keys_test/Non-shared=4_Overlaps=9.json\n",
      "Saved 8462 sequences to /home/cryptool/vasily/M209/m-209-cryptanalysis-main_updated/dataset_500/1_keys_test/Non-shared=3_Overlaps=6.json\n",
      "Saved 7902 sequences to /home/cryptool/vasily/M209/m-209-cryptanalysis-main_updated/dataset_500/1_keys_test/Non-shared=1_Overlaps=10.json\n",
      "Saved 4580 sequences to /home/cryptool/vasily/M209/m-209-cryptanalysis-main_updated/dataset_500/1_keys_test/Non-shared=1_Overlaps=9.json\n",
      "Saved 753 sequences to /home/cryptool/vasily/M209/m-209-cryptanalysis-main_updated/dataset_500/1_keys_test/Non-shared=0_Overlaps=10.json\n",
      "Saved 6940 sequences to /home/cryptool/vasily/M209/m-209-cryptanalysis-main_updated/dataset_500/1_keys_test/Non-shared=0_Overlaps=6.json\n",
      "Saved 5627 sequences to /home/cryptool/vasily/M209/m-209-cryptanalysis-main_updated/dataset_500/1_keys_test/Non-shared=2_Overlaps=10.json\n",
      "Saved 4225 sequences to /home/cryptool/vasily/M209/m-209-cryptanalysis-main_updated/dataset_500/1_keys_test/Non-shared=1_Overlaps=11.json\n",
      "Saved 3414 sequences to /home/cryptool/vasily/M209/m-209-cryptanalysis-main_updated/dataset_500/1_keys_test/Non-shared=2_Overlaps=11.json\n",
      "Saved 3317 sequences to /home/cryptool/vasily/M209/m-209-cryptanalysis-main_updated/dataset_500/1_keys_test/Non-shared=0_Overlaps=11.json\n",
      "Saved 1095 sequences to /home/cryptool/vasily/M209/m-209-cryptanalysis-main_updated/dataset_500/1_keys_test/Non-shared=0_Overlaps=12.json\n",
      "Saved 2690 sequences to /home/cryptool/vasily/M209/m-209-cryptanalysis-main_updated/dataset_500/1_keys_test/Non-shared=1_Overlaps=12.json\n"
     ]
    }
   ],
   "source": [
    "from collections import defaultdict, Counter\n",
    "from concurrent.futures import ProcessPoolExecutor, as_completed\n",
    "from pathlib import Path\n",
    "import json\n",
    "import re\n",
    "\n",
    "# Define functions for extracting and processing lug sequences from generated JSON files\n",
    "def extract_values(sequence):\n",
    "   # Extracts and returns the values from a sequence.\n",
    "    n_value, k_values_sum = 0, 0\n",
    "    for match in re.finditer(r'1-(\\d)(?:\\*(\\d+))?', sequence):\n",
    "        x, k = int(match.group(1)), int(match.group(2)) if match.group(2) else 1\n",
    "        if x == 0:\n",
    "            n_value += k\n",
    "        else:\n",
    "            k_values_sum += k\n",
    "    return n_value, k_values_sum\n",
    "\n",
    "def read_json_file(json_file):\n",
    "   #  Reads and returns the content of a JSON file.\n",
    "    with open(json_file, 'r') as f:\n",
    "        try:\n",
    "            return json.load(f)\n",
    "        except json.JSONDecodeError:\n",
    "            print(f\"Error reading {json_file}\")\n",
    "            return []\n",
    "\n",
    "def collect_sequences(start_path):\n",
    "    #Collects sequences from JSON files within the specified path.\n",
    "    path = Path(start_path)\n",
    "    sequences_by_type = defaultdict(list)\n",
    "    type_counts = Counter()\n",
    "\n",
    "    # Collect sequences\n",
    "    for json_file in path.rglob('*.json'):\n",
    "        sequences = read_json_file(json_file)\n",
    "        for seq in sequences:\n",
    "            n, k_sum = extract_values(seq)\n",
    "            type_key = (n, k_sum)\n",
    "            if type_counts[type_key] < 1000:  # Only keep tracking if under 1000\n",
    "                sequences_by_type[type_key].append(seq)\n",
    "                type_counts[type_key] += 1\n",
    "\n",
    "    # Filter out types with more than 1000 instances\n",
    "    for type_key, count in list(type_counts.items()):\n",
    "        if count > 10000:\n",
    "            del sequences_by_type[type_key]\n",
    "\n",
    "    return sequences_by_type\n",
    "\n",
    "def save_sequences(sequences_by_type, working_folder):\n",
    "    #Saves the collected sequences to files, organized by their types\n",
    "    for (n, k_sum), seqs in sequences_by_type.items():\n",
    "        filename = Path(working_folder) / f\"Non-shared={n}_Overlaps={k_sum}.json\"\n",
    "        # Since we're writing at the end, no need to check for existing content\n",
    "        with open(filename, 'w') as f:\n",
    "            json.dump(seqs, f)\n",
    "        print(f\"Saved {len(seqs)} sequences to {filename}\")\n",
    "\n",
    "def main(start_path, working_folder):\n",
    "    sequences_by_type = collect_sequences(start_path)\n",
    "    save_sequences(sequences_by_type, working_folder)\n",
    "\n",
    "# Adjust 'start_path' and 'working_folder' as needed\n",
    "start_path = PATH_LUGS\n",
    "working_folder = PATH_SORTED_LUGS\n",
    "main(start_path, working_folder)\n"
   ]
  },
  {
   "cell_type": "code",
   "execution_count": 4,
   "metadata": {
    "scrolled": true
   },
   "outputs": [
    {
     "name": "stdout",
     "output_type": "stream",
     "text": [
      "['/home/cryptool/vasily/M209/m-209-cryptanalysis-main_updated/Tools/../Data/1_keys_test/pins/000_pins.json', '/home/cryptool/vasily/M209/m-209-cryptanalysis-main_updated/Tools/../Data/1_keys_test/pins/001_pins.json', '/home/cryptool/vasily/M209/m-209-cryptanalysis-main_updated/Tools/../Data/1_keys_test/pins/002_pins.json', '/home/cryptool/vasily/M209/m-209-cryptanalysis-main_updated/Tools/../Data/1_keys_test/pins/003_pins.json', '/home/cryptool/vasily/M209/m-209-cryptanalysis-main_updated/Tools/../Data/1_keys_test/pins/004_pins.json', '/home/cryptool/vasily/M209/m-209-cryptanalysis-main_updated/Tools/../Data/1_keys_test/pins/005_pins.json', '/home/cryptool/vasily/M209/m-209-cryptanalysis-main_updated/Tools/../Data/1_keys_test/pins/006_pins.json', '/home/cryptool/vasily/M209/m-209-cryptanalysis-main_updated/Tools/../Data/1_keys_test/pins/007_pins.json', '/home/cryptool/vasily/M209/m-209-cryptanalysis-main_updated/Tools/../Data/1_keys_test/pins/008_pins.json', '/home/cryptool/vasily/M209/m-209-cryptanalysis-main_updated/Tools/../Data/1_keys_test/pins/009_pins.json', '/home/cryptool/vasily/M209/m-209-cryptanalysis-main_updated/Tools/../Data/1_keys_test/pins/010_pins.json', '/home/cryptool/vasily/M209/m-209-cryptanalysis-main_updated/Tools/../Data/1_keys_test/pins/011_pins.json', '/home/cryptool/vasily/M209/m-209-cryptanalysis-main_updated/Tools/../Data/1_keys_test/pins/012_pins.json', '/home/cryptool/vasily/M209/m-209-cryptanalysis-main_updated/Tools/../Data/1_keys_test/pins/013_pins.json', '/home/cryptool/vasily/M209/m-209-cryptanalysis-main_updated/Tools/../Data/1_keys_test/pins/014_pins.json', '/home/cryptool/vasily/M209/m-209-cryptanalysis-main_updated/Tools/../Data/1_keys_test/pins/015_pins.json', '/home/cryptool/vasily/M209/m-209-cryptanalysis-main_updated/Tools/../Data/1_keys_test/pins/016_pins.json', '/home/cryptool/vasily/M209/m-209-cryptanalysis-main_updated/Tools/../Data/1_keys_test/pins/017_pins.json', '/home/cryptool/vasily/M209/m-209-cryptanalysis-main_updated/Tools/../Data/1_keys_test/pins/018_pins.json', '/home/cryptool/vasily/M209/m-209-cryptanalysis-main_updated/Tools/../Data/1_keys_test/pins/019_pins.json', '/home/cryptool/vasily/M209/m-209-cryptanalysis-main_updated/Tools/../Data/1_keys_test/pins/020_pins.json', '/home/cryptool/vasily/M209/m-209-cryptanalysis-main_updated/Tools/../Data/1_keys_test/pins/021_pins.json', '/home/cryptool/vasily/M209/m-209-cryptanalysis-main_updated/Tools/../Data/1_keys_test/pins/022_pins.json', '/home/cryptool/vasily/M209/m-209-cryptanalysis-main_updated/Tools/../Data/1_keys_test/pins/023_pins.json', '/home/cryptool/vasily/M209/m-209-cryptanalysis-main_updated/Tools/../Data/1_keys_test/pins/024_pins.json', '/home/cryptool/vasily/M209/m-209-cryptanalysis-main_updated/Tools/../Data/1_keys_test/pins/025_pins.json', '/home/cryptool/vasily/M209/m-209-cryptanalysis-main_updated/Tools/../Data/1_keys_test/pins/026_pins.json', '/home/cryptool/vasily/M209/m-209-cryptanalysis-main_updated/Tools/../Data/1_keys_test/pins/027_pins.json', '/home/cryptool/vasily/M209/m-209-cryptanalysis-main_updated/Tools/../Data/1_keys_test/pins/028_pins.json', '/home/cryptool/vasily/M209/m-209-cryptanalysis-main_updated/Tools/../Data/1_keys_test/pins/029_pins.json', '/home/cryptool/vasily/M209/m-209-cryptanalysis-main_updated/Tools/../Data/1_keys_test/pins/030_pins.json', '/home/cryptool/vasily/M209/m-209-cryptanalysis-main_updated/Tools/../Data/1_keys_test/pins/031_pins.json', '/home/cryptool/vasily/M209/m-209-cryptanalysis-main_updated/Tools/../Data/1_keys_test/pins/032_pins.json', '/home/cryptool/vasily/M209/m-209-cryptanalysis-main_updated/Tools/../Data/1_keys_test/pins/033_pins.json', '/home/cryptool/vasily/M209/m-209-cryptanalysis-main_updated/Tools/../Data/1_keys_test/pins/034_pins.json', '/home/cryptool/vasily/M209/m-209-cryptanalysis-main_updated/Tools/../Data/1_keys_test/pins/035_pins.json', '/home/cryptool/vasily/M209/m-209-cryptanalysis-main_updated/Tools/../Data/1_keys_test/pins/036_pins.json', '/home/cryptool/vasily/M209/m-209-cryptanalysis-main_updated/Tools/../Data/1_keys_test/pins/037_pins.json', '/home/cryptool/vasily/M209/m-209-cryptanalysis-main_updated/Tools/../Data/1_keys_test/pins/038_pins.json', '/home/cryptool/vasily/M209/m-209-cryptanalysis-main_updated/Tools/../Data/1_keys_test/pins/039_pins.json', '/home/cryptool/vasily/M209/m-209-cryptanalysis-main_updated/Tools/../Data/1_keys_test/pins/040_pins.json', '/home/cryptool/vasily/M209/m-209-cryptanalysis-main_updated/Tools/../Data/1_keys_test/pins/041_pins.json', '/home/cryptool/vasily/M209/m-209-cryptanalysis-main_updated/Tools/../Data/1_keys_test/pins/042_pins.json', '/home/cryptool/vasily/M209/m-209-cryptanalysis-main_updated/Tools/../Data/1_keys_test/pins/043_pins.json', '/home/cryptool/vasily/M209/m-209-cryptanalysis-main_updated/Tools/../Data/1_keys_test/pins/044_pins.json', '/home/cryptool/vasily/M209/m-209-cryptanalysis-main_updated/Tools/../Data/1_keys_test/pins/045_pins.json', '/home/cryptool/vasily/M209/m-209-cryptanalysis-main_updated/Tools/../Data/1_keys_test/pins/046_pins.json', '/home/cryptool/vasily/M209/m-209-cryptanalysis-main_updated/Tools/../Data/1_keys_test/pins/047_pins.json', '/home/cryptool/vasily/M209/m-209-cryptanalysis-main_updated/Tools/../Data/1_keys_test/pins/048_pins.json', '/home/cryptool/vasily/M209/m-209-cryptanalysis-main_updated/Tools/../Data/1_keys_test/pins/049_pins.json', '/home/cryptool/vasily/M209/m-209-cryptanalysis-main_updated/Tools/../Data/1_keys_test/pins/050_pins.json', '/home/cryptool/vasily/M209/m-209-cryptanalysis-main_updated/Tools/../Data/1_keys_test/pins/051_pins.json', '/home/cryptool/vasily/M209/m-209-cryptanalysis-main_updated/Tools/../Data/1_keys_test/pins/052_pins.json', '/home/cryptool/vasily/M209/m-209-cryptanalysis-main_updated/Tools/../Data/1_keys_test/pins/053_pins.json', '/home/cryptool/vasily/M209/m-209-cryptanalysis-main_updated/Tools/../Data/1_keys_test/pins/054_pins.json', '/home/cryptool/vasily/M209/m-209-cryptanalysis-main_updated/Tools/../Data/1_keys_test/pins/055_pins.json', '/home/cryptool/vasily/M209/m-209-cryptanalysis-main_updated/Tools/../Data/1_keys_test/pins/056_pins.json', '/home/cryptool/vasily/M209/m-209-cryptanalysis-main_updated/Tools/../Data/1_keys_test/pins/057_pins.json', '/home/cryptool/vasily/M209/m-209-cryptanalysis-main_updated/Tools/../Data/1_keys_test/pins/058_pins.json', '/home/cryptool/vasily/M209/m-209-cryptanalysis-main_updated/Tools/../Data/1_keys_test/pins/059_pins.json', '/home/cryptool/vasily/M209/m-209-cryptanalysis-main_updated/Tools/../Data/1_keys_test/pins/060_pins.json', '/home/cryptool/vasily/M209/m-209-cryptanalysis-main_updated/Tools/../Data/1_keys_test/pins/061_pins.json', '/home/cryptool/vasily/M209/m-209-cryptanalysis-main_updated/Tools/../Data/1_keys_test/pins/062_pins.json', '/home/cryptool/vasily/M209/m-209-cryptanalysis-main_updated/Tools/../Data/1_keys_test/pins/063_pins.json', '/home/cryptool/vasily/M209/m-209-cryptanalysis-main_updated/Tools/../Data/1_keys_test/pins/064_pins.json', '/home/cryptool/vasily/M209/m-209-cryptanalysis-main_updated/Tools/../Data/1_keys_test/pins/065_pins.json', '/home/cryptool/vasily/M209/m-209-cryptanalysis-main_updated/Tools/../Data/1_keys_test/pins/066_pins.json', '/home/cryptool/vasily/M209/m-209-cryptanalysis-main_updated/Tools/../Data/1_keys_test/pins/067_pins.json', '/home/cryptool/vasily/M209/m-209-cryptanalysis-main_updated/Tools/../Data/1_keys_test/pins/068_pins.json', '/home/cryptool/vasily/M209/m-209-cryptanalysis-main_updated/Tools/../Data/1_keys_test/pins/069_pins.json', '/home/cryptool/vasily/M209/m-209-cryptanalysis-main_updated/Tools/../Data/1_keys_test/pins/070_pins.json', '/home/cryptool/vasily/M209/m-209-cryptanalysis-main_updated/Tools/../Data/1_keys_test/pins/071_pins.json', '/home/cryptool/vasily/M209/m-209-cryptanalysis-main_updated/Tools/../Data/1_keys_test/pins/072_pins.json', '/home/cryptool/vasily/M209/m-209-cryptanalysis-main_updated/Tools/../Data/1_keys_test/pins/073_pins.json', '/home/cryptool/vasily/M209/m-209-cryptanalysis-main_updated/Tools/../Data/1_keys_test/pins/074_pins.json', '/home/cryptool/vasily/M209/m-209-cryptanalysis-main_updated/Tools/../Data/1_keys_test/pins/075_pins.json', '/home/cryptool/vasily/M209/m-209-cryptanalysis-main_updated/Tools/../Data/1_keys_test/pins/076_pins.json', '/home/cryptool/vasily/M209/m-209-cryptanalysis-main_updated/Tools/../Data/1_keys_test/pins/077_pins.json', '/home/cryptool/vasily/M209/m-209-cryptanalysis-main_updated/Tools/../Data/1_keys_test/pins/078_pins.json', '/home/cryptool/vasily/M209/m-209-cryptanalysis-main_updated/Tools/../Data/1_keys_test/pins/079_pins.json', '/home/cryptool/vasily/M209/m-209-cryptanalysis-main_updated/Tools/../Data/1_keys_test/pins/080_pins.json', '/home/cryptool/vasily/M209/m-209-cryptanalysis-main_updated/Tools/../Data/1_keys_test/pins/081_pins.json', '/home/cryptool/vasily/M209/m-209-cryptanalysis-main_updated/Tools/../Data/1_keys_test/pins/082_pins.json', '/home/cryptool/vasily/M209/m-209-cryptanalysis-main_updated/Tools/../Data/1_keys_test/pins/083_pins.json', '/home/cryptool/vasily/M209/m-209-cryptanalysis-main_updated/Tools/../Data/1_keys_test/pins/084_pins.json', '/home/cryptool/vasily/M209/m-209-cryptanalysis-main_updated/Tools/../Data/1_keys_test/pins/085_pins.json', '/home/cryptool/vasily/M209/m-209-cryptanalysis-main_updated/Tools/../Data/1_keys_test/pins/086_pins.json', '/home/cryptool/vasily/M209/m-209-cryptanalysis-main_updated/Tools/../Data/1_keys_test/pins/087_pins.json', '/home/cryptool/vasily/M209/m-209-cryptanalysis-main_updated/Tools/../Data/1_keys_test/pins/088_pins.json', '/home/cryptool/vasily/M209/m-209-cryptanalysis-main_updated/Tools/../Data/1_keys_test/pins/089_pins.json', '/home/cryptool/vasily/M209/m-209-cryptanalysis-main_updated/Tools/../Data/1_keys_test/pins/090_pins.json', '/home/cryptool/vasily/M209/m-209-cryptanalysis-main_updated/Tools/../Data/1_keys_test/pins/091_pins.json', '/home/cryptool/vasily/M209/m-209-cryptanalysis-main_updated/Tools/../Data/1_keys_test/pins/092_pins.json', '/home/cryptool/vasily/M209/m-209-cryptanalysis-main_updated/Tools/../Data/1_keys_test/pins/093_pins.json', '/home/cryptool/vasily/M209/m-209-cryptanalysis-main_updated/Tools/../Data/1_keys_test/pins/094_pins.json', '/home/cryptool/vasily/M209/m-209-cryptanalysis-main_updated/Tools/../Data/1_keys_test/pins/095_pins.json', '/home/cryptool/vasily/M209/m-209-cryptanalysis-main_updated/Tools/../Data/1_keys_test/pins/096_pins.json', '/home/cryptool/vasily/M209/m-209-cryptanalysis-main_updated/Tools/../Data/1_keys_test/pins/097_pins.json', '/home/cryptool/vasily/M209/m-209-cryptanalysis-main_updated/Tools/../Data/1_keys_test/pins/098_pins.json', '/home/cryptool/vasily/M209/m-209-cryptanalysis-main_updated/Tools/../Data/1_keys_test/pins/099_pins.json', '/home/cryptool/vasily/M209/m-209-cryptanalysis-main_updated/Tools/../Data/1_keys_test/pins/100_pins.json', '/home/cryptool/vasily/M209/m-209-cryptanalysis-main_updated/Tools/../Data/1_keys_test/pins/101_pins.json', '/home/cryptool/vasily/M209/m-209-cryptanalysis-main_updated/Tools/../Data/1_keys_test/pins/102_pins.json']\n"
     ]
    },
    {
     "name": "stderr",
     "output_type": "stream",
     "text": [
      "100%|██████████| 103/103 [00:04<00:00, 22.72it/s]\n"
     ]
    }
   ],
   "source": [
    "# Preparing for pin generation\n",
    "os.chdir(PATH_KEYS)\n",
    "key_generator = KeyGen(count=int(keys_per_file), path=\"\")\n",
    "num_key_files=103\n",
    "filenames = []\n",
    "# Create directory for pins if it doesn't exist\n",
    "try:\n",
    "    os.mkdir(PATH_KEYS + f\"/pins/\")\n",
    "except FileExistsError as err:\n",
    "    pass\n",
    "\n",
    "# Generate filenames for the pin files\n",
    "filenames += list(PATH_KEYS + f\"/pins/\" + str(j).zfill(len(str(num_key_files - 1))) + '_pins.json' for j in range(num_key_files))\n",
    "print (filenames)\n",
    "\n",
    "# Generate pin files using multiprocessing for improved performance\n",
    "with multiprocessing.Pool(200) as pool:\n",
    "    for _ in tqdm.tqdm(pool.imap(key_generator.keygen_json_pins, filenames), total=num_key_files):\n",
    "        pass\n",
    "\n"
   ]
  },
  {
   "cell_type": "code",
   "execution_count": null,
   "metadata": {},
   "outputs": [],
   "source": []
  }
 ],
 "metadata": {
  "kernelspec": {
   "display_name": "Python 3",
   "language": "python",
   "name": "python3"
  },
  "language_info": {
   "codemirror_mode": {
    "name": "ipython",
    "version": 3
   },
   "file_extension": ".py",
   "mimetype": "text/x-python",
   "name": "python",
   "nbconvert_exporter": "python",
   "pygments_lexer": "ipython3",
   "version": "3.6.13"
  }
 },
 "nbformat": 4,
 "nbformat_minor": 1
}
