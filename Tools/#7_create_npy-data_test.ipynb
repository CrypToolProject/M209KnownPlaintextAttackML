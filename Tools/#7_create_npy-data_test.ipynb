{
 "cells": [
  {
   "cell_type": "code",
   "execution_count": 3,
   "metadata": {},
   "outputs": [],
   "source": [
    "import os\n",
    "import multiprocessing\n",
    "import random\n",
    "import time\n",
    "\n",
    "import numpy as np\n",
    "import json\n",
    "import re"
   ]
  },
  {
   "cell_type": "code",
   "execution_count": 4,
   "metadata": {},
   "outputs": [],
   "source": [
    "# Configuration parameters\n",
    "NUMBER_OF_OVERLAPS = \"1-12\"\n",
    "\n",
    "# Setting up the directory paths\n",
    "current_directory = os.getcwd()\n",
    "WORKING_DIR = os.path.join(current_directory, \"..\")\n",
    "\n",
    "PATH_DATA = os.path.join(WORKING_DIR, \"Data\") \n",
    "\n",
    "PATH_CIPHERTEXTS = os.path.join(PATH_DATA, \"2_ciphertexts_test\")\n",
    "\n",
    "PATH_TESTING_DATA = os.path.join(PATH_DATA, \"3_data_npy_test\")\n",
    "os.makedirs(PATH_TESTING_DATA, exist_ok=True)\n",
    "\n",
    "WHEEL = \"Wheel1\" # In this example working just with Wheel 1\n",
    "\n",
    "PATH_TESTING_DATA = os.path.join(PATH_TESTING_DATA, WHEEL)\n",
    "os.makedirs(PATH_TESTING_DATA, exist_ok=True)\n",
    "\n",
    "#NUMBER_CORS = multiprocessing.cpu_count()\n",
    "NUMBER_CORS = 50\n",
    "\n",
    "\n",
    "#NUMBER_CORS = multiprocessing.cpu_count()\n",
    "NUMBER_CORS = 12\n"
   ]
  },
  {
   "cell_type": "code",
   "execution_count": 5,
   "metadata": {},
   "outputs": [],
   "source": [
    "length=500\n",
    "\n",
    "def load_data(file):\n",
    "\n",
    "    wheels = [\"ABCDEFGHIJKLMNOPQRSTUVWXYZ\",\n",
    "              \"ABCDEFGHIJKLMNOPQRSTUVXYZ\",\n",
    "              \"ABCDEFGHIJKLMNOPQRSTUVX\",\n",
    "              \"ABCDEFGHIJKLMNOPQRSTU\",\n",
    "              \"ABCDEFGHIJKLMNOPQRS\",\n",
    "              \"ABCDEFGHIJKLMNOPQ\"]\n",
    "\n",
    "\n",
    " #   print(f\"loading: {file}\")\n",
    "    with open (file, 'r') as infile:\n",
    "        data = json.load(infile)\n",
    "\n",
    "\n",
    "    x_temp = []\n",
    "    y_temp = []\n",
    "\n",
    "# Process each item in the data list\n",
    "    for i in range(len(data)):\n",
    "        s=data[i][3][:length]\n",
    "        x_temp.append([ord(n) for n in s])\n",
    "        new_wheel_data = []\n",
    "        for j in range(6):\n",
    "            new_wheel_data += [1 if a in data[i][4][j] else 0 for a in wheels[j]]\n",
    "        y_temp.append(new_wheel_data)\n",
    "\n",
    "# Convert the lists to numpy arrays with type 'ubyte' for efficient storage\n",
    "    x = np.array(x_temp, dtype='ubyte')\n",
    "    y = np.array(y_temp, dtype='ubyte')\n",
    "    \n",
    "    # Extract the non-shared lug count and overlap count from the filename using regex\n",
    "    match = re.search(r\"NS=(\\d+)_OV=(\\d+)_cipher.json\", file)\n",
    "    if not match:\n",
    "        print(f\"Filename {file} does not match expected pattern.\")\n",
    "        return\n",
    "    n, o = match.groups()\n",
    "    \n",
    "\n",
    "    np.save(f\"{PATH_TESTING_DATA  + '/'}x_{length}-non-shared-lugs{n}-overlaps{o}.npy\", x)\n",
    "    print (f\"{PATH_TESTING_DATA  + '/'}x_{length}-non-shared-lugs{n}-overlaps{o}.npy\")\n",
    "    np.save(f\"{PATH_TESTING_DATA  + '/'}y_{length}-non-shared-lugs{n}-overlaps{o}.npy\", y)"
   ]
  },
  {
   "cell_type": "code",
   "execution_count": 8,
   "metadata": {},
   "outputs": [],
   "source": [
    "os.chdir(PATH_CIPHERTEXTS)\n",
    "# Compile a list of files to be processed\n",
    "filelist = [PATH_CIPHERTEXTS + '/'  + file for file in os.listdir(PATH_CIPHERTEXTS + '/' ) if \"_cipher\" in file]\n",
    "#print (filelist)"
   ]
  },
  {
   "cell_type": "code",
   "execution_count": null,
   "metadata": {},
   "outputs": [],
   "source": [
    "# Use multiprocessing to process files in parallel for efficiency\n",
    "with multiprocessing.Pool(NUMBER_CORS) as pool:\n",
    "    for _ in pool.imap(load_data, filelist):\n",
    "        pass"
   ]
  },
  {
   "cell_type": "code",
   "execution_count": null,
   "metadata": {},
   "outputs": [],
   "source": []
  }
 ],
 "metadata": {
  "kernelspec": {
   "display_name": "Python 3",
   "language": "python",
   "name": "python3"
  },
  "language_info": {
   "codemirror_mode": {
    "name": "ipython",
    "version": 3
   },
   "file_extension": ".py",
   "mimetype": "text/x-python",
   "name": "python",
   "nbconvert_exporter": "python",
   "pygments_lexer": "ipython3",
   "version": "3.6.13"
  }
 },
 "nbformat": 4,
 "nbformat_minor": 1
}
