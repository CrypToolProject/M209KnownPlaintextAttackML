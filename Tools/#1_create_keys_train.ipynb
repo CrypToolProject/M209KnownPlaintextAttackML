{
 "cells": [
  {
   "cell_type": "code",
   "execution_count": 1,
   "metadata": {},
   "outputs": [],
   "source": [
    "import multiprocessing\n",
    "import os\n",
    "import tqdm\n",
    "from _1_keygen_json import KeyGen"
   ]
  },
  {
   "cell_type": "code",
   "execution_count": 2,
   "metadata": {},
   "outputs": [],
   "source": [
    "keys_per_file = 100_000\n",
    "num_key_files = 20\n",
    "\n",
    "NUMBER_CORS = 16\n",
    "\n",
    "current_directory = os.getcwd()\n",
    "WORKING_DIR = os.path.join(current_directory, \"..\")\n",
    "PATH_DATA = os.path.join(WORKING_DIR, \"Data\") \n",
    "PATH_KEYS = os.path.join(PATH_DATA, \"1_keys_train\")\n",
    "os.makedirs(PATH_KEYS, exist_ok=True)"
   ]
  },
  {
   "cell_type": "code",
   "execution_count": 3,
   "metadata": {},
   "outputs": [],
   "source": [
    "key_generator = KeyGen(count=int(keys_per_file))"
   ]
  },
  {
   "cell_type": "code",
   "execution_count": 9,
   "metadata": {},
   "outputs": [
    {
     "name": "stdout",
     "output_type": "stream",
     "text": [
      "Generating lug settings with 1 to 12 overlap\n"
     ]
    },
    {
     "name": "stderr",
     "output_type": "stream",
     "text": [
      "100%|██████████| 20/20 [13:30<00:00, 40.51s/it]  \n"
     ]
    }
   ],
   "source": [
    "os.chdir(PATH_KEYS)\n",
    "for i in range(12, 13):\n",
    "    print(f\"Generating lug settings with 1 to {i} overlap\")\n",
    "    key_generator.path = f\"overlaps_1-{str(i)}/\"\n",
    "    try:\n",
    "        os.mkdir(key_generator.path)\n",
    "    except FileExistsError as err:\n",
    "        pass\n",
    "    key_generator.min_overlaps = 1\n",
    "    key_generator.max_overlaps = i\n",
    "    filenames = list(str(j).zfill(len(str(num_key_files - 1))) + f'_lugs_1-{str(i)}.json'\n",
    "                     for j in range(num_key_files))\n",
    "\n",
    "    with multiprocessing.Pool(NUMBER_CORS) as pool:\n",
    "        for _ in tqdm.tqdm(pool.imap(key_generator.keygen_json_lugs, filenames), total=num_key_files):\n",
    "            pass\n",
    "\n"
   ]
  },
  {
   "cell_type": "code",
   "execution_count": 11,
   "metadata": {},
   "outputs": [
    {
     "data": {
      "text/plain": [
       "0"
      ]
     },
     "execution_count": 11,
     "metadata": {},
     "output_type": "execute_result"
    }
   ],
   "source": [
    "os.chdir(PATH_KEYS)\n",
    "i=12 \n",
    "os.system(f\"tar -zcvf overlaps_1-{str(i)}.tar.gz overlaps_1-{str(i)}\")\n",
    "os.system(f\"rm -r -f overlaps_1-{str(i)}\")"
   ]
  },
  {
   "cell_type": "code",
   "execution_count": 17,
   "metadata": {
    "scrolled": true
   },
   "outputs": [
    {
     "name": "stderr",
     "output_type": "stream",
     "text": [
      "200it [14:44,  4.42s/it]                         \n"
     ]
    }
   ],
   "source": [
    "os.chdir(PATH_KEYS)\n",
    "\n",
    "key_generator = KeyGen(count=int(keys_per_file), path=\"\")\n",
    "\n",
    "filenames = []\n",
    "\n",
    "for i in range(10):\n",
    "    try:\n",
    "        os.mkdir(PATH_KEYS + f\"pins{i}/\")\n",
    "    except FileExistsError as err:\n",
    "        pass\n",
    "\n",
    "    filenames += list(PATH_KEYS + f\"pins{i}/\" + str(j).zfill(len(str(num_key_files - 1))) + '_pins.json' for j in range(num_key_files))\n",
    "\n",
    "with multiprocessing.Pool(200) as pool:\n",
    "    for _ in tqdm.tqdm(pool.imap(key_generator.keygen_json_pins, filenames), total=num_key_files):\n",
    "        pass\n",
    "\n",
    "os.chdir(WORKING_DIR + PATH_KEYS)\n",
    "for x in [f\"tar -zcvf pins{str(i)}.tar.gz pins{i}\" for i in range(10)]:\n",
    "    os.system(x)\n",
    "\n",
    "for x in [f\"rm -r -f pins{i}\" for i in range(10)]:\n",
    "    os.system(x)"
   ]
  },
  {
   "cell_type": "code",
   "execution_count": 4,
   "metadata": {},
   "outputs": [
    {
     "name": "stderr",
     "output_type": "stream",
     "text": [
      "200it [00:08, 22.31it/s]                      \n"
     ]
    }
   ],
   "source": [
    "os.chdir(PATH_KEYS)\n",
    "\n",
    "key_generator = KeyGen(count=int(keys_per_file), path=\"\")\n",
    "\n",
    "filenames = []\n",
    "\n",
    "for i in range(10):\n",
    "    try:\n",
    "        os.mkdir(PATH_KEYS + f\"/pins{i}/\")\n",
    "    except FileExistsError as err:\n",
    "        pass\n",
    "\n",
    "    filenames += list(PATH_KEYS + f\"/pins{i}/\" + str(j).zfill(len(str(num_key_files - 1))) + '_pins.json' for j in range(num_key_files))\n",
    "\n",
    "with multiprocessing.Pool(200) as pool:\n",
    "    for _ in tqdm.tqdm(pool.imap(key_generator.keygen_json_pins, filenames), total=num_key_files):\n",
    "        pass\n",
    "\n",
    "os.chdir(PATH_KEYS)\n",
    "for x in [f\"tar -zcvf pins{str(i)}.tar.gz pins{i}\" for i in range(10)]:\n",
    "    os.system(x)\n",
    "\n",
    "for x in [f\"rm -r -f pins{i}\" for i in range(10)]:\n",
    "    os.system(x)"
   ]
  },
  {
   "cell_type": "code",
   "execution_count": null,
   "metadata": {},
   "outputs": [],
   "source": []
  }
 ],
 "metadata": {
  "kernelspec": {
   "display_name": "Python 3",
   "language": "python",
   "name": "python3"
  },
  "language_info": {
   "codemirror_mode": {
    "name": "ipython",
    "version": 3
   },
   "file_extension": ".py",
   "mimetype": "text/x-python",
   "name": "python",
   "nbconvert_exporter": "python",
   "pygments_lexer": "ipython3",
   "version": "3.6.13"
  }
 },
 "nbformat": 4,
 "nbformat_minor": 1
}
