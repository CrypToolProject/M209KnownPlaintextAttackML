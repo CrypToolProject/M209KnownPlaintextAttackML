{
 "cells": [
  {
   "cell_type": "code",
   "execution_count": 1,
   "metadata": {},
   "outputs": [],
   "source": [
    "import os\n",
    "import random\n",
    "import multiprocessing\n",
    "import sys\n",
    "from _3_encrypt import Encrypt"
   ]
  },
  {
   "cell_type": "code",
   "execution_count": 2,
   "metadata": {},
   "outputs": [],
   "source": [
    "# Define the working directory paths for storing keys, lugs, pins, and ciphertexts\n",
    "\n",
    "current_directory = os.getcwd()\n",
    "WORKING_DIR = os.path.join(current_directory, \"..\")\n",
    "PATH_DATA = os.path.join(WORKING_DIR, \"Data\") \n",
    "PATH_KEYS = os.path.join(PATH_DATA, \"1_keys_test\")\n",
    "PATH_LUGS= os.path.join(PATH_KEYS, \"lugs_sorted\")\n",
    "PATH_PINS = os.path.join(PATH_KEYS, \"pins\")\n",
    "\n",
    "PATH_CIPHERTEXTS = os.path.join(PATH_DATA, \"2_ciphertexts_test\")\n",
    "os.makedirs(PATH_CIPHERTEXTS, exist_ok=True)\n",
    "\n",
    "# Configuration for multiprocessing and sequence size\n",
    "#NUMBER_CORS = multiprocessing.cpu_count()\n",
    "NUMBER_CORS = 16\n",
    "SEQUENCE_SIZE = 500"
   ]
  },
  {
   "cell_type": "code",
   "execution_count": null,
   "metadata": {},
   "outputs": [],
   "source": [
    "# List lug and pin files, filtering by file type\n",
    "lug_files = [f for f in os.listdir(PATH_LUGS) if \"Overlaps\" in f]\n",
    "lug_files = [f for f in lug_files if \".json\" in f]\n",
    "pin_files = [f for f in os.listdir(PATH_PINS) if \"pins\" in f]\n",
    "pin_files = [f for f in pin_files if \".json\" in f]\n",
    "#print (lug_files)\n",
    "#print (pin_files)"
   ]
  },
  {
   "cell_type": "code",
   "execution_count": null,
   "metadata": {},
   "outputs": [],
   "source": [
    "# Copy lug and pin files to the ciphertexts directory for processing\n",
    "os.chdir(PATH_CIPHERTEXTS)\n",
    "for file in lug_files:\n",
    "  #  print (file)\n",
    "    os.system(f\"cp {PATH_LUGS+'/'+ file} {PATH_CIPHERTEXTS+'/'}\")\n",
    "\n",
    "for file in pin_files:\n",
    "  #  print (file)\n",
    "    os.system(f\"cp {PATH_PINS+'/'+file} {PATH_CIPHERTEXTS+'/'}\")"
   ]
  },
  {
   "cell_type": "code",
   "execution_count": null,
   "metadata": {},
   "outputs": [],
   "source": [
    "import re\n",
    "os.chdir(PATH_CIPHERTEXTS)\n",
    "\n",
    "# Shuffle the file lists again for encryption processing\n",
    "\n",
    "random.shuffle(lug_files)\n",
    "random.shuffle(pin_files)\n",
    "\n",
    "# Pair each lug file with a pin file\n",
    "files = list(zip(lug_files, pin_files))\n",
    "print (files)\n",
    "\n",
    "# Initialize the encryption object with specified configurations\n",
    "m209 = Encrypt(destin_path=\"\", count_a=SEQUENCE_SIZE,\n",
    "               append_ciphertext=False,\n",
    "               append_plaintext=False,\n",
    "               append_keystream=True,\n",
    "               append_lugs=True,\n",
    "               append_pins=True)\n",
    "\n",
    "def extract_two_integers(input_string):\n",
    "    # Define a regex pattern for integers\n",
    "    pattern = r'\\d+'\n",
    "    # Find all matches of the pattern in the string\n",
    "    matches = re.findall(pattern, input_string)\n",
    "    # Convert the first two matches to integers, if any\n",
    "    integers = [int(match) for match in matches][:2]\n",
    "    return integers\n",
    "\n",
    "\n",
    "def generate_data(x):\n",
    "    filename, i = x\n",
    "    m209.load_keys(filename, filetype=\"pins_n_lugs\")\n",
    "    m209.set_int_msg_ind(\"AAAAAA\")\n",
    "    a, b = extract_two_integers(f\"{filename}\")\n",
    "    \n",
    "    # Generate a filename based on 'i' with leading zeros\n",
    "    new_filename = f\"{str(i).zfill(len(str(len(files)-1)))}\"\n",
    "    \n",
    "    # Encrypt the data and save it to a file\n",
    "    m209.encrypt(new_filename)\n",
    "    \n",
    "    # New desired filename format\n",
    "    desired_filename = f\"NS={a}_OV={b}_cipher.json\"\n",
    "    \n",
    "    # Assuming the encrypted file is saved as new_filename + '_cipher.json' in the working directory\n",
    "    # Rename the file\n",
    "    os.rename(f\"{new_filename}_cipher.json\", desired_filename)\n",
    "    print(f\"File renamed to {desired_filename}\")\n",
    "    \n"
   ]
  },
  {
   "cell_type": "code",
   "execution_count": null,
   "metadata": {},
   "outputs": [],
   "source": [
    "# Execute the encryption and file renaming in parallel using multiprocessing \n",
    "with multiprocessing.Pool(NUMBER_CORS) as pool:\n",
    "    for _ in pool.imap(generate_data, [(files[i], i) for i in range(len(files))]):\n",
    "        pass"
   ]
  },
  {
   "cell_type": "code",
   "execution_count": null,
   "metadata": {},
   "outputs": [],
   "source": [
    "# Clean up the ciphertext directory by removing the original lug and pin files\n",
    "os.chdir(PATH_CIPHERTEXTS)\n",
    "for x in [f\"rm -r -f {i}\" for i in os.listdir() if \"pins\" in i]:\n",
    "    os.system(x)\n",
    "\n",
    "for x in [f\"rm -r -f {i}\" for i in os.listdir() if \"Overlaps\" in i]:\n",
    "    os.system(x)"
   ]
  },
  {
   "cell_type": "code",
   "execution_count": null,
   "metadata": {},
   "outputs": [],
   "source": []
  }
 ],
 "metadata": {
  "kernelspec": {
   "display_name": "Python 3",
   "language": "python",
   "name": "python3"
  },
  "language_info": {
   "codemirror_mode": {
    "name": "ipython",
    "version": 3
   },
   "file_extension": ".py",
   "mimetype": "text/x-python",
   "name": "python",
   "nbconvert_exporter": "python",
   "pygments_lexer": "ipython3",
   "version": "3.6.13"
  }
 },
 "nbformat": 4,
 "nbformat_minor": 1
}
