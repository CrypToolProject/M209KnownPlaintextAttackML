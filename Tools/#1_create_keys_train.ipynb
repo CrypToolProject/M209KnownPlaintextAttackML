{
 "cells": [
  {
   "cell_type": "code",
   "execution_count": 1,
   "metadata": {},
   "outputs": [],
   "source": [
    "# Import necessary libraries \n",
    "import multiprocessing #  is used to speed up the key generation process by utilizing multiple CPU cores.\n",
    "import os #module provides a way of using operating system dependent functionality like reading or writing to a file.\n",
    "import tqdm # tqdm is a library that provides a progress bar for loops and tasks in the notebook.\n",
    "from _1_keygen_json import KeyGen # _1_keygen_json is a custom module for generating encryption keys. KeyGen is a class from this module used specifically for creating keys."
   ]
  },
  {
   "cell_type": "code",
   "execution_count": 2,
   "metadata": {},
   "outputs": [],
   "source": [
    "# Configuration parameters\n",
    "keys_per_file = 100_000\n",
    "num_key_files = 20\n",
    "\n",
    "NUMBER_CORS = 16  # Number of CPU cores to use for multiprocessing\n",
    "\n",
    "# Define directory paths for storing generated data\n",
    "current_directory = os.getcwd()\n",
    "WORKING_DIR = os.path.join(current_directory, \"..\")\n",
    "PATH_DATA = os.path.join(WORKING_DIR, \"Data\") \n",
    "PATH_KEYS = os.path.join(PATH_DATA, \"1_keys_train\")\n",
    "\n",
    "# Ensure the existence of the directory to store the keys\n",
    "os.makedirs(PATH_KEYS, exist_ok=True)"
   ]
  },
  {
   "cell_type": "code",
   "execution_count": 3,
   "metadata": {},
   "outputs": [],
   "source": [
    "# Begin generation of random keys\n",
    "key_generator = KeyGen(count=int(keys_per_file))"
   ]
  },
  {
   "cell_type": "code",
   "execution_count": 4,
   "metadata": {},
   "outputs": [
    {
     "name": "stdout",
     "output_type": "stream",
     "text": [
      "Generating lug settings with 1 to 12 overlap\n"
     ]
    },
    {
     "name": "stderr",
     "output_type": "stream",
     "text": [
      "100%|██████████| 20/20 [00:00<00:00, 21.26it/s]\n"
     ]
    }
   ],
   "source": [
    "# Change the working directory to where keys will be stored\n",
    "os.chdir(PATH_KEYS)\n",
    "# Generate lug settings with varying overlaps\n",
    "for i in range(12, 13):\n",
    "    print(f\"Generating lug settings with 1 to {i} overlap\")\n",
    "    key_generator.path = f\"overlaps_1-{str(i)}/\"\n",
    "    try:\n",
    "        os.mkdir(key_generator.path)\n",
    "    except FileExistsError as err:\n",
    "        pass\n",
    "    key_generator.min_overlaps = 1\n",
    "    key_generator.max_overlaps = i\n",
    "    filenames = list(str(j).zfill(len(str(num_key_files - 1))) + f'_lugs_1-{str(i)}.json'\n",
    "                     for j in range(num_key_files))\n",
    "\n",
    "# Use multiprocessing to generate keys for the specified filenames\n",
    "with multiprocessing.Pool(NUMBER_CORS) as pool:\n",
    "        for _ in tqdm.tqdm(pool.imap(key_generator.keygen_json_lugs, filenames), total=num_key_files):\n",
    "            pass\n",
    "\n"
   ]
  },
  {
   "cell_type": "code",
   "execution_count": 5,
   "metadata": {},
   "outputs": [
    {
     "data": {
      "text/plain": [
       "0"
      ]
     },
     "execution_count": 5,
     "metadata": {},
     "output_type": "execute_result"
    }
   ],
   "source": [
    "os.chdir(PATH_KEYS)\n",
    "i=12 \n",
    "os.system(f\"tar -zcvf overlaps_1-{str(i)}.tar.gz overlaps_1-{str(i)}\")\n",
    "os.system(f\"rm -r -f overlaps_1-{str(i)}\")"
   ]
  },
  {
   "cell_type": "code",
   "execution_count": 6,
   "metadata": {},
   "outputs": [
    {
     "name": "stderr",
     "output_type": "stream",
     "text": [
      "200it [00:00, 216.65it/s]                     \n"
     ]
    }
   ],
   "source": [
    "# Preparing for pin generation\n",
    "os.chdir(PATH_KEYS)\n",
    "\n",
    "key_generator = KeyGen(count=int(keys_per_file), path=\"\")\n",
    "\n",
    "filenames = []\n",
    "\n",
    "# Create directories for pins if it doesn't exist\n",
    "for i in range(10):\n",
    "    try:\n",
    "        os.mkdir(PATH_KEYS + f\"/pins{i}/\")\n",
    "    except FileExistsError as err:\n",
    "        pass\n",
    "    \n",
    "    # Generate filenames for the pin files\n",
    "    filenames += list(PATH_KEYS + f\"/pins{i}/\" + str(j).zfill(len(str(num_key_files - 1))) + '_pins.json' for j in range(num_key_files))\n",
    "\n",
    "# Generate pin files using multiprocessing for improved performance\n",
    "with multiprocessing.Pool(200) as pool:\n",
    "    for _ in tqdm.tqdm(pool.imap(key_generator.keygen_json_pins, filenames), total=num_key_files):\n",
    "        pass\n",
    "\n",
    "#Compress the folders containing the pins and remove the non-compressed ones\n",
    "os.chdir(PATH_KEYS)\n",
    "for x in [f\"tar -zcvf pins{str(i)}.tar.gz pins{i}\" for i in range(10)]:\n",
    "    os.system(x)\n",
    "\n",
    "for x in [f\"rm -r -f pins{i}\" for i in range(10)]:\n",
    "    os.system(x)"
   ]
  },
  {
   "cell_type": "code",
   "execution_count": null,
   "metadata": {},
   "outputs": [],
   "source": []
  }
 ],
 "metadata": {
  "kernelspec": {
   "display_name": "Python 3",
   "language": "python",
   "name": "python3"
  },
  "language_info": {
   "codemirror_mode": {
    "name": "ipython",
    "version": 3
   },
   "file_extension": ".py",
   "mimetype": "text/x-python",
   "name": "python",
   "nbconvert_exporter": "python",
   "pygments_lexer": "ipython3",
   "version": "3.6.13"
  }
 },
 "nbformat": 4,
 "nbformat_minor": 1
}
