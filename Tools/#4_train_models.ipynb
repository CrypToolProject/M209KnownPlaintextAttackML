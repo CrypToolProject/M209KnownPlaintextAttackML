{
 "cells": [
  {
   "cell_type": "code",
   "execution_count": 1,
   "metadata": {
    "ExecuteTime": {
     "end_time": "2023-04-09T21:25:11.103052Z",
     "start_time": "2023-04-09T21:25:10.775074Z"
    }
   },
   "outputs": [],
   "source": [
    "# Import necessary libraries for data manipulation, machine learning model building, and memory management\n",
    "import os\n",
    "import random\n",
    "import numpy as np\n",
    "import pandas as pd\n",
    "import tqdm\n",
    "import multiprocessing"
   ]
  },
  {
   "cell_type": "code",
   "execution_count": 2,
   "metadata": {
    "ExecuteTime": {
     "end_time": "2023-04-09T21:25:13.610979Z",
     "start_time": "2023-04-09T21:25:13.550418Z"
    }
   },
   "outputs": [],
   "source": [
    "# Constants for defining the range of overlaps as a string\n",
    "NUMBER_OF_OVERLAPS = \"1-12\"\n",
    "\n",
    "# Determine the current working directory\n",
    "current_directory = os.getcwd()\n",
    "# Define the working directory as one level up from the current directory\n",
    "WORKING_DIR = os.path.join(current_directory, \"..\")\n",
    "\n",
    "# Path configurations for data storage and model saving\n",
    "PATH_DATA = os.path.join(WORKING_DIR, \"Data\") \n",
    "PATH_TRAINING_DATA = os.path.join(PATH_DATA, \"3_data_npy_train\")\n",
    "PATH_TRAINING_DATA = os.path.join(PATH_TRAINING_DATA, NUMBER_OF_OVERLAPS)\n",
    "PATH_MODELS_PARENT = os.path.join(PATH_DATA, \"models\")\n",
    "\n",
    "# Ensure the model directory exists, create it if not\n",
    "os.makedirs(PATH_MODELS_PARENT, exist_ok=True)\n"
   ]
  },
  {
   "cell_type": "code",
   "execution_count": 3,
   "metadata": {
    "ExecuteTime": {
     "end_time": "2023-04-09T21:25:14.272860Z",
     "start_time": "2023-04-09T21:25:14.193889Z"
    }
   },
   "outputs": [],
   "source": [
    "# Loading Filelist of Training-data\n",
    "filelist = os.listdir(PATH_TRAINING_DATA)\n",
    "\n",
    "filelist = [(x,y) for x in filelist if '_x_' in x for y in filelist if x.split('_')[0] == y.split('_')[0] and \"_y_\" in y]\n",
    "filelist.sort()"
   ]
  },
  {
   "cell_type": "code",
   "execution_count": 5,
   "metadata": {
    "ExecuteTime": {
     "end_time": "2023-04-09T21:25:14.661102Z",
     "start_time": "2023-04-09T21:25:14.644872Z"
    }
   },
   "outputs": [],
   "source": [
    "def load_data(count):\n",
    "\n",
    "    files = random.sample(filelist, k=count)\n",
    "\n",
    "    x_lst = []\n",
    "    y_lst = []\n",
    "\n",
    "    for file in tqdm.tqdm(files):\n",
    "        x_tmp = np.load(PATH_TRAINING_DATA + \"/\" + file[0])\n",
    "        y_tmp = np.load(PATH_TRAINING_DATA+ \"/\" + file[1])\n",
    "\n",
    "        if INPUT_SIZE > x_tmp.shape[1]:\n",
    "            raise UserWarning(\"Length to height\")\n",
    "\n",
    "        x_tmp = x_tmp[:,:INPUT_SIZE]\n",
    "\n",
    "        x_lst.append(x_tmp)\n",
    "        y_lst.append(y_tmp)\n",
    "\n",
    "    x = np.concatenate(x_lst, axis=0)\n",
    "    y = np.concatenate(y_lst, axis=0)\n",
    "\n",
    "    print(\"calculating float32\")\n",
    "    x = np.subtract(x ,65)\n",
    "    x = np.array(x, dtype='float32')\n",
    "    print (x)\n",
    "    print (y)\n",
    "    x = np.divide(x , 25)\n",
    "\n",
    "    y = np.array(y, dtype='float32')\n",
    "\n",
    "    return x, y"
   ]
  },
  {
   "cell_type": "code",
   "execution_count": 6,
   "metadata": {},
   "outputs": [],
   "source": [
    "def load_partial_data(count, records_per_file):\n",
    "    \"\"\"\n",
    "    Load a specific number of records from a set number of files.\n",
    "\n",
    "    Parameters:\n",
    "    - count: The number of files to randomly select and load data from.\n",
    "    - records_per_file: The number of records to load from each file.\n",
    "\n",
    "    Returns:\n",
    "    - Tuple of np.arrays: The loaded x and y data.\n",
    "    \"\"\"\n",
    "\n",
    "    # Assuming filelist is a list of tuples/lists with paths for x and y data files\n",
    "    files = random.sample(filelist, k=count)\n",
    "\n",
    "    x_lst = []\n",
    "    y_lst = []\n",
    "\n",
    "    for file in tqdm.tqdm(files):\n",
    "        # Load only the specified number of records from each file\n",
    "        x_tmp = np.load(PATH_TRAINING_DATA + \"/\" + file[0])[:records_per_file]\n",
    "        y_tmp = np.load(PATH_TRAINING_DATA  + \"/\" + file[1])[:records_per_file]\n",
    "\n",
    "        # Ensure the input size matches expected dimensions, adjust if necessary\n",
    "        if INPUT_SIZE > x_tmp.shape[1]:\n",
    "            raise UserWarning(\"Input size too large for loaded data.\")\n",
    "\n",
    "        x_tmp = x_tmp[:, :INPUT_SIZE] # Trim or expand the x data to the INPUT_SIZE\n",
    "\n",
    "\n",
    "        x_lst.append(x_tmp)\n",
    "        y_lst.append(y_tmp)\n",
    "        \n",
    "    # Concatenate all loaded data into a single array for both x and y\n",
    "    x = np.concatenate(x_lst, axis=0)\n",
    "    y = np.concatenate(y_lst, axis=0)\n",
    "\n",
    "    # Preprocess the data as before\n",
    "    print(\"Calculating float32...\")\n",
    "    x = np.subtract(x, 65)\n",
    "    x = np.array(x, dtype='float32')\n",
    "    x = np.divide(x, 25)\n",
    "    \n",
    "    # Convert y data to float32\n",
    "    y = np.array(y, dtype='float32')\n",
    "\n",
    "    return x, y"
   ]
  },
  {
   "cell_type": "code",
   "execution_count": 7,
   "metadata": {
    "ExecuteTime": {
     "end_time": "2023-04-09T21:25:17.470453Z",
     "start_time": "2023-04-09T21:25:15.872973Z"
    }
   },
   "outputs": [],
   "source": [
    "from tensorflow import keras\n",
    "from tensorflow.keras import layers"
   ]
  },
  {
   "cell_type": "code",
   "execution_count": 11,
   "metadata": {},
   "outputs": [],
   "source": [
    "# Define your ResNet-like architecture\n",
    "def make_resnet(input_length, num_filters=32, num_outputs=1, d1=512, d2=512, ks=5, depth=5, reg_param=0.0002, final_activation='sigmoid'):\n",
    "    inp = layers.Input(shape=(input_length, 1))\n",
    "    \n",
    "    # First convolutional layer\n",
    "    conv0 = layers.Conv1D(num_filters, kernel_size=1, padding='same', kernel_regularizer=l2(reg_param))(inp)\n",
    "    conv0 = layers.BatchNormalization()(conv0)\n",
    "    conv0 = layers.Activation('relu')(conv0)\n",
    "\n",
    "    # Residual blocks\n",
    "    shortcut = conv0\n",
    "    for i in range(depth):\n",
    "        conv1 = layers.Conv1D(num_filters, kernel_size=ks, padding='same', kernel_regularizer=l2(reg_param))(shortcut)\n",
    "        conv1 = layers.BatchNormalization()(conv1)\n",
    "        conv1 = layers.Activation('relu')(conv1)\n",
    "        conv2 = layers.Conv1D(num_filters, kernel_size=ks, padding='same', kernel_regularizer=l2(reg_param))(conv1)\n",
    "        conv2 = layers.BatchNormalization()(conv2)\n",
    "        conv2 = layers.Activation('relu')(conv2)\n",
    "        shortcut = layers.Add()([shortcut, conv2])\n",
    "\n",
    "    # Output layers\n",
    "    flat1 = layers.Flatten()(shortcut)\n",
    "    dense1 = layers.Dense(d1, kernel_regularizer=l2(reg_param))(flat1)\n",
    "    dense1 = layers.BatchNormalization()(dense1)\n",
    "    dense1 = layers.Activation('relu')(dense1)\n",
    "    dense2 = layers.Dense(d2, kernel_regularizer=l2(reg_param))(dense1)\n",
    "    dense2 = layers.BatchNormalization()(dense2)\n",
    "    dense2 = layers.Activation('relu')(dense2)\n",
    "    out = layers.Dense(num_outputs, activation=final_activation, kernel_regularizer=l2(reg_param))(dense2)\n",
    "\n",
    "    model = models.Model(inputs=inp, outputs=out)\n",
    "    return model"
   ]
  },
  {
   "cell_type": "code",
   "execution_count": null,
   "metadata": {},
   "outputs": [],
   "source": [
    "# Import necessary libraries for data manipulation, machine learning model building, and memory management\n",
    "\n",
    "import numpy as np\n",
    "import pandas as pd\n",
    "import tensorflow as tf\n",
    "from sklearn.model_selection import train_test_split\n",
    "from tensorflow.keras import layers, models, callbacks, optimizers\n",
    "from tensorflow.keras.regularizers import l2\n",
    "import gc\n",
    "import os\n",
    "# Define input size for the model and the path where models will be saved\n",
    "INPUT_SIZE = 200\n",
    "PATH_MODELS =os.path.join(PATH_MODELS_PARENT,f\"models_seq_{INPUT_SIZE}\")\n",
    "os.makedirs(PATH_MODELS, exist_ok=True)\n",
    "\n",
    "#pinwheel_sizes = [26, 25, 23, 21, 19, 17]\n",
    "pinwheel_sizes = [26]\n",
    "\n",
    "# Cumulative sizes used for iterating over segments\n",
    "cumulative_sizes = np.cumsum([0] + pinwheel_sizes)\n",
    "\n",
    "\n",
    "model_accuracies = []\n",
    "\n",
    "# Loop over each sequence length\n",
    "seq_len = INPUT_SIZE  # Define sequence length\n",
    "# Iterate over each wheel\n",
    "for wheel, (start_pin, end_pin) in enumerate(zip(cumulative_sizes, cumulative_sizes[1:])):\n",
    "    train_all_pins = False  # Flag to determine if all pins should be trained\n",
    "\n",
    "    # Iterate over each pin in the current wheel\n",
    "    for pin in range(start_pin, end_pin):\n",
    "        while True:\n",
    "            # Extract the target values for the current pin\n",
    "            x, y = load_partial_data(100,15000)\n",
    "\n",
    "            targets = y[:, pin]\n",
    "            # Split the data into training and testing sets\n",
    "            X_train, X_test, y_train, y_test = train_test_split(x, targets, test_size=0.2, random_state=17)\n",
    "\n",
    "            # Create and compile the ResNet model\n",
    "            model_pin = make_resnet(seq_len, num_filters=100, depth=5, num_outputs=1)\n",
    "            model_pin.compile(optimizer=optimizers.Adam(), loss='binary_crossentropy', metrics=['accuracy'])\n",
    "\n",
    "            # Setup callbacks for model saving and learning rate scheduling\n",
    "            checkpoint_cb_pin = callbacks.ModelCheckpoint(PATH_MODELS+f'/best_model_wheel_{wheel}_pin_{pin}.h5', save_best_only=True)\n",
    "            lr_scheduler_cb_pin = callbacks.LearningRateScheduler(lambda epoch: 1e-3 * 0.95 ** epoch)\n",
    "\n",
    "            # Train the model\n",
    "            history_pin = model_pin.fit(X_train, y_train, batch_size=1000, epochs=10, validation_split=0.2, callbacks=[checkpoint_cb_pin, lr_scheduler_cb_pin])\n",
    "            # Evaluate the model on the test set\n",
    "            test_loss_pin, test_accuracy_pin = model_pin.evaluate(X_test, y_test)\n",
    "            print(f\"Seq Length {seq_len}, Wheel {wheel}, Pin {pin}: Test Loss: {test_loss_pin}, Test Accuracy: {test_accuracy_pin}\")\n",
    "\n",
    "            # Check if the current pin is the first pin\n",
    "            if pin == start_pin:\n",
    "                # If the accuracy is higher than 0.6, set the flag to train all pins\n",
    "                if test_accuracy_pin > 0.5:\n",
    "                    train_all_pins = True\n",
    "                else:\n",
    "                    break  # Skip training the remaining pins for this wheel\n",
    "            #retraining for pins vs low accuracy        \n",
    "            if test_accuracy_pin > 0.88:\n",
    "\n",
    "                # Record the model's accuracy if it's the first pin or if all pins are being trained\n",
    "                if train_all_pins or pin == start_pin:\n",
    "                    model_accuracies.append({\n",
    "                        'Sequence Length': seq_len,\n",
    "                        'Wheel Number': wheel,\n",
    "                        'Pin Number': pin,\n",
    "                        'Accuracy': test_accuracy_pin\n",
    "                    })\n",
    "\n",
    "                    # Save the final model\n",
    "                    model_pin.save(PATH_MODELS+f'/best_model_wheel_{wheel}_pin_{pin}.h5')\n",
    "\n",
    "                # Clear the TensorFlow session and collect garbage to free memory\n",
    "                tf.keras.backend.clear_session()\n",
    "                gc.collect()\n",
    "                break\n",
    "\n",
    "            \n",
    "# Convert the list of accuracies to a DataFrame\n",
    "accuracy_df = pd.DataFrame(model_accuracies)\n",
    "\n",
    "# Save the DataFrame to an Excel file\n",
    "accuracy_df.to_excel('model_accuracies.xlsx', index=False)"
   ]
  },
  {
   "cell_type": "code",
   "execution_count": 22,
   "metadata": {},
   "outputs": [
    {
     "name": "stderr",
     "output_type": "stream",
     "text": [
      "100%|██████████| 100/100 [00:02<00:00, 49.50it/s]\n"
     ]
    },
    {
     "name": "stdout",
     "output_type": "stream",
     "text": [
      "Calculating float32...\n",
      "Epoch 1/10\n",
      "1847/1847 [==============================] - 59s 30ms/step - loss: 0.7944 - accuracy: 0.5946 - val_loss: 0.7042 - val_accuracy: 0.6004\n"
     ]
    },
    {
     "name": "stderr",
     "output_type": "stream",
     "text": [
      "/home/cryptool/anaconda3/envs/tensorflow/lib/python3.6/site-packages/keras/utils/generic_utils.py:497: CustomMaskWarning: Custom mask layers require a config and must override get_config. When loading, the custom mask layer must be passed to the custom_objects argument.\n",
      "  category=CustomMaskWarning)\n"
     ]
    },
    {
     "name": "stdout",
     "output_type": "stream",
     "text": [
      "Epoch 2/10\n",
      "1847/1847 [==============================] - 53s 29ms/step - loss: 0.6819 - accuracy: 0.6109 - val_loss: 0.6805 - val_accuracy: 0.6054\n",
      "Epoch 3/10\n",
      "1847/1847 [==============================] - 54s 29ms/step - loss: 0.6690 - accuracy: 0.6142 - val_loss: 0.6713 - val_accuracy: 0.6125\n",
      "Epoch 4/10\n",
      "1847/1847 [==============================] - 54s 29ms/step - loss: 0.6599 - accuracy: 0.6187 - val_loss: 0.6744 - val_accuracy: 0.6073\n",
      "Epoch 5/10\n",
      "1847/1847 [==============================] - 54s 29ms/step - loss: 0.6512 - accuracy: 0.6223 - val_loss: 0.6539 - val_accuracy: 0.6187\n",
      "Epoch 6/10\n",
      "1847/1847 [==============================] - 54s 29ms/step - loss: 0.6450 - accuracy: 0.6248 - val_loss: 0.6501 - val_accuracy: 0.6204\n",
      "Epoch 7/10\n",
      "1847/1847 [==============================] - 54s 29ms/step - loss: 0.6405 - accuracy: 0.6266 - val_loss: 0.6465 - val_accuracy: 0.6230\n",
      "Epoch 8/10\n",
      "1847/1847 [==============================] - 54s 29ms/step - loss: 0.6369 - accuracy: 0.6285 - val_loss: 0.6436 - val_accuracy: 0.6237\n",
      "Epoch 9/10\n",
      "1847/1847 [==============================] - 54s 29ms/step - loss: 0.6337 - accuracy: 0.6309 - val_loss: 0.6401 - val_accuracy: 0.6255\n",
      "Epoch 10/10\n",
      "1847/1847 [==============================] - 54s 29ms/step - loss: 0.6308 - accuracy: 0.6342 - val_loss: 0.6450 - val_accuracy: 0.6251\n",
      "9375/9375 [==============================] - 69s 7ms/step - loss: 0.6453 - accuracy: 0.6249\n",
      "Seq Length 52, Wheel 0, Pin 5: Test Loss: 0.6452659964561462, Test Accuracy: 0.6249200105667114\n"
     ]
    },
    {
     "name": "stderr",
     "output_type": "stream",
     "text": [
      "100%|██████████| 100/100 [00:01<00:00, 50.29it/s]\n"
     ]
    },
    {
     "name": "stdout",
     "output_type": "stream",
     "text": [
      "Calculating float32...\n",
      "Epoch 1/10\n",
      "1847/1847 [==============================] - 58s 30ms/step - loss: 0.8018 - accuracy: 0.5912 - val_loss: 0.7089 - val_accuracy: 0.5871\n",
      "Epoch 2/10\n",
      "1847/1847 [==============================] - 54s 29ms/step - loss: 0.6841 - accuracy: 0.6081 - val_loss: 0.6834 - val_accuracy: 0.6045\n",
      "Epoch 3/10\n",
      "1847/1847 [==============================] - 53s 29ms/step - loss: 0.6714 - accuracy: 0.6113 - val_loss: 0.6814 - val_accuracy: 0.6005\n",
      "Epoch 4/10\n",
      "1847/1847 [==============================] - 55s 30ms/step - loss: 0.6615 - accuracy: 0.6150 - val_loss: 0.6812 - val_accuracy: 0.5933\n",
      "Epoch 5/10\n",
      "1847/1847 [==============================] - 54s 29ms/step - loss: 0.6532 - accuracy: 0.6183 - val_loss: 0.6697 - val_accuracy: 0.6027\n",
      "Epoch 6/10\n",
      "1847/1847 [==============================] - 54s 29ms/step - loss: 0.6472 - accuracy: 0.6206 - val_loss: 0.6519 - val_accuracy: 0.6199\n",
      "Epoch 7/10\n",
      "1847/1847 [==============================] - 54s 29ms/step - loss: 0.6429 - accuracy: 0.6227 - val_loss: 0.6471 - val_accuracy: 0.6213\n",
      "Epoch 8/10\n",
      "1847/1847 [==============================] - 54s 29ms/step - loss: 0.6392 - accuracy: 0.6252 - val_loss: 0.6436 - val_accuracy: 0.6228\n",
      "Epoch 9/10\n",
      "1847/1847 [==============================] - 54s 29ms/step - loss: 0.6362 - accuracy: 0.6278 - val_loss: 0.6426 - val_accuracy: 0.6255\n",
      "Epoch 10/10\n",
      "1847/1847 [==============================] - 54s 30ms/step - loss: 0.6335 - accuracy: 0.6309 - val_loss: 0.6394 - val_accuracy: 0.6265\n",
      "9375/9375 [==============================] - 69s 7ms/step - loss: 0.6398 - accuracy: 0.6262\n",
      "Seq Length 52, Wheel 0, Pin 6: Test Loss: 0.6397648453712463, Test Accuracy: 0.626176655292511\n"
     ]
    },
    {
     "name": "stderr",
     "output_type": "stream",
     "text": [
      "100%|██████████| 100/100 [00:01<00:00, 52.62it/s]\n"
     ]
    },
    {
     "name": "stdout",
     "output_type": "stream",
     "text": [
      "Calculating float32...\n",
      "Epoch 1/10\n",
      "1847/1847 [==============================] - 58s 30ms/step - loss: 0.7991 - accuracy: 0.5941 - val_loss: 0.7091 - val_accuracy: 0.5848\n",
      "Epoch 2/10\n",
      "1847/1847 [==============================] - 55s 30ms/step - loss: 0.6844 - accuracy: 0.6077 - val_loss: 0.6937 - val_accuracy: 0.6078\n",
      "Epoch 3/10\n",
      "1847/1847 [==============================] - 54s 29ms/step - loss: 0.6724 - accuracy: 0.6112 - val_loss: 0.6737 - val_accuracy: 0.6089\n",
      "Epoch 4/10\n",
      "1847/1847 [==============================] - 55s 30ms/step - loss: 0.6630 - accuracy: 0.6145 - val_loss: 0.6749 - val_accuracy: 0.6071\n",
      "Epoch 5/10\n",
      "1847/1847 [==============================] - 54s 29ms/step - loss: 0.6542 - accuracy: 0.6183 - val_loss: 0.6600 - val_accuracy: 0.6168\n",
      "Epoch 6/10\n",
      "1847/1847 [==============================] - 54s 29ms/step - loss: 0.6482 - accuracy: 0.6204 - val_loss: 0.6501 - val_accuracy: 0.6196\n",
      "Epoch 7/10\n",
      "1847/1847 [==============================] - 54s 29ms/step - loss: 0.6441 - accuracy: 0.6221 - val_loss: 0.6492 - val_accuracy: 0.6198\n",
      "Epoch 8/10\n",
      "1847/1847 [==============================] - 55s 30ms/step - loss: 0.6407 - accuracy: 0.6247 - val_loss: 0.6541 - val_accuracy: 0.6189\n",
      "Epoch 9/10\n",
      "1847/1847 [==============================] - 55s 30ms/step - loss: 0.6379 - accuracy: 0.6275 - val_loss: 0.6467 - val_accuracy: 0.6164\n",
      "Epoch 10/10\n",
      "1847/1847 [==============================] - 55s 30ms/step - loss: 0.6348 - accuracy: 0.6296 - val_loss: 0.6419 - val_accuracy: 0.6259\n",
      "9375/9375 [==============================] - 69s 7ms/step - loss: 0.6427 - accuracy: 0.6251\n",
      "Seq Length 52, Wheel 0, Pin 7: Test Loss: 0.6426881551742554, Test Accuracy: 0.6251000165939331\n"
     ]
    },
    {
     "name": "stderr",
     "output_type": "stream",
     "text": [
      "100%|██████████| 100/100 [00:01<00:00, 50.16it/s]\n"
     ]
    },
    {
     "name": "stdout",
     "output_type": "stream",
     "text": [
      "Calculating float32...\n",
      "Epoch 1/10\n",
      "1847/1847 [==============================] - 58s 29ms/step - loss: 0.8007 - accuracy: 0.5925 - val_loss: 0.7189 - val_accuracy: 0.6014\n",
      "Epoch 2/10\n",
      "1847/1847 [==============================] - 54s 29ms/step - loss: 0.6845 - accuracy: 0.6074 - val_loss: 0.6821 - val_accuracy: 0.5985\n",
      "Epoch 3/10\n",
      "1847/1847 [==============================] - 54s 29ms/step - loss: 0.6721 - accuracy: 0.6104 - val_loss: 0.6723 - val_accuracy: 0.6057\n",
      "Epoch 4/10\n",
      "1847/1847 [==============================] - 54s 29ms/step - loss: 0.6626 - accuracy: 0.6136 - val_loss: 0.6897 - val_accuracy: 0.5820\n",
      "Epoch 5/10\n",
      "1847/1847 [==============================] - 54s 29ms/step - loss: 0.6546 - accuracy: 0.6168 - val_loss: 0.6664 - val_accuracy: 0.6092\n",
      "Epoch 6/10\n",
      "1847/1847 [==============================] - 55s 30ms/step - loss: 0.6488 - accuracy: 0.6192 - val_loss: 0.6692 - val_accuracy: 0.6176\n",
      "Epoch 7/10\n",
      "1847/1847 [==============================] - 54s 29ms/step - loss: 0.6444 - accuracy: 0.6219 - val_loss: 0.6547 - val_accuracy: 0.6165\n",
      "Epoch 8/10\n",
      "1847/1847 [==============================] - 55s 30ms/step - loss: 0.6408 - accuracy: 0.6249 - val_loss: 0.6486 - val_accuracy: 0.6179\n",
      "Epoch 9/10\n",
      "1847/1847 [==============================] - 54s 29ms/step - loss: 0.6377 - accuracy: 0.6272 - val_loss: 0.6458 - val_accuracy: 0.6209\n",
      "Epoch 10/10\n",
      "1847/1847 [==============================] - 54s 29ms/step - loss: 0.6345 - accuracy: 0.6310 - val_loss: 0.6436 - val_accuracy: 0.6209\n",
      "9375/9375 [==============================] - 70s 7ms/step - loss: 0.6443 - accuracy: 0.6209\n",
      "Seq Length 52, Wheel 0, Pin 8: Test Loss: 0.6443135738372803, Test Accuracy: 0.6208566427230835\n"
     ]
    },
    {
     "name": "stderr",
     "output_type": "stream",
     "text": [
      "100%|██████████| 100/100 [00:02<00:00, 49.85it/s]\n"
     ]
    },
    {
     "name": "stdout",
     "output_type": "stream",
     "text": [
      "Calculating float32...\n",
      "Epoch 1/10\n",
      "1847/1847 [==============================] - 58s 30ms/step - loss: 0.8064 - accuracy: 0.5915 - val_loss: 0.7034 - val_accuracy: 0.6038\n",
      "Epoch 2/10\n",
      "1847/1847 [==============================] - 55s 30ms/step - loss: 0.6864 - accuracy: 0.6059 - val_loss: 0.6823 - val_accuracy: 0.6009\n",
      "Epoch 3/10\n",
      "1847/1847 [==============================] - 54s 29ms/step - loss: 0.6733 - accuracy: 0.6093 - val_loss: 0.6807 - val_accuracy: 0.5921\n",
      "Epoch 4/10\n",
      "1847/1847 [==============================] - 54s 29ms/step - loss: 0.6640 - accuracy: 0.6131 - val_loss: 0.6732 - val_accuracy: 0.6025\n",
      "Epoch 5/10\n",
      "1847/1847 [==============================] - 54s 29ms/step - loss: 0.6553 - accuracy: 0.6162 - val_loss: 0.6864 - val_accuracy: 0.6075\n",
      "Epoch 6/10\n",
      "1847/1847 [==============================] - 55s 30ms/step - loss: 0.6492 - accuracy: 0.6185 - val_loss: 0.6598 - val_accuracy: 0.6086\n",
      "Epoch 7/10\n",
      "1847/1847 [==============================] - 54s 29ms/step - loss: 0.6450 - accuracy: 0.6209 - val_loss: 0.6636 - val_accuracy: 0.6164\n",
      "Epoch 8/10\n",
      "1847/1847 [==============================] - 55s 30ms/step - loss: 0.6416 - accuracy: 0.6235 - val_loss: 0.6498 - val_accuracy: 0.6201\n",
      "Epoch 9/10\n",
      "1847/1847 [==============================] - 55s 30ms/step - loss: 0.6387 - accuracy: 0.6254 - val_loss: 0.6479 - val_accuracy: 0.6225\n",
      "Epoch 10/10\n",
      "1847/1847 [==============================] - 54s 29ms/step - loss: 0.6359 - accuracy: 0.6279 - val_loss: 0.6428 - val_accuracy: 0.6218\n",
      "9375/9375 [==============================] - 69s 7ms/step - loss: 0.6430 - accuracy: 0.6220\n",
      "Seq Length 52, Wheel 0, Pin 9: Test Loss: 0.6429888606071472, Test Accuracy: 0.621999979019165\n"
     ]
    },
    {
     "name": "stderr",
     "output_type": "stream",
     "text": [
      "100%|██████████| 100/100 [00:02<00:00, 49.85it/s]\n"
     ]
    },
    {
     "name": "stdout",
     "output_type": "stream",
     "text": [
      "Calculating float32...\n",
      "Epoch 1/10\n",
      "1847/1847 [==============================] - 58s 30ms/step - loss: 0.7873 - accuracy: 0.5892 - val_loss: 0.6934 - val_accuracy: 0.6025\n",
      "Epoch 2/10\n",
      "1847/1847 [==============================] - 55s 30ms/step - loss: 0.6852 - accuracy: 0.6062 - val_loss: 0.6816 - val_accuracy: 0.6025\n",
      "Epoch 3/10\n",
      "1847/1847 [==============================] - 54s 29ms/step - loss: 0.6750 - accuracy: 0.6094 - val_loss: 0.8058 - val_accuracy: 0.5929\n",
      "Epoch 4/10\n",
      "1847/1847 [==============================] - 54s 29ms/step - loss: 0.6706 - accuracy: 0.6111 - val_loss: 0.6902 - val_accuracy: 0.5938\n",
      "Epoch 5/10\n",
      "1847/1847 [==============================] - 55s 30ms/step - loss: 0.6618 - accuracy: 0.6134 - val_loss: 0.6614 - val_accuracy: 0.6121\n",
      "Epoch 6/10\n",
      "1847/1847 [==============================] - 55s 30ms/step - loss: 0.6547 - accuracy: 0.6152 - val_loss: 0.6560 - val_accuracy: 0.6108\n",
      "Epoch 7/10\n",
      "1847/1847 [==============================] - 55s 30ms/step - loss: 0.6488 - accuracy: 0.6173 - val_loss: 0.6559 - val_accuracy: 0.6104\n",
      "Epoch 8/10\n",
      "1847/1847 [==============================] - 54s 29ms/step - loss: 0.6446 - accuracy: 0.6196 - val_loss: 0.6493 - val_accuracy: 0.6145\n",
      "Epoch 9/10\n",
      "1847/1847 [==============================] - 55s 30ms/step - loss: 0.6411 - accuracy: 0.6219 - val_loss: 0.6462 - val_accuracy: 0.6178\n",
      "Epoch 10/10\n",
      "1847/1847 [==============================] - 55s 30ms/step - loss: 0.6381 - accuracy: 0.6244 - val_loss: 0.6442 - val_accuracy: 0.6177\n",
      "9375/9375 [==============================] - 69s 7ms/step - loss: 0.6434 - accuracy: 0.6207\n",
      "Seq Length 52, Wheel 0, Pin 10: Test Loss: 0.6433933973312378, Test Accuracy: 0.6206766963005066\n"
     ]
    },
    {
     "name": "stderr",
     "output_type": "stream",
     "text": [
      "100%|██████████| 100/100 [00:01<00:00, 52.66it/s]\n"
     ]
    },
    {
     "name": "stdout",
     "output_type": "stream",
     "text": [
      "Calculating float32...\n",
      "Epoch 1/10\n",
      "1847/1847 [==============================] - 58s 29ms/step - loss: 0.8008 - accuracy: 0.5913 - val_loss: 0.7207 - val_accuracy: 0.5734\n",
      "Epoch 2/10\n",
      "1847/1847 [==============================] - 55s 30ms/step - loss: 0.6848 - accuracy: 0.6057 - val_loss: 0.6919 - val_accuracy: 0.5878\n",
      "Epoch 3/10\n",
      "1847/1847 [==============================] - 54s 29ms/step - loss: 0.6722 - accuracy: 0.6101 - val_loss: 0.6868 - val_accuracy: 0.6028\n",
      "Epoch 4/10\n",
      "1847/1847 [==============================] - 55s 30ms/step - loss: 0.6632 - accuracy: 0.6134 - val_loss: 0.6613 - val_accuracy: 0.6160\n",
      "Epoch 5/10\n",
      "1847/1847 [==============================] - 55s 30ms/step - loss: 0.6547 - accuracy: 0.6165 - val_loss: 0.6582 - val_accuracy: 0.6112\n",
      "Epoch 6/10\n",
      "1847/1847 [==============================] - 55s 30ms/step - loss: 0.6485 - accuracy: 0.6194 - val_loss: 0.6568 - val_accuracy: 0.6150\n",
      "Epoch 7/10\n",
      "1847/1847 [==============================] - 54s 29ms/step - loss: 0.6442 - accuracy: 0.6213 - val_loss: 0.6490 - val_accuracy: 0.6188\n",
      "Epoch 8/10\n",
      "1847/1847 [==============================] - 54s 29ms/step - loss: 0.6409 - accuracy: 0.6233 - val_loss: 0.6467 - val_accuracy: 0.6208\n",
      "Epoch 9/10\n",
      "1847/1847 [==============================] - 55s 30ms/step - loss: 0.6376 - accuracy: 0.6265 - val_loss: 0.6482 - val_accuracy: 0.6203\n",
      "Epoch 10/10\n",
      "1847/1847 [==============================] - 55s 30ms/step - loss: 0.6344 - accuracy: 0.6297 - val_loss: 0.6425 - val_accuracy: 0.6235\n",
      "9375/9375 [==============================] - 70s 7ms/step - loss: 0.6436 - accuracy: 0.6214\n",
      "Seq Length 52, Wheel 0, Pin 11: Test Loss: 0.6436300873756409, Test Accuracy: 0.621429979801178\n"
     ]
    },
    {
     "name": "stderr",
     "output_type": "stream",
     "text": [
      "100%|██████████| 100/100 [00:01<00:00, 52.98it/s]\n"
     ]
    },
    {
     "name": "stdout",
     "output_type": "stream",
     "text": [
      "Calculating float32...\n",
      "Epoch 1/10\n",
      "1847/1847 [==============================] - 58s 30ms/step - loss: 0.7953 - accuracy: 0.5907 - val_loss: 0.6998 - val_accuracy: 0.6038\n",
      "Epoch 2/10\n",
      "1847/1847 [==============================] - 55s 30ms/step - loss: 0.6844 - accuracy: 0.6085 - val_loss: 0.6853 - val_accuracy: 0.6072\n",
      "Epoch 3/10\n",
      "1847/1847 [==============================] - 55s 30ms/step - loss: 0.6743 - accuracy: 0.6120 - val_loss: 0.6688 - val_accuracy: 0.6127\n",
      "Epoch 4/10\n",
      "1847/1847 [==============================] - 55s 30ms/step - loss: 0.6661 - accuracy: 0.6142 - val_loss: 0.6769 - val_accuracy: 0.6119\n",
      "Epoch 5/10\n",
      "1847/1847 [==============================] - 54s 29ms/step - loss: 0.6581 - accuracy: 0.6166 - val_loss: 0.6685 - val_accuracy: 0.6066\n",
      "Epoch 6/10\n",
      "1847/1847 [==============================] - 55s 30ms/step - loss: 0.6504 - accuracy: 0.6201 - val_loss: 0.6518 - val_accuracy: 0.6166\n",
      "Epoch 7/10\n",
      "1847/1847 [==============================] - 55s 30ms/step - loss: 0.6456 - accuracy: 0.6219 - val_loss: 0.6495 - val_accuracy: 0.6166\n",
      "Epoch 8/10\n",
      "1847/1847 [==============================] - 55s 30ms/step - loss: 0.6418 - accuracy: 0.6241 - val_loss: 0.6495 - val_accuracy: 0.6192\n",
      "Epoch 9/10\n",
      "1847/1847 [==============================] - 55s 30ms/step - loss: 0.6389 - accuracy: 0.6266 - val_loss: 0.6449 - val_accuracy: 0.6193\n",
      "Epoch 10/10\n",
      "1847/1847 [==============================] - 55s 30ms/step - loss: 0.6359 - accuracy: 0.6294 - val_loss: 0.6444 - val_accuracy: 0.6206\n",
      "9375/9375 [==============================] - 69s 7ms/step - loss: 0.6442 - accuracy: 0.6216\n",
      "Seq Length 52, Wheel 0, Pin 12: Test Loss: 0.6442049741744995, Test Accuracy: 0.6216133236885071\n"
     ]
    },
    {
     "name": "stderr",
     "output_type": "stream",
     "text": [
      "100%|██████████| 100/100 [00:02<00:00, 49.77it/s]\n"
     ]
    },
    {
     "name": "stdout",
     "output_type": "stream",
     "text": [
      "Calculating float32...\n",
      "Epoch 1/10\n",
      "1847/1847 [==============================] - 59s 30ms/step - loss: 0.7871 - accuracy: 0.5925 - val_loss: 0.7306 - val_accuracy: 0.5902\n",
      "Epoch 2/10\n",
      "1847/1847 [==============================] - 55s 30ms/step - loss: 0.6829 - accuracy: 0.6083 - val_loss: 0.6771 - val_accuracy: 0.6094\n",
      "Epoch 3/10\n",
      "1847/1847 [==============================] - 54s 29ms/step - loss: 0.6728 - accuracy: 0.6123 - val_loss: 0.6690 - val_accuracy: 0.6123\n",
      "Epoch 4/10\n",
      "1847/1847 [==============================] - 55s 30ms/step - loss: 0.6652 - accuracy: 0.6149 - val_loss: 0.6636 - val_accuracy: 0.6121\n",
      "Epoch 5/10\n",
      "1847/1847 [==============================] - 55s 30ms/step - loss: 0.6581 - accuracy: 0.6164 - val_loss: 0.6599 - val_accuracy: 0.6108\n",
      "Epoch 6/10\n",
      "1847/1847 [==============================] - 54s 29ms/step - loss: 0.6504 - accuracy: 0.6189 - val_loss: 0.6554 - val_accuracy: 0.6159\n",
      "Epoch 7/10\n",
      "1847/1847 [==============================] - 55s 30ms/step - loss: 0.6452 - accuracy: 0.6219 - val_loss: 0.6603 - val_accuracy: 0.6149\n",
      "Epoch 8/10\n",
      "1847/1847 [==============================] - 54s 29ms/step - loss: 0.6412 - accuracy: 0.6234 - val_loss: 0.6493 - val_accuracy: 0.6182\n",
      "Epoch 9/10\n",
      "1847/1847 [==============================] - 55s 30ms/step - loss: 0.6378 - accuracy: 0.6268 - val_loss: 0.6471 - val_accuracy: 0.6177\n",
      "Epoch 10/10\n",
      "1847/1847 [==============================] - 55s 30ms/step - loss: 0.6349 - accuracy: 0.6296 - val_loss: 0.6407 - val_accuracy: 0.6226\n",
      "9375/9375 [==============================] - 70s 7ms/step - loss: 0.6405 - accuracy: 0.6241\n",
      "Seq Length 52, Wheel 0, Pin 13: Test Loss: 0.640500545501709, Test Accuracy: 0.6240566372871399\n"
     ]
    },
    {
     "name": "stderr",
     "output_type": "stream",
     "text": [
      "100%|██████████| 100/100 [00:01<00:00, 52.69it/s]\n"
     ]
    },
    {
     "name": "stdout",
     "output_type": "stream",
     "text": [
      "Calculating float32...\n",
      "Epoch 1/10\n",
      "1847/1847 [==============================] - 59s 30ms/step - loss: 0.8030 - accuracy: 0.5958 - val_loss: 0.6991 - val_accuracy: 0.6026\n",
      "Epoch 2/10\n",
      "1847/1847 [==============================] - 55s 30ms/step - loss: 0.6828 - accuracy: 0.6114 - val_loss: 0.6769 - val_accuracy: 0.6087\n",
      "Epoch 3/10\n",
      "1847/1847 [==============================] - 55s 30ms/step - loss: 0.6701 - accuracy: 0.6150 - val_loss: 0.6710 - val_accuracy: 0.6109\n",
      "Epoch 4/10\n",
      "1847/1847 [==============================] - 55s 30ms/step - loss: 0.6612 - accuracy: 0.6190 - val_loss: 0.6677 - val_accuracy: 0.6038\n",
      "Epoch 5/10\n",
      "1847/1847 [==============================] - 55s 30ms/step - loss: 0.6528 - accuracy: 0.6225 - val_loss: 0.6633 - val_accuracy: 0.6205\n",
      "Epoch 6/10\n",
      "1847/1847 [==============================] - 55s 30ms/step - loss: 0.6463 - accuracy: 0.6246 - val_loss: 0.6504 - val_accuracy: 0.6202\n",
      "Epoch 7/10\n",
      "1847/1847 [==============================] - 55s 30ms/step - loss: 0.6419 - accuracy: 0.6264 - val_loss: 0.6487 - val_accuracy: 0.6227\n",
      "Epoch 8/10\n",
      "1847/1847 [==============================] - 55s 30ms/step - loss: 0.6384 - accuracy: 0.6284 - val_loss: 0.6518 - val_accuracy: 0.6188\n",
      "Epoch 9/10\n",
      "1847/1847 [==============================] - 55s 30ms/step - loss: 0.6351 - accuracy: 0.6301 - val_loss: 0.6514 - val_accuracy: 0.6266\n",
      "Epoch 10/10\n",
      "1847/1847 [==============================] - 55s 30ms/step - loss: 0.6321 - accuracy: 0.6333 - val_loss: 0.6437 - val_accuracy: 0.6230\n",
      "9375/9375 [==============================] - 69s 7ms/step - loss: 0.6440 - accuracy: 0.6220\n",
      "Seq Length 52, Wheel 0, Pin 14: Test Loss: 0.644000232219696, Test Accuracy: 0.6219766736030579\n"
     ]
    },
    {
     "name": "stderr",
     "output_type": "stream",
     "text": [
      "100%|██████████| 100/100 [00:01<00:00, 52.64it/s]\n"
     ]
    },
    {
     "name": "stdout",
     "output_type": "stream",
     "text": [
      "Calculating float32...\n",
      "Epoch 1/10\n",
      "1847/1847 [==============================] - 59s 30ms/step - loss: 0.7724 - accuracy: 0.6366 - val_loss: 0.6739 - val_accuracy: 0.6477\n",
      "Epoch 2/10\n",
      "1847/1847 [==============================] - 55s 30ms/step - loss: 0.6522 - accuracy: 0.6548 - val_loss: 0.6604 - val_accuracy: 0.6416\n",
      "Epoch 3/10\n",
      "1847/1847 [==============================] - 55s 30ms/step - loss: 0.6368 - accuracy: 0.6584 - val_loss: 0.6388 - val_accuracy: 0.6564\n",
      "Epoch 4/10\n",
      "1847/1847 [==============================] - 55s 30ms/step - loss: 0.6239 - accuracy: 0.6633 - val_loss: 0.6661 - val_accuracy: 0.6291\n",
      "Epoch 5/10\n",
      "1847/1847 [==============================] - 55s 30ms/step - loss: 0.6139 - accuracy: 0.6661 - val_loss: 0.6267 - val_accuracy: 0.6573\n",
      "Epoch 6/10\n",
      "1847/1847 [==============================] - 55s 30ms/step - loss: 0.6070 - accuracy: 0.6690 - val_loss: 0.6143 - val_accuracy: 0.6623\n",
      "Epoch 7/10\n",
      "1847/1847 [==============================] - 55s 30ms/step - loss: 0.6022 - accuracy: 0.6707 - val_loss: 0.6122 - val_accuracy: 0.6674\n",
      "Epoch 8/10\n",
      "1847/1847 [==============================] - 55s 30ms/step - loss: 0.5981 - accuracy: 0.6734 - val_loss: 0.6046 - val_accuracy: 0.6675\n",
      "Epoch 9/10\n",
      "1847/1847 [==============================] - 54s 29ms/step - loss: 0.5948 - accuracy: 0.6758 - val_loss: 0.6082 - val_accuracy: 0.6627\n",
      "Epoch 10/10\n",
      "1847/1847 [==============================] - 55s 30ms/step - loss: 0.5912 - accuracy: 0.6793 - val_loss: 0.6092 - val_accuracy: 0.6701\n",
      "9375/9375 [==============================] - 70s 7ms/step - loss: 0.6113 - accuracy: 0.6687\n",
      "Seq Length 52, Wheel 0, Pin 15: Test Loss: 0.6113336682319641, Test Accuracy: 0.6687033176422119\n"
     ]
    },
    {
     "name": "stderr",
     "output_type": "stream",
     "text": [
      "100%|██████████| 100/100 [00:01<00:00, 52.85it/s]\n"
     ]
    },
    {
     "name": "stdout",
     "output_type": "stream",
     "text": [
      "Calculating float32...\n",
      "Epoch 1/10\n",
      "1847/1847 [==============================] - 58s 30ms/step - loss: 0.7638 - accuracy: 0.6351 - val_loss: 1.9798 - val_accuracy: 0.5282\n",
      "Epoch 2/10\n",
      "1847/1847 [==============================] - 55s 30ms/step - loss: 0.6539 - accuracy: 0.6550 - val_loss: 0.6489 - val_accuracy: 0.6538\n",
      "Epoch 3/10\n",
      "1847/1847 [==============================] - 55s 30ms/step - loss: 0.6424 - accuracy: 0.6590 - val_loss: 0.7442 - val_accuracy: 0.6101\n",
      "Epoch 4/10\n",
      "1847/1847 [==============================] - 55s 30ms/step - loss: 0.6345 - accuracy: 0.6606 - val_loss: 0.6690 - val_accuracy: 0.6579\n",
      "Epoch 5/10\n",
      "1847/1847 [==============================] - 54s 29ms/step - loss: 0.6228 - accuracy: 0.6648 - val_loss: 0.7762 - val_accuracy: 0.6502\n",
      "Epoch 6/10\n",
      "1847/1847 [==============================] - 55s 30ms/step - loss: 0.6159 - accuracy: 0.6668 - val_loss: 0.6291 - val_accuracy: 0.6624\n",
      "Epoch 7/10\n",
      "1847/1847 [==============================] - 55s 30ms/step - loss: 0.6085 - accuracy: 0.6689 - val_loss: 0.6146 - val_accuracy: 0.6655\n",
      "Epoch 8/10\n",
      "1847/1847 [==============================] - 55s 30ms/step - loss: 0.6033 - accuracy: 0.6711 - val_loss: 0.6074 - val_accuracy: 0.6651\n",
      "Epoch 9/10\n",
      "1847/1847 [==============================] - 54s 29ms/step - loss: 0.5988 - accuracy: 0.6734 - val_loss: 0.6041 - val_accuracy: 0.6685\n",
      "Epoch 10/10\n",
      "1847/1847 [==============================] - 55s 30ms/step - loss: 0.5935 - accuracy: 0.6763 - val_loss: 0.5998 - val_accuracy: 0.6707\n",
      "9375/9375 [==============================] - 70s 7ms/step - loss: 0.5996 - accuracy: 0.6710\n",
      "Seq Length 52, Wheel 0, Pin 16: Test Loss: 0.5995687246322632, Test Accuracy: 0.670989990234375\n"
     ]
    },
    {
     "name": "stderr",
     "output_type": "stream",
     "text": [
      "100%|██████████| 100/100 [00:01<00:00, 52.74it/s]\n"
     ]
    },
    {
     "name": "stdout",
     "output_type": "stream",
     "text": [
      "Calculating float32...\n",
      "Epoch 1/10\n",
      "1847/1847 [==============================] - 58s 30ms/step - loss: 0.7677 - accuracy: 0.6367 - val_loss: 0.6737 - val_accuracy: 0.6436\n",
      "Epoch 2/10\n",
      "1847/1847 [==============================] - 55s 30ms/step - loss: 0.6509 - accuracy: 0.6554 - val_loss: 0.6513 - val_accuracy: 0.6491\n",
      "Epoch 3/10\n",
      "1847/1847 [==============================] - 54s 29ms/step - loss: 0.6337 - accuracy: 0.6598 - val_loss: 0.6982 - val_accuracy: 0.6548\n",
      "Epoch 4/10\n",
      "1847/1847 [==============================] - 55s 30ms/step - loss: 0.6207 - accuracy: 0.6645 - val_loss: 0.6313 - val_accuracy: 0.6545\n",
      "Epoch 5/10\n",
      "1847/1847 [==============================] - 55s 30ms/step - loss: 0.6116 - accuracy: 0.6676 - val_loss: 0.6412 - val_accuracy: 0.6423\n",
      "Epoch 6/10\n",
      "1847/1847 [==============================] - 54s 29ms/step - loss: 0.6051 - accuracy: 0.6706 - val_loss: 0.6259 - val_accuracy: 0.6584\n",
      "Epoch 7/10\n",
      "1847/1847 [==============================] - 55s 30ms/step - loss: 0.6001 - accuracy: 0.6732 - val_loss: 0.6198 - val_accuracy: 0.6623\n",
      "Epoch 8/10\n",
      "1847/1847 [==============================] - 55s 30ms/step - loss: 0.5959 - accuracy: 0.6758 - val_loss: 0.6127 - val_accuracy: 0.6660\n",
      "Epoch 9/10\n",
      "1847/1847 [==============================] - 55s 30ms/step - loss: 0.5922 - accuracy: 0.6792 - val_loss: 0.6127 - val_accuracy: 0.6635\n",
      "Epoch 10/10\n",
      "1847/1847 [==============================] - 55s 30ms/step - loss: 0.5882 - accuracy: 0.6827 - val_loss: 0.6256 - val_accuracy: 0.6692\n",
      "9375/9375 [==============================] - 70s 7ms/step - loss: 0.6249 - accuracy: 0.6698\n",
      "Seq Length 52, Wheel 0, Pin 17: Test Loss: 0.6248842477798462, Test Accuracy: 0.6698233485221863\n"
     ]
    },
    {
     "name": "stderr",
     "output_type": "stream",
     "text": [
      "100%|██████████| 100/100 [00:01<00:00, 52.68it/s]\n"
     ]
    },
    {
     "name": "stdout",
     "output_type": "stream",
     "text": [
      "Calculating float32...\n",
      "Epoch 1/10\n",
      "1847/1847 [==============================] - 58s 30ms/step - loss: 0.7704 - accuracy: 0.6370 - val_loss: 0.6738 - val_accuracy: 0.6453\n",
      "Epoch 2/10\n",
      "1847/1847 [==============================] - 55s 30ms/step - loss: 0.6506 - accuracy: 0.6554 - val_loss: 0.6493 - val_accuracy: 0.6480\n",
      "Epoch 3/10\n",
      "1847/1847 [==============================] - 55s 30ms/step - loss: 0.6341 - accuracy: 0.6599 - val_loss: 0.6439 - val_accuracy: 0.6503\n",
      "Epoch 4/10\n",
      "1847/1847 [==============================] - 55s 30ms/step - loss: 0.6210 - accuracy: 0.6645 - val_loss: 0.6256 - val_accuracy: 0.6605\n",
      "Epoch 5/10\n",
      "1847/1847 [==============================] - 55s 30ms/step - loss: 0.6112 - accuracy: 0.6674 - val_loss: 0.6243 - val_accuracy: 0.6575\n",
      "Epoch 6/10\n",
      "1847/1847 [==============================] - 54s 30ms/step - loss: 0.6049 - accuracy: 0.6700 - val_loss: 0.6147 - val_accuracy: 0.6654\n",
      "Epoch 7/10\n",
      "1847/1847 [==============================] - 55s 30ms/step - loss: 0.6000 - accuracy: 0.6722 - val_loss: 0.6169 - val_accuracy: 0.6668\n",
      "Epoch 8/10\n",
      "1847/1847 [==============================] - 55s 30ms/step - loss: 0.5961 - accuracy: 0.6743 - val_loss: 0.6087 - val_accuracy: 0.6651\n",
      "Epoch 9/10\n",
      "1847/1847 [==============================] - 54s 29ms/step - loss: 0.5923 - accuracy: 0.6772 - val_loss: 0.6020 - val_accuracy: 0.6687\n",
      "Epoch 10/10\n",
      "1847/1847 [==============================] - 55s 30ms/step - loss: 0.5888 - accuracy: 0.6800 - val_loss: 0.6089 - val_accuracy: 0.6725\n",
      "9375/9375 [==============================] - 69s 7ms/step - loss: 0.6072 - accuracy: 0.6749\n",
      "Seq Length 52, Wheel 0, Pin 18: Test Loss: 0.6072396636009216, Test Accuracy: 0.674946665763855\n"
     ]
    },
    {
     "name": "stderr",
     "output_type": "stream",
     "text": [
      "100%|██████████| 100/100 [00:02<00:00, 49.74it/s]\n"
     ]
    },
    {
     "name": "stdout",
     "output_type": "stream",
     "text": [
      "Calculating float32...\n",
      "Epoch 1/10\n",
      "1847/1847 [==============================] - 58s 30ms/step - loss: 0.7675 - accuracy: 0.6357 - val_loss: 0.6890 - val_accuracy: 0.6331\n",
      "Epoch 2/10\n",
      "1847/1847 [==============================] - 54s 29ms/step - loss: 0.6506 - accuracy: 0.6545 - val_loss: 0.6499 - val_accuracy: 0.6498\n",
      "Epoch 3/10\n",
      "1847/1847 [==============================] - 55s 30ms/step - loss: 0.6342 - accuracy: 0.6597 - val_loss: 0.6797 - val_accuracy: 0.6361\n",
      "Epoch 4/10\n",
      "1847/1847 [==============================] - 54s 29ms/step - loss: 0.6213 - accuracy: 0.6637 - val_loss: 0.6281 - val_accuracy: 0.6567\n",
      "Epoch 5/10\n",
      "1847/1847 [==============================] - 54s 29ms/step - loss: 0.6121 - accuracy: 0.6674 - val_loss: 0.6142 - val_accuracy: 0.6647\n",
      "Epoch 6/10\n",
      "1847/1847 [==============================] - 55s 30ms/step - loss: 0.6060 - accuracy: 0.6702 - val_loss: 0.6138 - val_accuracy: 0.6645\n",
      "Epoch 7/10\n",
      "1847/1847 [==============================] - 54s 29ms/step - loss: 0.6007 - accuracy: 0.6719 - val_loss: 0.6100 - val_accuracy: 0.6663\n",
      "Epoch 8/10\n",
      "1847/1847 [==============================] - 55s 30ms/step - loss: 0.5966 - accuracy: 0.6745 - val_loss: 0.6085 - val_accuracy: 0.6656\n",
      "Epoch 9/10\n",
      "1847/1847 [==============================] - 55s 30ms/step - loss: 0.5925 - accuracy: 0.6766 - val_loss: 0.6053 - val_accuracy: 0.6677\n",
      "Epoch 10/10\n",
      "1847/1847 [==============================] - 55s 30ms/step - loss: 0.5885 - accuracy: 0.6794 - val_loss: 0.6031 - val_accuracy: 0.6689\n",
      "9375/9375 [==============================] - 70s 7ms/step - loss: 0.6029 - accuracy: 0.6685\n",
      "Seq Length 52, Wheel 0, Pin 19: Test Loss: 0.6029243469238281, Test Accuracy: 0.6685366630554199\n"
     ]
    },
    {
     "name": "stderr",
     "output_type": "stream",
     "text": [
      "100%|██████████| 100/100 [00:01<00:00, 52.62it/s]\n"
     ]
    },
    {
     "name": "stdout",
     "output_type": "stream",
     "text": [
      "Calculating float32...\n",
      "Epoch 1/10\n",
      "1847/1847 [==============================] - 59s 30ms/step - loss: 0.7703 - accuracy: 0.6388 - val_loss: 0.6879 - val_accuracy: 0.6431\n",
      "Epoch 2/10\n",
      "1847/1847 [==============================] - 54s 29ms/step - loss: 0.6501 - accuracy: 0.6563 - val_loss: 0.6531 - val_accuracy: 0.6476\n",
      "Epoch 3/10\n",
      "1847/1847 [==============================] - 55s 30ms/step - loss: 0.6337 - accuracy: 0.6599 - val_loss: 0.6378 - val_accuracy: 0.6566\n",
      "Epoch 4/10\n",
      "1847/1847 [==============================] - 55s 30ms/step - loss: 0.6209 - accuracy: 0.6648 - val_loss: 0.6209 - val_accuracy: 0.6616\n",
      "Epoch 5/10\n",
      "1847/1847 [==============================] - 55s 30ms/step - loss: 0.6112 - accuracy: 0.6684 - val_loss: 0.6182 - val_accuracy: 0.6594\n",
      "Epoch 6/10\n",
      "1847/1847 [==============================] - 55s 30ms/step - loss: 0.6043 - accuracy: 0.6710 - val_loss: 0.6218 - val_accuracy: 0.6660\n",
      "Epoch 7/10\n",
      "1847/1847 [==============================] - 54s 29ms/step - loss: 0.5988 - accuracy: 0.6732 - val_loss: 0.6094 - val_accuracy: 0.6645\n",
      "Epoch 8/10\n",
      "1847/1847 [==============================] - 54s 29ms/step - loss: 0.5943 - accuracy: 0.6756 - val_loss: 0.6112 - val_accuracy: 0.6665\n",
      "Epoch 9/10\n",
      "1847/1847 [==============================] - 54s 29ms/step - loss: 0.5907 - accuracy: 0.6784 - val_loss: 0.5994 - val_accuracy: 0.6710\n",
      "Epoch 10/10\n",
      "1847/1847 [==============================] - 55s 30ms/step - loss: 0.5869 - accuracy: 0.6811 - val_loss: 0.5968 - val_accuracy: 0.6718\n",
      "9375/9375 [==============================] - 70s 7ms/step - loss: 0.5976 - accuracy: 0.6727\n",
      "Seq Length 52, Wheel 0, Pin 20: Test Loss: 0.5975528359413147, Test Accuracy: 0.6727033257484436\n"
     ]
    },
    {
     "name": "stderr",
     "output_type": "stream",
     "text": [
      "100%|██████████| 100/100 [00:01<00:00, 52.77it/s]\n"
     ]
    },
    {
     "name": "stdout",
     "output_type": "stream",
     "text": [
      "Calculating float32...\n",
      "Epoch 1/10\n",
      "1847/1847 [==============================] - 59s 30ms/step - loss: 0.7761 - accuracy: 0.6357 - val_loss: 0.6987 - val_accuracy: 0.6031\n",
      "Epoch 2/10\n",
      "1847/1847 [==============================] - 55s 30ms/step - loss: 0.6521 - accuracy: 0.6547 - val_loss: 0.6548 - val_accuracy: 0.6438\n",
      "Epoch 3/10\n",
      "1847/1847 [==============================] - 55s 30ms/step - loss: 0.6354 - accuracy: 0.6592 - val_loss: 0.6350 - val_accuracy: 0.6579\n",
      "Epoch 4/10\n",
      "1847/1847 [==============================] - 55s 30ms/step - loss: 0.6228 - accuracy: 0.6639 - val_loss: 0.6303 - val_accuracy: 0.6557\n",
      "Epoch 5/10\n",
      "1847/1847 [==============================] - 55s 30ms/step - loss: 0.6127 - accuracy: 0.6667 - val_loss: 0.6254 - val_accuracy: 0.6563\n",
      "Epoch 6/10\n",
      "1847/1847 [==============================] - 55s 30ms/step - loss: 0.6055 - accuracy: 0.6694 - val_loss: 0.6100 - val_accuracy: 0.6672\n",
      "Epoch 7/10\n",
      "1847/1847 [==============================] - 55s 30ms/step - loss: 0.5998 - accuracy: 0.6716 - val_loss: 0.6155 - val_accuracy: 0.6625\n",
      "Epoch 8/10\n",
      "1847/1847 [==============================] - 55s 30ms/step - loss: 0.5955 - accuracy: 0.6736 - val_loss: 0.6150 - val_accuracy: 0.6596\n",
      "Epoch 9/10\n",
      "1847/1847 [==============================] - 55s 30ms/step - loss: 0.5917 - accuracy: 0.6757 - val_loss: 0.6019 - val_accuracy: 0.6692\n",
      "Epoch 10/10\n",
      "1847/1847 [==============================] - 55s 30ms/step - loss: 0.5882 - accuracy: 0.6788 - val_loss: 0.6047 - val_accuracy: 0.6640\n",
      "9375/9375 [==============================] - 70s 7ms/step - loss: 0.6044 - accuracy: 0.6648\n",
      "Seq Length 52, Wheel 0, Pin 21: Test Loss: 0.604424774646759, Test Accuracy: 0.6647833585739136\n"
     ]
    },
    {
     "name": "stderr",
     "output_type": "stream",
     "text": [
      "100%|██████████| 100/100 [00:01<00:00, 52.95it/s]\n"
     ]
    },
    {
     "name": "stdout",
     "output_type": "stream",
     "text": [
      "Calculating float32...\n",
      "Epoch 1/10\n",
      "1847/1847 [==============================] - 58s 30ms/step - loss: 0.7697 - accuracy: 0.6377 - val_loss: 0.6835 - val_accuracy: 0.6499\n",
      "Epoch 2/10\n",
      "1847/1847 [==============================] - 55s 30ms/step - loss: 0.6517 - accuracy: 0.6555 - val_loss: 0.6581 - val_accuracy: 0.6501\n",
      "Epoch 3/10\n",
      "1847/1847 [==============================] - 55s 30ms/step - loss: 0.6354 - accuracy: 0.6602 - val_loss: 0.6358 - val_accuracy: 0.6558\n",
      "Epoch 4/10\n",
      "1847/1847 [==============================] - 55s 30ms/step - loss: 0.6226 - accuracy: 0.6643 - val_loss: 0.6366 - val_accuracy: 0.6603\n",
      "Epoch 5/10\n",
      "1847/1847 [==============================] - 55s 30ms/step - loss: 0.6131 - accuracy: 0.6675 - val_loss: 0.6224 - val_accuracy: 0.6584\n",
      "Epoch 6/10\n",
      "1847/1847 [==============================] - 55s 30ms/step - loss: 0.6062 - accuracy: 0.6697 - val_loss: 0.6410 - val_accuracy: 0.6535\n",
      "Epoch 7/10\n",
      "1847/1847 [==============================] - 55s 30ms/step - loss: 0.6012 - accuracy: 0.6722 - val_loss: 0.6147 - val_accuracy: 0.6609\n",
      "Epoch 8/10\n",
      "1847/1847 [==============================] - 55s 30ms/step - loss: 0.5968 - accuracy: 0.6744 - val_loss: 0.6067 - val_accuracy: 0.6649\n",
      "Epoch 9/10\n",
      "1847/1847 [==============================] - 55s 30ms/step - loss: 0.5930 - accuracy: 0.6765 - val_loss: 0.6070 - val_accuracy: 0.6645\n",
      "Epoch 10/10\n",
      "1847/1847 [==============================] - 54s 29ms/step - loss: 0.5892 - accuracy: 0.6803 - val_loss: 0.6093 - val_accuracy: 0.6674\n",
      "9375/9375 [==============================] - 70s 7ms/step - loss: 0.6099 - accuracy: 0.6671\n",
      "Seq Length 52, Wheel 0, Pin 22: Test Loss: 0.6099388003349304, Test Accuracy: 0.6671000123023987\n"
     ]
    },
    {
     "name": "stderr",
     "output_type": "stream",
     "text": [
      "100%|██████████| 100/100 [00:01<00:00, 52.86it/s]\n"
     ]
    },
    {
     "name": "stdout",
     "output_type": "stream",
     "text": [
      "Calculating float32...\n",
      "Epoch 1/10\n",
      "1847/1847 [==============================] - 58s 30ms/step - loss: 0.7686 - accuracy: 0.6376 - val_loss: 0.6756 - val_accuracy: 0.6441\n",
      "Epoch 2/10\n",
      "1847/1847 [==============================] - 55s 30ms/step - loss: 0.6508 - accuracy: 0.6557 - val_loss: 0.6509 - val_accuracy: 0.6521\n",
      "Epoch 3/10\n",
      "1847/1847 [==============================] - 56s 30ms/step - loss: 0.6345 - accuracy: 0.6603 - val_loss: 0.6429 - val_accuracy: 0.6524\n",
      "Epoch 4/10\n",
      "1847/1847 [==============================] - 54s 29ms/step - loss: 0.6212 - accuracy: 0.6658 - val_loss: 0.6363 - val_accuracy: 0.6568\n",
      "Epoch 5/10\n",
      "1847/1847 [==============================] - 54s 29ms/step - loss: 0.6115 - accuracy: 0.6686 - val_loss: 0.6155 - val_accuracy: 0.6640\n",
      "Epoch 6/10\n",
      "1847/1847 [==============================] - 55s 30ms/step - loss: 0.6047 - accuracy: 0.6719 - val_loss: 0.6148 - val_accuracy: 0.6630\n",
      "Epoch 7/10\n",
      "1847/1847 [==============================] - 54s 29ms/step - loss: 0.5994 - accuracy: 0.6739 - val_loss: 0.6156 - val_accuracy: 0.6609\n",
      "Epoch 8/10\n",
      "1847/1847 [==============================] - 55s 30ms/step - loss: 0.5953 - accuracy: 0.6763 - val_loss: 0.6049 - val_accuracy: 0.6696\n",
      "Epoch 9/10\n",
      "1847/1847 [==============================] - 54s 29ms/step - loss: 0.5916 - accuracy: 0.6789 - val_loss: 0.6028 - val_accuracy: 0.6686\n",
      "Epoch 10/10\n",
      "1847/1847 [==============================] - 55s 30ms/step - loss: 0.5881 - accuracy: 0.6825 - val_loss: 0.6008 - val_accuracy: 0.6707\n",
      "9375/9375 [==============================] - 69s 7ms/step - loss: 0.6003 - accuracy: 0.6702\n",
      "Seq Length 52, Wheel 0, Pin 23: Test Loss: 0.6002562046051025, Test Accuracy: 0.670229971408844\n"
     ]
    },
    {
     "name": "stderr",
     "output_type": "stream",
     "text": [
      "100%|██████████| 100/100 [00:01<00:00, 52.47it/s]\n"
     ]
    },
    {
     "name": "stdout",
     "output_type": "stream",
     "text": [
      "Calculating float32...\n",
      "Epoch 1/10\n",
      "1847/1847 [==============================] - 59s 30ms/step - loss: 0.7674 - accuracy: 0.6379 - val_loss: 0.6687 - val_accuracy: 0.6457\n",
      "Epoch 2/10\n",
      "1847/1847 [==============================] - 55s 30ms/step - loss: 0.6495 - accuracy: 0.6555 - val_loss: 0.6527 - val_accuracy: 0.6462\n",
      "Epoch 3/10\n",
      "1847/1847 [==============================] - 55s 30ms/step - loss: 0.6338 - accuracy: 0.6602 - val_loss: 0.6319 - val_accuracy: 0.6597\n",
      "Epoch 4/10\n",
      "1847/1847 [==============================] - 54s 29ms/step - loss: 0.6211 - accuracy: 0.6641 - val_loss: 0.6352 - val_accuracy: 0.6509\n",
      "Epoch 5/10\n",
      "1847/1847 [==============================] - 55s 30ms/step - loss: 0.6113 - accuracy: 0.6678 - val_loss: 0.6173 - val_accuracy: 0.6621\n",
      "Epoch 6/10\n",
      "1847/1847 [==============================] - 55s 30ms/step - loss: 0.6044 - accuracy: 0.6701 - val_loss: 0.6716 - val_accuracy: 0.6552\n",
      "Epoch 7/10\n",
      "1847/1847 [==============================] - 55s 30ms/step - loss: 0.5995 - accuracy: 0.6724 - val_loss: 0.6168 - val_accuracy: 0.6647\n",
      "Epoch 8/10\n",
      "1847/1847 [==============================] - 55s 30ms/step - loss: 0.5952 - accuracy: 0.6746 - val_loss: 0.6168 - val_accuracy: 0.6628\n",
      "Epoch 9/10\n",
      "1847/1847 [==============================] - 55s 30ms/step - loss: 0.5917 - accuracy: 0.6773 - val_loss: 0.5999 - val_accuracy: 0.6701\n",
      "Epoch 10/10\n",
      "1847/1847 [==============================] - 55s 30ms/step - loss: 0.5880 - accuracy: 0.6800 - val_loss: 0.6002 - val_accuracy: 0.6700\n",
      "9375/9375 [==============================] - 70s 7ms/step - loss: 0.6004 - accuracy: 0.6693\n",
      "Seq Length 52, Wheel 0, Pin 24: Test Loss: 0.600441038608551, Test Accuracy: 0.6692533493041992\n"
     ]
    },
    {
     "name": "stderr",
     "output_type": "stream",
     "text": [
      "100%|██████████| 100/100 [00:01<00:00, 52.94it/s]\n"
     ]
    },
    {
     "name": "stdout",
     "output_type": "stream",
     "text": [
      "Calculating float32...\n",
      "Epoch 1/10\n",
      "1847/1847 [==============================] - 58s 30ms/step - loss: 0.7660 - accuracy: 0.6357 - val_loss: 0.6686 - val_accuracy: 0.6492\n",
      "Epoch 2/10\n",
      "1847/1847 [==============================] - 55s 30ms/step - loss: 0.6524 - accuracy: 0.6554 - val_loss: 8.3830 - val_accuracy: 0.4982\n",
      "Epoch 3/10\n",
      "1847/1847 [==============================] - 54s 29ms/step - loss: 0.6404 - accuracy: 0.6581 - val_loss: 0.6980 - val_accuracy: 0.6402\n",
      "Epoch 4/10\n",
      "1847/1847 [==============================] - 54s 29ms/step - loss: 0.6266 - accuracy: 0.6621 - val_loss: 0.6511 - val_accuracy: 0.6524\n",
      "Epoch 5/10\n",
      "1847/1847 [==============================] - 55s 30ms/step - loss: 0.6161 - accuracy: 0.6654 - val_loss: 0.6284 - val_accuracy: 0.6527\n",
      "Epoch 6/10\n",
      "1847/1847 [==============================] - 55s 30ms/step - loss: 0.6079 - accuracy: 0.6686 - val_loss: 0.6188 - val_accuracy: 0.6584\n",
      "Epoch 7/10\n",
      "1847/1847 [==============================] - 55s 30ms/step - loss: 0.6022 - accuracy: 0.6711 - val_loss: 0.6083 - val_accuracy: 0.6658\n",
      "Epoch 8/10\n",
      "1847/1847 [==============================] - 55s 30ms/step - loss: 0.5975 - accuracy: 0.6732 - val_loss: 0.6093 - val_accuracy: 0.6651\n",
      "Epoch 9/10\n",
      "1847/1847 [==============================] - 54s 29ms/step - loss: 0.5937 - accuracy: 0.6759 - val_loss: 0.6077 - val_accuracy: 0.6673\n",
      "Epoch 10/10\n",
      "1847/1847 [==============================] - 55s 30ms/step - loss: 0.5903 - accuracy: 0.6780 - val_loss: 0.6037 - val_accuracy: 0.6704\n",
      "9375/9375 [==============================] - 69s 7ms/step - loss: 0.6026 - accuracy: 0.6709\n",
      "Seq Length 52, Wheel 0, Pin 25: Test Loss: 0.6026303768157959, Test Accuracy: 0.6709200143814087\n"
     ]
    }
   ],
   "source": [
    "# Same code as above but for different sequence length\n",
    "import numpy as np\n",
    "import pandas as pd\n",
    "import tensorflow as tf\n",
    "from sklearn.model_selection import train_test_split\n",
    "from tensorflow.keras import layers, models, callbacks, optimizers\n",
    "from tensorflow.keras.regularizers import l2\n",
    "import gc\n",
    "import os\n",
    "\n",
    "#Sequence lenght\n",
    "INPUT_SIZE = 104\n",
    "PATH_MODELS =os.path.join(PATH_MODELS_PARENT,f\"models_seq_{INPUT_SIZE}\")\n",
    "os.makedirs(PATH_MODELS, exist_ok=True)\n",
    "\n",
    "pinwheel_sizes = [26]\n",
    "\n",
    "cumulative_sizes = np.cumsum([0] + pinwheel_sizes)\n",
    "\n",
    "\n",
    "model_accuracies = []\n",
    "\n",
    "# Loop over each sequence length\n",
    "seq_len = INPUT_SIZE\n",
    "# Iterate over each wheel\n",
    "for wheel, (start_pin, end_pin) in enumerate(zip(cumulative_sizes, cumulative_sizes[1:])):\n",
    "    train_all_pins = False  # Flag to determine if all pins should be trained\n",
    "\n",
    "    # Iterate over each pin in the current wheel\n",
    "    for pin in range(5, end_pin):\n",
    "        while True:\n",
    "            # Extract the target values for the current pin\n",
    "            x, y = load_partial_data(10,1500)\n",
    "\n",
    "            targets = y[:, pin]\n",
    "            # Split the data into training and testing sets\n",
    "            X_train, X_test, y_train, y_test = train_test_split(x, targets, test_size=0.2, random_state=17)\n",
    "\n",
    "            # Create and compile the ResNet model\n",
    "            model_pin = make_resnet(seq_len, num_filters=26, depth=5, num_outputs=1)\n",
    "            model_pin.compile(optimizer=optimizers.Adam(), loss='binary_crossentropy', metrics=['accuracy'])\n",
    "\n",
    "            # Setup callbacks for model saving and learning rate scheduling\n",
    "            checkpoint_cb_pin = callbacks.ModelCheckpoint(PATH_MODELS+f'/best_model_wheel_{wheel}_pin_{pin}.h5', save_best_only=True)\n",
    "            lr_scheduler_cb_pin = callbacks.LearningRateScheduler(lambda epoch: 1e-3 * 0.95 ** epoch)\n",
    "\n",
    "            # Train the model\n",
    "            history_pin = model_pin.fit(X_train, y_train, batch_size=260, epochs=10, validation_split=0.2, callbacks=[checkpoint_cb_pin, lr_scheduler_cb_pin])\n",
    "            # Evaluate the model on the test set\n",
    "            test_loss_pin, test_accuracy_pin = model_pin.evaluate(X_test, y_test)\n",
    "            print(f\"Seq Length {seq_len}, Wheel {wheel}, Pin {pin}: Test Loss: {test_loss_pin}, Test Accuracy: {test_accuracy_pin}\")\n",
    "\n",
    "            # Check if the current pin is the first pin\n",
    "            if pin == start_pin:\n",
    "                # If the accuracy is higher than 0.6, set the flag to train all pins\n",
    "                if test_accuracy_pin > 0.5:\n",
    "                    train_all_pins = True\n",
    "                else:\n",
    "                    break  # Skip training the remaining pins for this wheel\n",
    "            #retraining for pins vs low accuracy        \n",
    "            if test_accuracy_pin > 0.62:\n",
    "\n",
    "                # Record the model's accuracy if it's the first pin or if all pins are being trained\n",
    "                if train_all_pins or pin == start_pin:\n",
    "                    model_accuracies.append({\n",
    "                        'Sequence Length': seq_len,\n",
    "                        'Wheel Number': wheel,\n",
    "                        'Pin Number': pin,\n",
    "                        'Accuracy': test_accuracy_pin\n",
    "                    })\n",
    "\n",
    "                    # Save the final model\n",
    "                    model_pin.save(PATH_MODELS+f'/best_model_wheel_{wheel}_pin_{pin}.h5')\n",
    "\n",
    "                # Clear the TensorFlow session and collect garbage to free memory\n",
    "                tf.keras.backend.clear_session()\n",
    "                gc.collect()\n",
    "                break\n",
    "\n",
    "            \n",
    "# Convert the list of accuracies to a DataFrame\n",
    "accuracy_df = pd.DataFrame(model_accuracies)\n",
    "\n",
    "# Save the DataFrame to an Excel file\n",
    "accuracy_df.to_excel('model_accuracies.xlsx', index=False)"
   ]
  },
  {
   "cell_type": "code",
   "execution_count": 26,
   "metadata": {},
   "outputs": [
    {
     "name": "stderr",
     "output_type": "stream",
     "text": [
      "100%|██████████| 100/100 [00:01<00:00, 53.39it/s]\n"
     ]
    },
    {
     "name": "stdout",
     "output_type": "stream",
     "text": [
      "Calculating float32...\n",
      "Epoch 1/10\n",
      "1231/1231 [==============================] - 63s 48ms/step - loss: 0.7709 - accuracy: 0.7161 - val_loss: 0.6618 - val_accuracy: 0.7111\n",
      "Epoch 2/10\n",
      "1231/1231 [==============================] - 59s 48ms/step - loss: 0.5861 - accuracy: 0.7468 - val_loss: 0.5915 - val_accuracy: 0.7319\n",
      "Epoch 3/10\n",
      "1231/1231 [==============================] - 59s 48ms/step - loss: 0.5550 - accuracy: 0.7541 - val_loss: 0.5682 - val_accuracy: 0.7419\n",
      "Epoch 4/10\n",
      "1231/1231 [==============================] - 60s 48ms/step - loss: 0.5347 - accuracy: 0.7635 - val_loss: 0.5607 - val_accuracy: 0.7452\n",
      "Epoch 5/10\n",
      "1231/1231 [==============================] - 60s 49ms/step - loss: 0.5168 - accuracy: 0.7737 - val_loss: 0.5852 - val_accuracy: 0.7271\n",
      "Epoch 6/10\n",
      "1231/1231 [==============================] - 60s 49ms/step - loss: 0.5020 - accuracy: 0.7842 - val_loss: 0.5510 - val_accuracy: 0.7486\n",
      "Epoch 7/10\n",
      "1231/1231 [==============================] - 60s 49ms/step - loss: 0.4874 - accuracy: 0.7932 - val_loss: 0.5206 - val_accuracy: 0.7699\n",
      "Epoch 8/10\n",
      "1231/1231 [==============================] - 59s 48ms/step - loss: 0.4738 - accuracy: 0.8035 - val_loss: 0.5582 - val_accuracy: 0.7488\n",
      "Epoch 9/10\n",
      "1231/1231 [==============================] - 60s 49ms/step - loss: 0.4612 - accuracy: 0.8131 - val_loss: 0.5324 - val_accuracy: 0.7662\n",
      "Epoch 10/10\n",
      "1231/1231 [==============================] - 60s 49ms/step - loss: 0.4479 - accuracy: 0.8246 - val_loss: 0.5561 - val_accuracy: 0.7719\n",
      "6250/6250 [==============================] - 45s 7ms/step - loss: 0.5549 - accuracy: 0.7721\n",
      "Seq Length 104, Wheel 0, Pin 20: Test Loss: 0.5549033880233765, Test Accuracy: 0.7721049785614014\n"
     ]
    },
    {
     "name": "stderr",
     "output_type": "stream",
     "text": [
      "100%|██████████| 100/100 [00:02<00:00, 49.39it/s]\n"
     ]
    },
    {
     "name": "stdout",
     "output_type": "stream",
     "text": [
      "Calculating float32...\n",
      "Epoch 1/10\n",
      "1231/1231 [==============================] - 61s 47ms/step - loss: 0.7708 - accuracy: 0.7148 - val_loss: 0.6983 - val_accuracy: 0.6797\n",
      "Epoch 2/10\n",
      "1231/1231 [==============================] - 59s 48ms/step - loss: 0.5846 - accuracy: 0.7484 - val_loss: 0.6128 - val_accuracy: 0.7386\n",
      "Epoch 3/10\n",
      "1231/1231 [==============================] - 59s 48ms/step - loss: 0.5547 - accuracy: 0.7545 - val_loss: 0.5583 - val_accuracy: 0.7484\n",
      "Epoch 4/10\n",
      "1231/1231 [==============================] - 60s 48ms/step - loss: 0.5330 - accuracy: 0.7630 - val_loss: 0.5423 - val_accuracy: 0.7571\n",
      "Epoch 5/10\n",
      "1231/1231 [==============================] - 60s 49ms/step - loss: 0.5150 - accuracy: 0.7740 - val_loss: 0.6032 - val_accuracy: 0.7331\n",
      "Epoch 6/10\n",
      "1231/1231 [==============================] - 60s 49ms/step - loss: 0.4975 - accuracy: 0.7857 - val_loss: 0.5556 - val_accuracy: 0.7660\n",
      "Epoch 7/10\n",
      "1231/1231 [==============================] - 60s 49ms/step - loss: 0.4814 - accuracy: 0.7974 - val_loss: 0.5225 - val_accuracy: 0.7681\n",
      "Epoch 8/10\n",
      "1231/1231 [==============================] - 60s 49ms/step - loss: 0.4668 - accuracy: 0.8082 - val_loss: 0.5156 - val_accuracy: 0.7768\n",
      "Epoch 9/10\n",
      "1231/1231 [==============================] - 60s 49ms/step - loss: 0.4533 - accuracy: 0.8195 - val_loss: 0.5221 - val_accuracy: 0.7767\n",
      "Epoch 10/10\n",
      "1231/1231 [==============================] - 60s 49ms/step - loss: 0.4399 - accuracy: 0.8316 - val_loss: 0.5641 - val_accuracy: 0.7725\n",
      "6250/6250 [==============================] - 47s 7ms/step - loss: 0.5622 - accuracy: 0.7731\n",
      "Seq Length 104, Wheel 0, Pin 21: Test Loss: 0.5621961951255798, Test Accuracy: 0.7731350064277649\n"
     ]
    },
    {
     "name": "stderr",
     "output_type": "stream",
     "text": [
      "100%|██████████| 100/100 [00:01<00:00, 52.87it/s]\n"
     ]
    },
    {
     "name": "stdout",
     "output_type": "stream",
     "text": [
      "Calculating float32...\n",
      "Epoch 1/10\n",
      "1231/1231 [==============================] - 61s 47ms/step - loss: 0.7773 - accuracy: 0.7151 - val_loss: 0.6584 - val_accuracy: 0.7200\n",
      "Epoch 2/10\n",
      "1231/1231 [==============================] - 59s 48ms/step - loss: 0.5868 - accuracy: 0.7472 - val_loss: 0.5960 - val_accuracy: 0.7285\n",
      "Epoch 3/10\n",
      "1231/1231 [==============================] - 59s 48ms/step - loss: 0.5539 - accuracy: 0.7547 - val_loss: 0.5722 - val_accuracy: 0.7426\n",
      "Epoch 4/10\n",
      "1231/1231 [==============================] - 60s 49ms/step - loss: 0.5319 - accuracy: 0.7644 - val_loss: 0.5451 - val_accuracy: 0.7536\n",
      "Epoch 5/10\n",
      "1231/1231 [==============================] - 59s 48ms/step - loss: 0.5146 - accuracy: 0.7751 - val_loss: 0.5968 - val_accuracy: 0.7516\n",
      "Epoch 6/10\n",
      "1231/1231 [==============================] - 60s 49ms/step - loss: 0.4990 - accuracy: 0.7852 - val_loss: 0.5194 - val_accuracy: 0.7727\n",
      "Epoch 7/10\n",
      "1231/1231 [==============================] - 60s 49ms/step - loss: 0.4862 - accuracy: 0.7943 - val_loss: 0.5111 - val_accuracy: 0.7761\n",
      "Epoch 8/10\n",
      "1231/1231 [==============================] - 60s 49ms/step - loss: 0.4727 - accuracy: 0.8044 - val_loss: 0.5191 - val_accuracy: 0.7781\n",
      "Epoch 9/10\n",
      "1231/1231 [==============================] - 60s 49ms/step - loss: 0.4597 - accuracy: 0.8144 - val_loss: 0.5504 - val_accuracy: 0.7733\n",
      "Epoch 10/10\n",
      "1231/1231 [==============================] - 60s 49ms/step - loss: 0.4476 - accuracy: 0.8247 - val_loss: 0.5562 - val_accuracy: 0.7632\n",
      "6250/6250 [==============================] - 47s 7ms/step - loss: 0.5568 - accuracy: 0.7618\n"
     ]
    },
    {
     "name": "stderr",
     "output_type": "stream",
     "text": [
      "\r",
      "  0%|          | 0/100 [00:00<?, ?it/s]"
     ]
    },
    {
     "name": "stdout",
     "output_type": "stream",
     "text": [
      "Seq Length 104, Wheel 0, Pin 22: Test Loss: 0.5568258166313171, Test Accuracy: 0.7617700099945068\n"
     ]
    },
    {
     "name": "stderr",
     "output_type": "stream",
     "text": [
      "100%|██████████| 100/100 [00:01<00:00, 50.53it/s]\n"
     ]
    },
    {
     "name": "stdout",
     "output_type": "stream",
     "text": [
      "Calculating float32...\n",
      "Epoch 1/10\n",
      "1231/1231 [==============================] - 61s 46ms/step - loss: 0.7716 - accuracy: 0.7178 - val_loss: 0.6603 - val_accuracy: 0.7101\n",
      "Epoch 2/10\n",
      "1231/1231 [==============================] - 59s 48ms/step - loss: 0.5852 - accuracy: 0.7471 - val_loss: 0.6105 - val_accuracy: 0.7306\n",
      "Epoch 3/10\n",
      "1231/1231 [==============================] - 59s 48ms/step - loss: 0.5533 - accuracy: 0.7550 - val_loss: 0.5638 - val_accuracy: 0.7460\n",
      "Epoch 4/10\n",
      "1231/1231 [==============================] - 60s 49ms/step - loss: 0.5305 - accuracy: 0.7647 - val_loss: 0.5916 - val_accuracy: 0.7240\n",
      "Epoch 5/10\n",
      "1231/1231 [==============================] - 60s 49ms/step - loss: 0.5105 - accuracy: 0.7770 - val_loss: 0.6062 - val_accuracy: 0.7344\n",
      "Epoch 6/10\n",
      "1231/1231 [==============================] - 60s 49ms/step - loss: 0.4945 - accuracy: 0.7882 - val_loss: 0.5279 - val_accuracy: 0.7645\n",
      "Epoch 7/10\n",
      "1231/1231 [==============================] - 60s 49ms/step - loss: 0.4807 - accuracy: 0.7989 - val_loss: 0.5210 - val_accuracy: 0.7703\n",
      "Epoch 8/10\n",
      "1231/1231 [==============================] - 60s 49ms/step - loss: 0.4672 - accuracy: 0.8095 - val_loss: 0.5147 - val_accuracy: 0.7799\n",
      "Epoch 9/10\n",
      "1231/1231 [==============================] - 60s 49ms/step - loss: 0.4544 - accuracy: 0.8214 - val_loss: 0.5257 - val_accuracy: 0.7768\n",
      "Epoch 10/10\n",
      "1231/1231 [==============================] - 60s 49ms/step - loss: 0.4403 - accuracy: 0.8335 - val_loss: 0.5285 - val_accuracy: 0.7771\n",
      "6250/6250 [==============================] - 46s 7ms/step - loss: 0.5262 - accuracy: 0.7763\n",
      "Seq Length 104, Wheel 0, Pin 22: Test Loss: 0.5262150168418884, Test Accuracy: 0.7763149738311768\n"
     ]
    },
    {
     "name": "stderr",
     "output_type": "stream",
     "text": [
      "100%|██████████| 100/100 [00:02<00:00, 49.64it/s]\n"
     ]
    },
    {
     "name": "stdout",
     "output_type": "stream",
     "text": [
      "Calculating float32...\n",
      "Epoch 1/10\n",
      "1231/1231 [==============================] - 61s 46ms/step - loss: 0.7712 - accuracy: 0.7162 - val_loss: 0.6824 - val_accuracy: 0.7203\n",
      "Epoch 2/10\n",
      "1231/1231 [==============================] - 59s 48ms/step - loss: 0.5856 - accuracy: 0.7466 - val_loss: 0.6239 - val_accuracy: 0.7118\n",
      "Epoch 3/10\n",
      "1231/1231 [==============================] - 59s 48ms/step - loss: 0.5536 - accuracy: 0.7542 - val_loss: 0.6165 - val_accuracy: 0.7347\n",
      "Epoch 4/10\n",
      "1231/1231 [==============================] - 60s 49ms/step - loss: 0.5313 - accuracy: 0.7634 - val_loss: 0.5414 - val_accuracy: 0.7557\n",
      "Epoch 5/10\n",
      "1231/1231 [==============================] - 60s 49ms/step - loss: 0.5123 - accuracy: 0.7743 - val_loss: 0.5301 - val_accuracy: 0.7606\n",
      "Epoch 6/10\n",
      "1231/1231 [==============================] - 60s 49ms/step - loss: 0.4972 - accuracy: 0.7853 - val_loss: 0.5239 - val_accuracy: 0.7673\n",
      "Epoch 7/10\n",
      "1231/1231 [==============================] - 60s 49ms/step - loss: 0.4830 - accuracy: 0.7958 - val_loss: 0.5209 - val_accuracy: 0.7701\n",
      "Epoch 8/10\n",
      "1231/1231 [==============================] - 60s 48ms/step - loss: 0.4687 - accuracy: 0.8059 - val_loss: 0.5384 - val_accuracy: 0.7670\n",
      "Epoch 9/10\n",
      "1231/1231 [==============================] - 60s 49ms/step - loss: 0.4552 - accuracy: 0.8170 - val_loss: 0.5125 - val_accuracy: 0.7794\n",
      "Epoch 10/10\n",
      "1231/1231 [==============================] - 60s 49ms/step - loss: 0.4412 - accuracy: 0.8291 - val_loss: 0.5777 - val_accuracy: 0.7557\n",
      "6250/6250 [==============================] - 46s 7ms/step - loss: 0.5786 - accuracy: 0.7556\n"
     ]
    },
    {
     "name": "stderr",
     "output_type": "stream",
     "text": [
      "\r",
      "  0%|          | 0/100 [00:00<?, ?it/s]"
     ]
    },
    {
     "name": "stdout",
     "output_type": "stream",
     "text": [
      "Seq Length 104, Wheel 0, Pin 23: Test Loss: 0.578571617603302, Test Accuracy: 0.7556449770927429\n"
     ]
    },
    {
     "name": "stderr",
     "output_type": "stream",
     "text": [
      "100%|██████████| 100/100 [00:01<00:00, 50.87it/s]\n"
     ]
    },
    {
     "name": "stdout",
     "output_type": "stream",
     "text": [
      "Calculating float32...\n",
      "Epoch 1/10\n",
      "1231/1231 [==============================] - 61s 46ms/step - loss: 0.7667 - accuracy: 0.7171 - val_loss: 0.6768 - val_accuracy: 0.7232\n",
      "Epoch 2/10\n",
      "1231/1231 [==============================] - 59s 48ms/step - loss: 0.5852 - accuracy: 0.7477 - val_loss: 0.5769 - val_accuracy: 0.7398\n",
      "Epoch 3/10\n",
      "1231/1231 [==============================] - 60s 48ms/step - loss: 0.5522 - accuracy: 0.7556 - val_loss: 0.5774 - val_accuracy: 0.7429\n",
      "Epoch 4/10\n",
      "1231/1231 [==============================] - 60s 49ms/step - loss: 0.5306 - accuracy: 0.7646 - val_loss: 0.5737 - val_accuracy: 0.7363\n",
      "Epoch 5/10\n",
      "1231/1231 [==============================] - 60s 49ms/step - loss: 0.5126 - accuracy: 0.7752 - val_loss: 0.5525 - val_accuracy: 0.7543\n",
      "Epoch 6/10\n",
      "1231/1231 [==============================] - 60s 48ms/step - loss: 0.4972 - accuracy: 0.7863 - val_loss: 0.6041 - val_accuracy: 0.7173\n",
      "Epoch 7/10\n",
      "1231/1231 [==============================] - 60s 49ms/step - loss: 0.4824 - accuracy: 0.7973 - val_loss: 0.5335 - val_accuracy: 0.7606\n",
      "Epoch 8/10\n",
      "1231/1231 [==============================] - 60s 49ms/step - loss: 0.4690 - accuracy: 0.8079 - val_loss: 0.5198 - val_accuracy: 0.7730\n",
      "Epoch 9/10\n",
      "1231/1231 [==============================] - 72s 58ms/step - loss: 0.4554 - accuracy: 0.8197 - val_loss: 0.5369 - val_accuracy: 0.7728\n",
      "Epoch 10/10\n",
      "1231/1231 [==============================] - 76s 62ms/step - loss: 0.4427 - accuracy: 0.8324 - val_loss: 0.5359 - val_accuracy: 0.7760\n",
      "6250/6250 [==============================] - 44s 7ms/step - loss: 0.5355 - accuracy: 0.7765\n",
      "Seq Length 104, Wheel 0, Pin 23: Test Loss: 0.535524308681488, Test Accuracy: 0.7764649987220764\n"
     ]
    },
    {
     "name": "stderr",
     "output_type": "stream",
     "text": [
      "100%|██████████| 100/100 [00:03<00:00, 31.74it/s]\n"
     ]
    },
    {
     "name": "stdout",
     "output_type": "stream",
     "text": [
      "Calculating float32...\n",
      "Epoch 1/10\n",
      "1231/1231 [==============================] - 80s 60ms/step - loss: 0.7780 - accuracy: 0.7166 - val_loss: 0.6804 - val_accuracy: 0.6913\n",
      "Epoch 2/10\n",
      "1231/1231 [==============================] - 77s 62ms/step - loss: 0.5864 - accuracy: 0.7480 - val_loss: 0.5795 - val_accuracy: 0.7470\n",
      "Epoch 3/10\n",
      "1231/1231 [==============================] - 69s 56ms/step - loss: 0.5529 - accuracy: 0.7549 - val_loss: 0.5729 - val_accuracy: 0.7399\n",
      "Epoch 4/10\n",
      "1231/1231 [==============================] - 77s 63ms/step - loss: 0.5310 - accuracy: 0.7656 - val_loss: 0.5423 - val_accuracy: 0.7565\n",
      "Epoch 5/10\n",
      "1231/1231 [==============================] - 76s 61ms/step - loss: 0.5127 - accuracy: 0.7769 - val_loss: 0.6587 - val_accuracy: 0.7314\n",
      "Epoch 6/10\n",
      "1231/1231 [==============================] - 74s 60ms/step - loss: 0.4962 - accuracy: 0.7872 - val_loss: 0.5507 - val_accuracy: 0.7580\n",
      "Epoch 7/10\n",
      "1231/1231 [==============================] - 59s 48ms/step - loss: 0.4816 - accuracy: 0.7977 - val_loss: 0.5335 - val_accuracy: 0.7703\n",
      "Epoch 8/10\n",
      "1231/1231 [==============================] - 59s 48ms/step - loss: 0.4664 - accuracy: 0.8093 - val_loss: 0.5889 - val_accuracy: 0.7571\n",
      "Epoch 9/10\n",
      "1231/1231 [==============================] - 70s 57ms/step - loss: 0.4513 - accuracy: 0.8213 - val_loss: 0.5326 - val_accuracy: 0.7762\n",
      "Epoch 10/10\n",
      "1231/1231 [==============================] - 69s 56ms/step - loss: 0.4363 - accuracy: 0.8337 - val_loss: 0.5284 - val_accuracy: 0.7754\n",
      "6250/6250 [==============================] - 43s 7ms/step - loss: 0.5277 - accuracy: 0.7753\n",
      "Seq Length 104, Wheel 0, Pin 24: Test Loss: 0.5277191996574402, Test Accuracy: 0.7753099799156189\n"
     ]
    },
    {
     "name": "stderr",
     "output_type": "stream",
     "text": [
      "100%|██████████| 100/100 [00:03<00:00, 26.54it/s]\n"
     ]
    },
    {
     "name": "stdout",
     "output_type": "stream",
     "text": [
      "Calculating float32...\n",
      "Epoch 1/10\n",
      "1231/1231 [==============================] - 80s 60ms/step - loss: 0.7662 - accuracy: 0.7184 - val_loss: 0.6331 - val_accuracy: 0.7291\n",
      "Epoch 2/10\n",
      "1231/1231 [==============================] - 76s 62ms/step - loss: 0.5829 - accuracy: 0.7482 - val_loss: 0.5836 - val_accuracy: 0.7408\n",
      "Epoch 3/10\n",
      "1231/1231 [==============================] - 76s 62ms/step - loss: 0.5504 - accuracy: 0.7557 - val_loss: 0.5653 - val_accuracy: 0.7429\n",
      "Epoch 4/10\n",
      "1231/1231 [==============================] - 75s 61ms/step - loss: 0.5296 - accuracy: 0.7659 - val_loss: 0.8482 - val_accuracy: 0.6422\n",
      "Epoch 5/10\n",
      "1231/1231 [==============================] - 77s 62ms/step - loss: 0.5123 - accuracy: 0.7770 - val_loss: 0.5587 - val_accuracy: 0.7598\n",
      "Epoch 6/10\n",
      "1231/1231 [==============================] - 75s 61ms/step - loss: 0.4952 - accuracy: 0.7877 - val_loss: 0.5761 - val_accuracy: 0.7421\n",
      "Epoch 7/10\n",
      "1231/1231 [==============================] - 77s 62ms/step - loss: 0.4789 - accuracy: 0.7993 - val_loss: 0.5142 - val_accuracy: 0.7752\n",
      "Epoch 8/10\n",
      "1231/1231 [==============================] - 76s 62ms/step - loss: 0.4632 - accuracy: 0.8107 - val_loss: 0.5259 - val_accuracy: 0.7703\n",
      "Epoch 9/10\n",
      "1231/1231 [==============================] - 76s 62ms/step - loss: 0.4477 - accuracy: 0.8221 - val_loss: 0.5485 - val_accuracy: 0.7710\n",
      "Epoch 10/10\n",
      "1231/1231 [==============================] - 76s 62ms/step - loss: 0.4326 - accuracy: 0.8350 - val_loss: 0.5407 - val_accuracy: 0.7705\n",
      "6250/6250 [==============================] - 43s 7ms/step - loss: 0.5406 - accuracy: 0.7717\n",
      "Seq Length 104, Wheel 0, Pin 25: Test Loss: 0.5405946969985962, Test Accuracy: 0.7716749906539917\n"
     ]
    }
   ],
   "source": [
    "import numpy as np\n",
    "import pandas as pd\n",
    "import tensorflow as tf\n",
    "from sklearn.model_selection import train_test_split\n",
    "from tensorflow.keras import layers, models, callbacks, optimizers\n",
    "from tensorflow.keras.regularizers import l2\n",
    "import gc\n",
    "import os\n",
    "INPUT_SIZE = 52\n",
    "PATH_MODELS =os.path.join(PATH_MODELS_PARENT,f\"models_seq_{INPUT_SIZE}\")\n",
    "os.makedirs(PATH_MODELS, exist_ok=True)\n",
    "pinwheel_sizes = [26]\n",
    "\n",
    "cumulative_sizes = np.cumsum([0] + pinwheel_sizes)\n",
    "\n",
    "\n",
    "model_accuracies = []\n",
    "\n",
    "# Loop over each sequence length\n",
    "seq_len = INPUT_SIZE\n",
    "# Iterate over each wheel\n",
    "for wheel, (start_pin, end_pin) in enumerate(zip(cumulative_sizes, cumulative_sizes[1:])):\n",
    "    train_all_pins = False  # Flag to determine if all pins should be trained\n",
    "\n",
    "    # Iterate over each pin in the current wheel\n",
    "    for pin in range(20, end_pin):\n",
    "        while True:\n",
    "            # Extract the target values for the current pin\n",
    "            x, y = load_partial_data(100,10000)\n",
    "\n",
    "            targets = y[:, pin]\n",
    "            # Split the data into training and testing sets\n",
    "            X_train, X_test, y_train, y_test = train_test_split(x, targets, test_size=0.2, random_state=17)\n",
    "\n",
    "            # Create and compile the ResNet model\n",
    "            model_pin = make_resnet(seq_len, num_filters=52, depth=5, num_outputs=1)\n",
    "            model_pin.compile(optimizer=optimizers.Adam(), loss='binary_crossentropy', metrics=['accuracy'])\n",
    "\n",
    "            # Setup callbacks for model saving and learning rate scheduling\n",
    "            checkpoint_cb_pin = callbacks.ModelCheckpoint(PATH_MODELS+f'/best_model_wheel_{wheel}_pin_{pin}.h5', save_best_only=True)\n",
    "            lr_scheduler_cb_pin = callbacks.LearningRateScheduler(lambda epoch: 1e-3 * 0.95 ** epoch)\n",
    "\n",
    "            # Train the model\n",
    "            history_pin = model_pin.fit(X_train, y_train, batch_size=520, epochs=10, validation_split=0.2, callbacks=[checkpoint_cb_pin, lr_scheduler_cb_pin])\n",
    "            # Evaluate the model on the test set\n",
    "            test_loss_pin, test_accuracy_pin = model_pin.evaluate(X_test, y_test)\n",
    "            print(f\"Seq Length {seq_len}, Wheel {wheel}, Pin {pin}: Test Loss: {test_loss_pin}, Test Accuracy: {test_accuracy_pin}\")\n",
    "\n",
    "            # Check if the current pin is the first pin\n",
    "            if pin == start_pin:\n",
    "                # If the accuracy is higher than 0.6, set the flag to train all pins\n",
    "                if test_accuracy_pin > 0.67:\n",
    "                    train_all_pins = True\n",
    "                else:\n",
    "                    break  # Skip training the remaining pins for this wheel\n",
    "            #retraining for pins vs low accuracy        \n",
    "            if test_accuracy_pin > 0.77:\n",
    "\n",
    "                # Record the model's accuracy if it's the first pin or if all pins are being trained\n",
    "                if train_all_pins or pin == start_pin:\n",
    "                    model_accuracies.append({\n",
    "                        'Sequence Length': seq_len,\n",
    "                        'Wheel Number': wheel,\n",
    "                        'Pin Number': pin,\n",
    "                        'Accuracy': test_accuracy_pin\n",
    "                    })\n",
    "\n",
    "                    # Save the final model\n",
    "                    model_pin.save(PATH_MODELS+f'/best_model_wheel_{wheel}_pin_{pin}.h5')\n",
    "\n",
    "                # Clear the TensorFlow session and collect garbage to free memory\n",
    "                tf.keras.backend.clear_session()\n",
    "                gc.collect()\n",
    "                break\n",
    "\n",
    "            \n",
    "# Convert the list of accuracies to a DataFrame\n",
    "accuracy_df = pd.DataFrame(model_accuracies)\n",
    "\n",
    "# Save the DataFrame to an Excel file\n",
    "accuracy_df.to_excel('model_accuracies.xlsx', index=False)"
   ]
  },
  {
   "cell_type": "code",
   "execution_count": null,
   "metadata": {},
   "outputs": [],
   "source": [
    "# "
   ]
  }
 ],
 "metadata": {
  "kernelspec": {
   "display_name": "Python 3",
   "language": "python",
   "name": "python3"
  },
  "language_info": {
   "codemirror_mode": {
    "name": "ipython",
    "version": 3
   },
   "file_extension": ".py",
   "mimetype": "text/x-python",
   "name": "python",
   "nbconvert_exporter": "python",
   "pygments_lexer": "ipython3",
   "version": "3.6.13"
  }
 },
 "nbformat": 4,
 "nbformat_minor": 1
}
